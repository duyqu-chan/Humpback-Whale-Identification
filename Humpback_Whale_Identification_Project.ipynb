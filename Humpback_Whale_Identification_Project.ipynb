{
  "nbformat": 4,
  "nbformat_minor": 0,
  "metadata": {
    "kernelspec": {
      "display_name": "Python 3",
      "language": "python",
      "name": "python3"
    },
    "language_info": {
      "codemirror_mode": {
        "name": "ipython",
        "version": 3
      },
      "file_extension": ".py",
      "mimetype": "text/x-python",
      "name": "python",
      "nbconvert_exporter": "python",
      "pygments_lexer": "ipython3",
      "version": "3.7.3"
    },
    "colab": {
      "name": "Humpback Whale Identification Project.ipynb",
      "version": "0.3.2",
      "provenance": [],
      "include_colab_link": true
    }
  },
  "cells": [
    {
      "cell_type": "markdown",
      "metadata": {
        "id": "view-in-github",
        "colab_type": "text"
      },
      "source": [
        "<a href=\"https://colab.research.google.com/github/duyqu-chan/Humpback-Whale-Identification/blob/master/Humpback_Whale_Identification_Project.ipynb\" target=\"_parent\"><img src=\"https://colab.research.google.com/assets/colab-badge.svg\" alt=\"Open In Colab\"/></a>"
      ]
    },
    {
      "cell_type": "markdown",
      "metadata": {
        "id": "lKBMPMaPrh0O",
        "colab_type": "text"
      },
      "source": [
        "# Humpback Whale Identification with Convolutional Neural Networks\n",
        "\n",
        "## Capstone Project for Big Data Analytics Masters Program, MEF University\n",
        "\n",
        "Duygu Can\n",
        "\n",
        "November, 2018"
      ]
    },
    {
      "cell_type": "markdown",
      "metadata": {
        "id": "InulQlGIrh0Q",
        "colab_type": "text"
      },
      "source": [
        "Let's first import required libraries for the project."
      ]
    },
    {
      "cell_type": "code",
      "metadata": {
        "id": "mU6OaxG-rh0R",
        "colab_type": "code",
        "colab": {},
        "outputId": "9276b875-7366-40ad-dec6-16d28c29f76e"
      },
      "source": [
        "from __future__ import print_function\n",
        "%matplotlib inline\n",
        "import pandas as pd\n",
        "import numpy as np\n",
        "import matplotlib.pyplot as plt\n",
        "from skimage.io import imread\n",
        "import numpy as np\n",
        "from collections import Counter\n",
        "import seaborn as sns\n",
        "from sklearn.preprocessing import LabelEncoder\n",
        "from PIL import Image\n",
        "from PIL import ImageStat\n",
        "import pickle\n",
        "import tensorflow as tf\n",
        "from keras.preprocessing.image import img_to_array,array_to_img\n",
        "from scipy.ndimage import affine_transform\n",
        "from pylab import *\n",
        "from keras.utils.np_utils import to_categorical\n",
        "from sklearn.preprocessing import StandardScaler\n",
        "#import imagehash\n",
        "from sklearn.model_selection import train_test_split\n",
        "from keras.models import Sequential\n",
        "from keras.layers import Dense, Dropout, Flatten,  BatchNormalization, Conv2D, MaxPooling2D\n",
        "from keras.utils import plot_model\n",
        "#import pydot\n",
        "from keras.utils import np_utils\n",
        "from sklearn.preprocessing import LabelEncoder,OneHotEncoder\n",
        "from keras.preprocessing.image import ImageDataGenerator\n",
        "import keras\n",
        "from keras.callbacks import LearningRateScheduler\n",
        "from keras.applications.resnet50 import ResNet50\n",
        "from sklearn.preprocessing import MinMaxScaler\n",
        "#from scipy.ndimage.interpolation import affine_transform\n",
        "from sklearn.metrics import confusion_matrix\n",
        "from keras.models import load_model\n",
        "from keras.callbacks import ModelCheckpoint"
      ],
      "execution_count": 0,
      "outputs": [
        {
          "output_type": "stream",
          "text": [
            "D:\\ProgramData\\Anaconda3\\lib\\site-packages\\h5py\\__init__.py:36: FutureWarning: Conversion of the second argument of issubdtype from `float` to `np.floating` is deprecated. In future, it will be treated as `np.float64 == np.dtype(float).type`.\n",
            "  from ._conv import register_converters as _register_converters\n",
            "Using TensorFlow backend.\n"
          ],
          "name": "stderr"
        }
      ]
    },
    {
      "cell_type": "markdown",
      "metadata": {
        "id": "XxIrlRYUrh0a",
        "colab_type": "text"
      },
      "source": [
        "During development of the code, obtaining reproducible results for comparision is essential. This is the only way we can compare results from different runs and determine which parameter set gives best result. So following code snipet is borrowed from [Keras FAQ](https://keras.io/getting-started/faq/#how-can-i-obtain-reproducible-results-using-keras-during-development)."
      ]
    },
    {
      "cell_type": "code",
      "metadata": {
        "id": "ZnL-N9Mirh0c",
        "colab_type": "code",
        "colab": {}
      },
      "source": [
        "import numpy as np\n",
        "import tensorflow as tf\n",
        "import random as rn\n",
        "\n",
        "# The below is necessary in Python 3.2.3 onwards to\n",
        "# have reproducible behavior for certain hash-based operations.\n",
        "# See these references for further details:\n",
        "# https://docs.python.org/3.4/using/cmdline.html#envvar-PYTHONHASHSEED\n",
        "# https://github.com/keras-team/keras/issues/2280#issuecomment-306959926\n",
        "\n",
        "import os\n",
        "os.environ['PYTHONHASHSEED'] = '0'\n",
        "\n",
        "# The below is necessary for starting Numpy generated random numbers\n",
        "# in a well-defined initial state.\n",
        "\n",
        "np.random.seed(42)\n",
        "\n",
        "# The below is necessary for starting core Python generated random numbers\n",
        "# in a well-defined state.\n",
        "\n",
        "rn.seed(123)\n",
        "\n",
        "# Force TensorFlow to use single thread.\n",
        "# Multiple threads are a potential source of\n",
        "# non-reproducible results.\n",
        "# For further details, see: https://stackoverflow.com/questions/42022950/which-seeds-have-to-be-set-where-to-realize-100-reproducibility-of-training-res\n",
        "\n",
        "session_conf = tf.ConfigProto(intra_op_parallelism_threads=1, inter_op_parallelism_threads=1)\n",
        "\n",
        "from keras import backend as K\n",
        "\n",
        "# The below tf.set_random_seed() will make random number generation\n",
        "# in the TensorFlow backend have a well-defined initial state.\n",
        "# For further details, see: https://www.tensorflow.org/api_docs/python/tf/set_random_seed\n",
        "\n",
        "tf.set_random_seed(1234)\n",
        "\n",
        "sess = tf.Session(graph=tf.get_default_graph(), config=session_conf)\n",
        "K.set_session(sess)"
      ],
      "execution_count": 0,
      "outputs": []
    },
    {
      "cell_type": "markdown",
      "metadata": {
        "id": "93J6bsRHrh0f",
        "colab_type": "text"
      },
      "source": [
        "## About the Dataset\n",
        "\n",
        "There are 9850 images in the train set and 15610 in the test set. Unfortunately test set is not labelled, so we have to split train set for testing and validation."
      ]
    },
    {
      "cell_type": "code",
      "metadata": {
        "id": "wj3l865Wrh0g",
        "colab_type": "code",
        "colab": {},
        "outputId": "5d42a437-ff77-43a3-fc38-beebe255fb54"
      },
      "source": [
        "print(len(os.listdir(\"../input/train\")))\n",
        "#print(len(os.listdir(\"../input/test\")))"
      ],
      "execution_count": 0,
      "outputs": [
        {
          "output_type": "error",
          "ename": "FileNotFoundError",
          "evalue": "[WinError 3] Sistem belirtilen yolu bulamıyor: '../input/train'",
          "traceback": [
            "\u001b[1;31m---------------------------------------------------------------------------\u001b[0m",
            "\u001b[1;31mFileNotFoundError\u001b[0m                         Traceback (most recent call last)",
            "\u001b[1;32m<ipython-input-3-85a8b403b5c8>\u001b[0m in \u001b[0;36m<module>\u001b[1;34m()\u001b[0m\n\u001b[1;32m----> 1\u001b[1;33m \u001b[0mprint\u001b[0m\u001b[1;33m(\u001b[0m\u001b[0mlen\u001b[0m\u001b[1;33m(\u001b[0m\u001b[0mos\u001b[0m\u001b[1;33m.\u001b[0m\u001b[0mlistdir\u001b[0m\u001b[1;33m(\u001b[0m\u001b[1;34m\"../input/train\"\u001b[0m\u001b[1;33m)\u001b[0m\u001b[1;33m)\u001b[0m\u001b[1;33m)\u001b[0m\u001b[1;33m\u001b[0m\u001b[0m\n\u001b[0m\u001b[0;32m      2\u001b[0m \u001b[1;31m#print(len(os.listdir(\"../input/test\")))\u001b[0m\u001b[1;33m\u001b[0m\u001b[1;33m\u001b[0m\u001b[0m\n",
            "\u001b[1;31mFileNotFoundError\u001b[0m: [WinError 3] Sistem belirtilen yolu bulamıyor: '../input/train'"
          ]
        }
      ]
    },
    {
      "cell_type": "markdown",
      "metadata": {
        "id": "rRsnA9-0rh0m",
        "colab_type": "text"
      },
      "source": [
        "Kaggle provided an Excel file, train.csv, which associates image names with whale IDs of the training set."
      ]
    },
    {
      "cell_type": "code",
      "metadata": {
        "id": "nYxJFoPVrh0n",
        "colab_type": "code",
        "colab": {}
      },
      "source": [
        "map = pd.read_csv(\"../input/train.csv\")\n",
        "map.head()"
      ],
      "execution_count": 0,
      "outputs": []
    },
    {
      "cell_type": "markdown",
      "metadata": {
        "id": "kYb0TtSMrh0q",
        "colab_type": "text"
      },
      "source": [
        "Some examples images from the dataset can be seen below."
      ]
    },
    {
      "cell_type": "code",
      "metadata": {
        "id": "XcelQe6crh0r",
        "colab_type": "code",
        "colab": {}
      },
      "source": [
        "randomRows = map.sample(frac=1.)[:10] # randomly choose 8 rows of the .csv file\n",
        "filenames = list(randomRows['Image']) # convert Image column of the dataframe to filename list\n",
        "labels = list(randomRows['Id']) # convert ID column of the dataframe to filename list\n",
        "images = [imread(f'../input/train/{filename}') for filename in filenames] # using formatted string for changing filenames\n",
        "                                                                      # create a list of arrays of rantomly chosen 10 images\n",
        "figure = plt.figure(figsize=(20, 10)) # set figure size to 8 inches x 6 inches\n",
        "rows = 2 # define # of rows\n",
        "cols = 5 # define # of columns\n",
        "\n",
        "for i in range(len(images)): # loop over images\n",
        "    subplot = figure.add_subplot(rows, cols, i + 1) # add subplots to rows x columns figure grid\n",
        "    subplot.axis('Off') #turn-off axis\n",
        "    subplot.set_title(labels[i], fontsize=14) # set titles\n",
        "    plt.imshow(images[i]) # show images\n",
        "    \n",
        "figure.savefig(\"../figures/flukes.png\")"
      ],
      "execution_count": 0,
      "outputs": []
    },
    {
      "cell_type": "markdown",
      "metadata": {
        "id": "VyeOfNk_rh0v",
        "colab_type": "text"
      },
      "source": [
        "Notice that some of the images are black and white, while some of them are colored. The image sizes also vary. Not all of them are tagged with an unique ID, those that are not listed in the whale database are tagged as *new_whale*. Including those unspecified whales and other individual animals, there are 4251 different categories in the dataset. Unfortunately there are categories which contains only one image. Since some classes are underrepresented in the dataset, some serious data augmentation methods must be applied.\n",
        "\n",
        "There are 4251 different whale IDs including *new whale*. Unfortunately those classes are pretty imbalanced with respect to the number images they contain. Below, there can be seen each category and the number of images belonging to that category. For the sake of simplicity, I will constraint the problem to those categories which contain 20 and more images."
      ]
    },
    {
      "cell_type": "code",
      "metadata": {
        "id": "KEDWfsJSrh0w",
        "colab_type": "code",
        "colab": {}
      },
      "source": [
        "def is_gray_scale(p):\n",
        "    \"\"\"Adapted from https://stackoverflow.com/questions/23660929/how-to-check-whether-a-jpeg-image-is-color-or-gray-scale-using-only-python-stdli\"\"\"\n",
        "    img = Image.open(f'../input/train/{p}')\n",
        "    img = img.convert('RGB')\n",
        "    width,height = img.size\n",
        "    for i in range(width):\n",
        "        for j in range(height):\n",
        "            r,g,b = img.getpixel((i,j))\n",
        "            if r != g != b: return False\n",
        "    return True\n",
        "percentage = 0 #initialize %\n",
        "N = 5 #number of samples\n",
        "for i in range(N):\n",
        "    is_gray = [is_gray_scale(i) for i in map['Image'].sample(frac=0.01)]\n",
        "    percentage = percentage + sum([i for i in is_gray]) / len([i for i in is_gray]) * 100 #add %'s of different samples up\n",
        "    \n",
        "percentage = round(percentage/N,2) #avarage the percentage sum\n",
        "\n",
        "print(f\" Nearly {percentage}% of training images are grayscaled\")"
      ],
      "execution_count": 0,
      "outputs": []
    },
    {
      "cell_type": "code",
      "metadata": {
        "id": "3rK1pGYTrh0z",
        "colab_type": "code",
        "colab": {}
      },
      "source": [
        "catNumber = len(map['Id'].unique()) # number of unique categories are counted\n",
        "print(f'Number of categories: {catNumber}')# and printed\n",
        "map['Id'].value_counts() # number of images in each class is printed"
      ],
      "execution_count": 0,
      "outputs": []
    },
    {
      "cell_type": "markdown",
      "metadata": {
        "id": "7Q8A67R8rh06",
        "colab_type": "text"
      },
      "source": [
        "Lets observe distribution of the number of images in different categories."
      ]
    },
    {
      "cell_type": "code",
      "metadata": {
        "id": "3Qe_mKDLrh08",
        "colab_type": "code",
        "colab": {}
      },
      "source": [
        "le = LabelEncoder() \n",
        "Ids = le.fit_transform(map['Id']) # assign ordinal levels to categorical IDs\n",
        "fig = plt.figure(figsize = (8, 6))\n",
        "sns.distplot(Ids, vertical = True)\n",
        "plt.title('Categorical Distribution')\n",
        "plt.ylabel(\"Ordinal Whale IDs\")\n",
        "plt.xlabel(\"PDF\")\n",
        "plt.show() # plot the distribution\n",
        "fig.savefig(\"../figures/ID_dist.png\")"
      ],
      "execution_count": 0,
      "outputs": []
    },
    {
      "cell_type": "markdown",
      "metadata": {
        "id": "AQrgByvWrh1D",
        "colab_type": "text"
      },
      "source": [
        "The most frequent category, *new_whale* appears with 810 instances and then *w_1287fbc* follows it with a frequency of 34. From the sorted list below, we learn that there are 2220 distinct classes with only one image, 1034 classes with two and so on... Notice that the only class that contains 810 images is the *new_whale* class. This class contains all other whale fluke images which do not belong to any member of the whale fluke database, so the images of this class do not share common features."
      ]
    },
    {
      "cell_type": "code",
      "metadata": {
        "id": "FvIWhrhErh1E",
        "colab_type": "code",
        "colab": {}
      },
      "source": [
        "from collections import Counter\n",
        "whale_dist = Counter(map['Id'].value_counts().values)\n",
        "print(\"\\n(# of images, # of classes containing those # of images)\\n\")\n",
        "print(sorted(whale_dist.items()))"
      ],
      "execution_count": 0,
      "outputs": []
    },
    {
      "cell_type": "markdown",
      "metadata": {
        "id": "-b2uaHrHrh1O",
        "colab_type": "text"
      },
      "source": [
        "Number of categories by the number of images are visualized below. "
      ]
    },
    {
      "cell_type": "code",
      "metadata": {
        "id": "x5Ju3l1hrh1P",
        "colab_type": "code",
        "colab": {}
      },
      "source": [
        "fig = plt.figure(figsize = (8, 6))\n",
        "plt.bar(range(len(whale_dist)), list(whale_dist.values())[::-1], align='center')\n",
        "plt.xticks(range(len(whale_dist)), list(whale_dist.keys())[::-1])\n",
        "plt.title(\"Number of Categories by Number of Images\")\n",
        "plt.xlabel('Number of Images')\n",
        "plt.ylabel('Number of Categories')\n",
        "plt.show()\n",
        "fig.savefig('../figures/Cat_by_Number.png')"
      ],
      "execution_count": 0,
      "outputs": []
    },
    {
      "cell_type": "code",
      "metadata": {
        "id": "9yggyeFcrh1W",
        "colab_type": "code",
        "colab": {}
      },
      "source": [
        "filenames = map['Image'].sample(frac=0.25)\n",
        "images={filename: plt.imread(f'../input/train/{filename}') for filename in filenames}\n",
        "img_sizes = Counter([value.shape[:2] for value in images.values()])\n",
        "\n",
        "size, freq = zip(*Counter({i: v for i, v in img_sizes.items() if v > 1}).most_common(20))\n",
        "\n",
        "fig = plt.figure(figsize=(8, 6))\n",
        "\n",
        "plt.bar(range(len(freq)), list(freq), align='center')\n",
        "plt.xticks(range(len(size)), list(size), rotation=70)\n",
        "plt.title(\"Image size frequencies (where freq > 1)\")\n",
        "plt.xlabel(\"Image Size\")\n",
        "plt.ylabel(\"Count\")\n",
        "plt.show()\n",
        "fig.savefig('../figures/imgSize_Dist.png')"
      ],
      "execution_count": 0,
      "outputs": []
    },
    {
      "cell_type": "markdown",
      "metadata": {
        "id": "uO4WFIj5rh1a",
        "colab_type": "text"
      },
      "source": [
        "Below whale categories with 20 or more images can be observed. Notice that majority of the classes contains 20 - 25 fluke photos while just one whale ID with more than 30 images is present."
      ]
    },
    {
      "cell_type": "code",
      "metadata": {
        "id": "SfHLVGNFrh1b",
        "colab_type": "code",
        "colab": {}
      },
      "source": [
        "top20 = pd.DataFrame(map['Id'].value_counts().head(12))\n",
        "top20.reset_index(inplace=True)\n",
        "top20.columns = ['ID','Counts']\n",
        "top20 = top20.drop(top20.index[0])\n",
        "fig = plt.figure(figsize = (8, 6))\n",
        "plt.title('Whale Categories with 20 or more Images')\n",
        "sns.set_color_codes(\"pastel\")\n",
        "sns.barplot(x=\"ID\", y=\"Counts\", data=top20,label=\"Count\")\n",
        "locs, labels = plt.xticks()\n",
        "plt.setp(labels, rotation=45)\n",
        "plt.show()\n",
        "fig.savefig('../figures/top20.png')"
      ],
      "execution_count": 0,
      "outputs": []
    },
    {
      "cell_type": "markdown",
      "metadata": {
        "id": "wxSTR1BWrh1f",
        "colab_type": "text"
      },
      "source": [
        "When classes are constrained by a lowerbound of 20 for number of images we are left with 11 whale IDs and total 259 images in the dataset."
      ]
    },
    {
      "cell_type": "code",
      "metadata": {
        "id": "yikDPgW7rh1g",
        "colab_type": "code",
        "colab": {}
      },
      "source": [
        "map20 = map[map[\"Id\"].isin(top20.ID)]\n",
        "#map20.Id.unique() # check name of classes\n",
        "map20.shape"
      ],
      "execution_count": 0,
      "outputs": []
    },
    {
      "cell_type": "code",
      "metadata": {
        "id": "7oRDrP8zrh1j",
        "colab_type": "code",
        "colab": {}
      },
      "source": [
        "map20.describe()"
      ],
      "execution_count": 0,
      "outputs": []
    },
    {
      "cell_type": "code",
      "metadata": {
        "id": "7WXJnkPjrh1m",
        "colab_type": "code",
        "colab": {}
      },
      "source": [
        "map20[\"Id\"].unique()"
      ],
      "execution_count": 0,
      "outputs": []
    },
    {
      "cell_type": "code",
      "metadata": {
        "id": "UKOlIvatrh1t",
        "colab_type": "code",
        "colab": {}
      },
      "source": [
        "filenames = map20['Image']#.sample(frac=0.25)\n",
        "images={filename: plt.imread(f'../input/train/{filename}') for filename in filenames}\n",
        "img_sizes = Counter([value.shape[:2] for value in images.values()])\n",
        "\n",
        "size, freq = zip(*Counter({i: v for i, v in img_sizes.items() if v > 1}).most_common(20))\n",
        "\n",
        "fig = plt.figure(figsize=(8, 6))\n",
        "\n",
        "plt.bar(range(len(freq)), list(freq), align='center')\n",
        "plt.xticks(range(len(size)), list(size), rotation=70)\n",
        "plt.title(\"Image size frequencies (where freq > 1)\")\n",
        "plt.xlabel(\"Image Size\")\n",
        "plt.ylabel(\"Count\")\n",
        "plt.show()\n",
        "fig.savefig('../figures/imgSize_Dist_cons.png')"
      ],
      "execution_count": 0,
      "outputs": []
    },
    {
      "cell_type": "markdown",
      "metadata": {
        "id": "3LiiMr3Brh1_",
        "colab_type": "text"
      },
      "source": [
        "### Outliers\n",
        "\n",
        "According to photo upload [instructions](https://happywhale.com/instructions) of the [Happy Whale website](https://happywhale.com), the flukes must be photographed when the whale dives and when their tail rises above the waterline. Besides, underside the flukes must be seen in those photos. Unfortunately, some of the images in the training set do not meet this criteria. Images of whales, broken fragments of dead whale flukes, photos taken at weird angles, photos of multiple animals, etc. are all excluded. Upon visual inspection, 47 outliers are found among all training images and file names stored in a text file.  There are two outlier images from two different classes in the constrained dataframe."
      ]
    },
    {
      "cell_type": "code",
      "metadata": {
        "id": "3tgDquESrh2A",
        "colab_type": "code",
        "colab": {}
      },
      "source": [
        "with open(\"../input/Outliers.txt\") as f1: # Open file of image names to be excluded\n",
        "    outliers = f1.read().splitlines()  \n",
        "outlierSET = set(outliers) #convert list of names to set to avoid repetitive names\n",
        "outliers = list(outlierSET) #re-convert set to list of names. \n",
        "#len(outliers) # total number of outliers = 47\n",
        "allExclude = list(map20[map20[\"Image\"].isin(outliers)].Image)\n",
        "toBeExcluded = [imread(f'../input/train/{filename}') for filename in allExclude]\n",
        "figure = plt.figure(figsize=(20, 40)) # set figure size to 8 inches x 6 inches\n",
        "rows = 1 # define # of rows\n",
        "cols = 2 # define # of columns\n",
        "for i in range(len(toBeExcluded)): # loop over images\n",
        "    subplot = figure.add_subplot(rows, cols, i + 1) # add subplots to rows x columns figure grid\n",
        "    subplot.axis('Off') #turn-off axis\n",
        "    subplot.set_title(allExclude[i], fontsize=14) # set titles\n",
        "    plt.imshow(toBeExcluded[i])# show images       \n",
        "figure.savefig(\"../figures/toBeExcluded2.png\")"
      ],
      "execution_count": 0,
      "outputs": []
    },
    {
      "cell_type": "markdown",
      "metadata": {
        "id": "5pBYC-m4rh2S",
        "colab_type": "text"
      },
      "source": [
        "Indices of the outlier images are found and dropped from the dataframe. We are left with 257 images."
      ]
    },
    {
      "cell_type": "code",
      "metadata": {
        "id": "BYyqJ3Worh2U",
        "colab_type": "code",
        "colab": {}
      },
      "source": [
        "omitIndices = []\n",
        "for p in allExclude:\n",
        "    #print(p)\n",
        "    index = list(map20[\"Image\"]).index(p)\n",
        "    omitIndices.append(index)\n",
        "map20 = map20.drop(map20.index[omitIndices])  \n",
        "len(map20)"
      ],
      "execution_count": 0,
      "outputs": []
    },
    {
      "cell_type": "markdown",
      "metadata": {
        "id": "emDVJVucrh2b",
        "colab_type": "text"
      },
      "source": [
        "There are three images which has to be rotated in the constrained dataframe."
      ]
    },
    {
      "cell_type": "code",
      "metadata": {
        "id": "4JvMwlgGrh2d",
        "colab_type": "code",
        "colab": {}
      },
      "source": [
        "with open('../input/rotate.txt') as f: # Open Piotte's findings\n",
        "    rotationList = f.read().splitlines() \n",
        "with open(\"../input/extendRotate.txt\") as f1: # Open mine\n",
        "    allUpsdDwn = f1.read().splitlines() \n",
        "totalUpsnDwn = set(rotationList).union(allUpsdDwn) #convert list of names to set to avoid repetitive names\n",
        "totalUpsnDwn = list(totalUpsnDwn)\n",
        "#map20[map20[\"Image\"].isin(totalUpsnDwn)]\n",
        "allRotate = list(map20[map20[\"Image\"].isin(totalUpsnDwn)].Image)\n",
        "\n",
        "toBeRotated = [imread(f'../input/train/{filename}') for filename in allRotate]\n",
        "figure = plt.figure(figsize=(20, 40)) # set figure size to 8 inches x 6 inches\n",
        "rows = 1 # define # of rows\n",
        "cols = 3 # define # of columns\n",
        "for i in range(len(toBeRotated)): # loop over images\n",
        "    subplot = figure.add_subplot(rows, cols, i + 1) # add subplots to rows x columns figure grid\n",
        "    subplot.axis('Off') #turn-off axis\n",
        "    subplot.set_title(allRotate[i], fontsize=14) # set titles\n",
        "    plt.imshow(toBeRotated[i])# show images      \n",
        "figure.savefig(\"../figures/toBeRotated.png\")"
      ],
      "execution_count": 0,
      "outputs": []
    },
    {
      "cell_type": "markdown",
      "metadata": {
        "id": "BGr0OyJQrh2k",
        "colab_type": "text"
      },
      "source": [
        "### Cropping Images to Bounding Box\n",
        "\n",
        "Most of the images are cropped tight around the fluke but in some pictures the fluke occupies a small area.Finding focus of interest is said to increase accuracy in image classification. Thus, coordinates that define the rectangular area of the fluke is borrowed from CNN trained *Bounding Box* model of [Martin Piotte](https://www.kaggle.com/martinpiotte/bounding-box-model/notebook). This model is trained on 1000 images and validated on 200 more. The output can be found [here](https://www.kaggle.com/martinpiotte/bounding-box-model/output)."
      ]
    },
    {
      "cell_type": "code",
      "metadata": {
        "id": "WFxtaPA9rh2o",
        "colab_type": "code",
        "colab": {}
      },
      "source": [
        "# Read the bounding box data from the bounding box kernel (see reference above)\n",
        "with open('../input/bounding-box.pickle', 'rb') as f:\n",
        "    p2bb = pickle.load(f)\n",
        "list(p2bb.items())[:5]"
      ],
      "execution_count": 0,
      "outputs": []
    },
    {
      "cell_type": "markdown",
      "metadata": {
        "id": "EaKFcq1lrh2u",
        "colab_type": "text"
      },
      "source": [
        "The crop function gets the image and aimed size as input and returns images cropped to the field of interest (i.e. the fluke)."
      ]
    },
    {
      "cell_type": "markdown",
      "metadata": {
        "id": "BNShDEqprh2w",
        "colab_type": "text"
      },
      "source": [
        "## Checking Bounding Box Boundaries"
      ]
    },
    {
      "cell_type": "markdown",
      "metadata": {
        "id": "3KEs8s7prh2w",
        "colab_type": "text"
      },
      "source": [
        "A function is written to read images."
      ]
    },
    {
      "cell_type": "code",
      "metadata": {
        "id": "fKKWXqgyrh2x",
        "colab_type": "code",
        "colab": {}
      },
      "source": [
        "def readImage(p):\n",
        "    img = Image.open(f\"../input/train/{p}\")\n",
        "    if p in allRotate: \n",
        "        img = img.rotate(180)\n",
        "    #img = imread(f\"data/train/{p}\")\n",
        "    return img"
      ],
      "execution_count": 0,
      "outputs": []
    },
    {
      "cell_type": "markdown",
      "metadata": {
        "id": "bHc63zzNrh20",
        "colab_type": "text"
      },
      "source": [
        "It also automatically rotates the images if the fluke edges are pointing downwards."
      ]
    },
    {
      "cell_type": "code",
      "metadata": {
        "id": "hRDh3KAFrh21",
        "colab_type": "code",
        "colab": {}
      },
      "source": [
        "p = 'f2ec136c.jpg'\n",
        "print(\"Original Image\")\n",
        "plt.imshow(Image.open(f\"../input/train/{p}\"))\n",
        "plt.show()\n",
        "print(\"Flipped Image\")\n",
        "plt.imshow(readImage(p))\n",
        "plt.show()"
      ],
      "execution_count": 0,
      "outputs": []
    },
    {
      "cell_type": "markdown",
      "metadata": {
        "id": "I33Dzruarh24",
        "colab_type": "text"
      },
      "source": [
        "Average aspect ratio of the images in the constrained dataset is found to be 2.09. This value is used as comprassion ratio as the rectangular images are compressed to squares. A marging of error is defined around each image to compansate bounding box errors. Upon experimenting with the borders, 10% of the height for the top and bottom borders, 10% of the width for the left border and 15% of the width again for the right border is choosen to be optimum values that minimizes the cropping errors."
      ]
    },
    {
      "cell_type": "code",
      "metadata": {
        "id": "nyu_PkLUrh25",
        "colab_type": "code",
        "colab": {}
      },
      "source": [
        "aspectRatio = 0\n",
        "for p in map20.Image:\n",
        "    img = readImage(p)\n",
        "    width, height = img.size\n",
        "    aspectRatio += width/height\n",
        "aspectRatio = aspectRatio/len(map20) #take average\n",
        "print(\"Average aspect ratio:\",aspectRatio )"
      ],
      "execution_count": 0,
      "outputs": []
    },
    {
      "cell_type": "code",
      "metadata": {
        "id": "AdRQbmHdrh2-",
        "colab_type": "code",
        "colab": {}
      },
      "source": [
        "def crop(p):\n",
        "    img_shape    = (224,224,1) # The image shape used by the model\n",
        "    anisotropy   = 2.09 # The horizontal compression ratio\n",
        "    margin  = 0.1 # The margin added around the bounding box to compensate for bounding box inaccuracy\n",
        "    # Determine the region of the original image we want to capture based on the bounding box.\n",
        "    x0,y0,x1,y1   = p2bb[p]\n",
        "    # Read the image\n",
        "    p = readImage(p)\n",
        "    #if p in allRotate: BUG FIXED!!! no need to flip since readImage already does!\n",
        "        #img = img.rotate(180)\n",
        "    # Get size\n",
        "    size_x,size_y = p.size\n",
        "    if p in allRotate: x0, y0, x1, y1 = size_x - x1, size_y - y1, size_x - x0, size_y - y0\n",
        "    dx            = x1 - x0\n",
        "    dy            = y1 - y0\n",
        "    x0           -= dx*margin\n",
        "    x1           += dx*1.5*margin + 1\n",
        "    y0           -= dy*margin\n",
        "    y1           += dy*margin + 1\n",
        "    if (x0 < 0): \n",
        "        x0 = 0\n",
        "    if (x1 > size_x):\n",
        "        x1 = size_x\n",
        "    if (y0 < 0): \n",
        "        y0 = 0\n",
        "    if (y1 > size_y): \n",
        "        y1 = size_y\n",
        "    dx            = x1 - x0\n",
        "    dy            = y1 - y0\n",
        "    if dx > dy*anisotropy:\n",
        "        dy  = 0.5*(dx/anisotropy - dy)\n",
        "        y0 -= dy\n",
        "        y1 += dy\n",
        "    else:\n",
        "        dx  = 0.5*(dy*anisotropy - dx)\n",
        "        x0 -= dx\n",
        "        x1 += dx \n",
        "    # Generate the transformation matrix\n",
        "    trans = np.array([[1, 0, -0.5*img_shape[0]], [0, 1, -0.5*img_shape[1]], [0, 0, 1]])\n",
        "    trans = np.dot(np.array([[(y1 - y0)/img_shape[0], 0, 0], [0, (x1 - x0)/img_shape[1], 0], [0, 0, 1]]), trans)\n",
        "    trans = np.dot(np.array([[1, 0, 0.5*(y1 + y0)], [0, 1, 0.5*(x1 + x0)], [0, 0, 1]]), trans)\n",
        "    # Transform to black and white and comvert to numpy array\n",
        "    img   = p.convert('L') #keep 3 channel info for ResNET\n",
        "    img   = img_to_array(img)#img_to_array(img)\n",
        "    # Apply affine transformation\n",
        "    matrix = trans[:2,:2]\n",
        "    offset = trans[:2,2]\n",
        "    img    = img.reshape(img.shape[:-1])#\n",
        "    img    = ndimage.affine_transform(img, matrix, offset, output_shape=img_shape[:-1], order=1, mode='constant', cval=np.average(img))\n",
        "    img    = img.reshape(img_shape)\n",
        "    # Normalize to zero mean and unit variance\n",
        "    img  -= np.mean(img, keepdims=True)\n",
        "    img  /= np.std(img, keepdims=True) + K.epsilon()\n",
        "    return img"
      ],
      "execution_count": 0,
      "outputs": []
    },
    {
      "cell_type": "code",
      "metadata": {
        "id": "h8ZRLwf0rh3C",
        "colab_type": "code",
        "colab": {}
      },
      "source": [
        "def cropRGB(p):\n",
        "    img_shape    = (224,224,3) # The image shape used by the model\n",
        "    anisotropy   = 2.09 # The horizontal compression ratio\n",
        "    margin  = 0.1 # The margin added around the bounding box to compensate for bounding box inaccuracy\n",
        "\n",
        "# Determine the region of the original image we want to capture based on the bounding box.\n",
        "    x0,y0,x1,y1   = p2bb[p]\n",
        "    # Read the image\n",
        "    p = readImage(p)\n",
        "    #if p in allRotate: BUG FIXED!!! no need to flip since readImage already does!\n",
        "        #img = img.rotate(180)\n",
        "    # Get size\n",
        "    size_x,size_y = p.size\n",
        "    \n",
        "    if p in allRotate: x0, y0, x1, y1 = size_x - x1, size_y - y1, size_x - x0, size_y - y0\n",
        "    dx            = x1 - x0\n",
        "    dy            = y1 - y0\n",
        "    x0           -= dx*margin\n",
        "    x1           += dx*1.5*margin + 1\n",
        "    y0           -= dy*margin\n",
        "    y1           += dy*margin + 1\n",
        "    if (x0 < 0): \n",
        "        x0 = 0\n",
        "    if (x1 > size_x):\n",
        "        x1 = size_x\n",
        "    if (y0 < 0): \n",
        "        y0 = 0\n",
        "    if (y1 > size_y): \n",
        "        y1 = size_y\n",
        "    dx            = x1 - x0\n",
        "    dy            = y1 - y0\n",
        "    if dx > dy*anisotropy:\n",
        "        dy  = 0.5*(dx/anisotropy - dy)\n",
        "        y0 -= dy\n",
        "        y1 += dy\n",
        "    else:\n",
        "        dx  = 0.5*(dy*anisotropy - dx)\n",
        "        x0 -= dx\n",
        "        x1 += dx\n",
        "        \n",
        "    # Generate the transformation matrix\n",
        "    trans = np.array([[1, 0, -0.5*img_shape[0]], [0, 1, -0.5*img_shape[1]], [0, 0, 1]])\n",
        "    trans = np.dot(np.array([[(y1 - y0)/img_shape[0], 0, 0], [0, (x1 - x0)/img_shape[1], 0], [0, 0, 1]]), trans)\n",
        "    trans = np.dot(np.array([[1, 0, 0.5*(y1 + y0)], [0, 1, 0.5*(x1 + x0)], [0, 0, 1]]), trans)\n",
        "\n",
        "    # Transform to black and white and comvert to numpy array\n",
        "    img   = p#p.convert('L') #keep 3 channel info for ResNET\n",
        "    img   = img_to_array(img)#img_to_array(img)\n",
        "\n",
        "#split RGB image into 3 channels\n",
        "    r = img[:,:, 0]\n",
        "    g = img[:,:, 1]\n",
        "    b = img[:,:, 2]   \n",
        "    # Apply affine transformation onto each channel\n",
        "    matrix = trans[:2,:2]\n",
        "    offset = trans[:2,2]\n",
        "#red\n",
        "    r    = r.reshape(img.shape[:-1])\n",
        "    r    = affine_transform(r, matrix, offset, output_shape=img_shape[:-1], order=1, mode='nearest', cval=np.average(r))\n",
        "    scaler = MinMaxScaler()\n",
        "    r = scaler.fit_transform(r)\n",
        "    r    = r.reshape(img_shape[:-1])\n",
        "\n",
        "    #green\n",
        "    g = g.reshape(img.shape[:-1])\n",
        "    g = affine_transform(g, matrix, offset, output_shape=img_shape[:-1], order=1, mode='nearest', cval=np.average(g))\n",
        "    g = scaler.fit_transform(g)\n",
        "    g = g.reshape(img_shape[:-1])\n",
        "\n",
        "    #blue\n",
        "    b = b.reshape(img.shape[:-1])\n",
        "    b = affine_transform(b, matrix, offset, output_shape=img_shape[:-1], order=1, mode='nearest', cval=np.average(b))\n",
        "    b = scaler.fit_transform(b)\n",
        "    b = b.reshape(img_shape[:-1])\n",
        "\n",
        "\n",
        "    #combine the channels together\n",
        "    img = np.dstack((r, g, b))\n",
        "    #img  -= np.mean(img, keepdims=True)\n",
        "    #img  /= np.std(img, keepdims=True) + K.epsilon()\n",
        "    \n",
        "    # Normalize each channel to zero mean and unit variance\n",
        "#red\n",
        "    \"\"\"r  -= np.mean(r, keepdims=True)\n",
        "    r  /= np.std(r, keepdims=True) + K.epsilon()\n",
        "    #blue\n",
        "    b  -= np.mean(b, keepdims=True)\n",
        "    b  /= np.std(b, keepdims=True) + K.epsilon()\n",
        "    #green\n",
        "    g  -= np.mean(g, keepdims=True)\n",
        "    g  /= np.std(g, keepdims=True) + K.epsilon()\n",
        "\n",
        "    #combine the channels together\n",
        "    img = np.dstack((r, g, b))\n",
        "    plt.imshow(img)\"\"\"\n",
        "    return img"
      ],
      "execution_count": 0,
      "outputs": []
    },
    {
      "cell_type": "code",
      "metadata": {
        "id": "1aOI5iG5rh3F",
        "colab_type": "code",
        "colab": {}
      },
      "source": [
        "def crop3(p):\n",
        "    img_shape    = (224,224,3) # The image shape used by the model\n",
        "    anisotropy   = 2.09 # The horizontal compression ratio\n",
        "    margin  = 0.1 # The margin added around the bounding box to compensate for bounding box inaccuracy\n",
        "       \n",
        "    # Determine the region of the original image we want to capture based on the bounding box.\n",
        "    x0,y0,x1,y1   = p2bb[p]\n",
        "    # Read the image\n",
        "    p = readImage(p)\n",
        "    #if p in allRotate: BUG FIXED!!! no need to flip since readImage already does!\n",
        "        #img = img.rotate(180)\n",
        "    # Get size\n",
        "    size_x,size_y = p.size\n",
        "    \n",
        "    if p in allRotate: x0, y0, x1, y1 = size_x - x1, size_y - y1, size_x - x0, size_y - y0\n",
        "    dx            = x1 - x0\n",
        "    dy            = y1 - y0\n",
        "    x0           -= dx*margin\n",
        "    x1           += dx*1.5*margin + 1\n",
        "    y0           -= dy*margin\n",
        "    y1           += dy*margin + 1\n",
        "    if (x0 < 0): \n",
        "        x0 = 0\n",
        "    if (x1 > size_x):\n",
        "        x1 = size_x\n",
        "    if (y0 < 0): \n",
        "        y0 = 0\n",
        "    if (y1 > size_y): \n",
        "        y1 = size_y\n",
        "    dx            = x1 - x0\n",
        "    dy            = y1 - y0\n",
        "    if dx > dy*anisotropy:\n",
        "        dy  = 0.5*(dx/anisotropy - dy)\n",
        "        y0 -= dy\n",
        "        y1 += dy\n",
        "    else:\n",
        "        dx  = 0.5*(dy*anisotropy - dx)\n",
        "        x0 -= dx\n",
        "        x1 += dx\n",
        "        \n",
        "    # Generate the transformation matrix\n",
        "    trans = np.array([[1, 0, -0.5*img_shape[0]], [0, 1, -0.5*img_shape[1]], [0, 0, 1]])\n",
        "    trans = np.dot(np.array([[(y1 - y0)/img_shape[0], 0, 0], [0, (x1 - x0)/img_shape[1], 0], [0, 0, 1]]), trans)\n",
        "    trans = np.dot(np.array([[1, 0, 0.5*(y1 + y0)], [0, 1, 0.5*(x1 + x0)], [0, 0, 1]]), trans)\n",
        "\n",
        "    # Transform to black and white and comvert to numpy array\n",
        "    img   = p#.convert('L') #keep 3 channel info for ResNET\n",
        "    #img   = img_to_array(img)#img_to_array(img)\n",
        "    \n",
        "    # Apply affine transformation\n",
        "    matrix = trans[:2,:2]\n",
        "    offset = trans[:2,2]\n",
        "    img    = img.reshape(img.shape)#\n",
        "    img    = ndimage.affine_transform(img, matrix, offset, output_shape=img_shape, order=1, mode='constant', cval=np.average(img))\n",
        "    img    = img.reshape(img_shape)\n",
        "\n",
        "    # Normalize to zero mean and unit variance\n",
        "    img  -= np.mean(img, keepdims=True)\n",
        "    img  /= np.std(img, keepdims=True) + K.epsilon()\n",
        "    return img"
      ],
      "execution_count": 0,
      "outputs": []
    },
    {
      "cell_type": "code",
      "metadata": {
        "id": "GuiU7Nmnrh3I",
        "colab_type": "code",
        "colab": {}
      },
      "source": [
        "img_shape    = (224,224,3) # The image shape used by the model\n",
        "anisotropy   = 2.09 # The horizontal compression ratio\n",
        "margin  = 0.1 # The margin added around the bounding box to compensate for bounding box inaccuracy\n",
        "p = allRotate[0]      \n",
        "    # Determine the region of the original image we want to capture based on the bounding box.\n",
        "x0,y0,x1,y1   = p2bb[p]#bounding box coordinates\n",
        "    # Read the image\n",
        "p = readImage(p)\n",
        "plt.imshow(p)\n",
        "plt.show()\n",
        "    #if p in allRotate: BUG FIXED!!! no need to flip since readImage already does!\n",
        "        #img = img.rotate(180)\n",
        "    # Get size\n",
        "size_x,size_y = p.size\n",
        "    \n",
        "if p in allRotate: x0, y0, x1, y1 = size_x - x1, size_y - y1, size_x - x0, size_y - y0\n",
        "dx            = x1 - x0\n",
        "dy            = y1 - y0\n",
        "x0           -= dx*margin\n",
        "x1           += dx*1.5*margin + 1\n",
        "y0           -= dy*margin\n",
        "y1           += dy*margin + 1\n",
        "if (x0 < 0): \n",
        "    x0 = 0\n",
        "if (x1 > size_x):\n",
        "    x1 = size_x\n",
        "if (y0 < 0): \n",
        "    y0 = 0\n",
        "if (y1 > size_y): \n",
        "    y1 = size_y\n",
        "dx            = x1 - x0\n",
        "dy            = y1 - y0\n",
        "if dx > dy*anisotropy:\n",
        "    dy  = 0.5*(dx/anisotropy - dy)\n",
        "    y0 -= dy\n",
        "    y1 += dy\n",
        "else:\n",
        "    dx  = 0.5*(dy*anisotropy - dx)\n",
        "    x0 -= dx\n",
        "    x1 += dx\n",
        "        \n",
        "    # Generate the transformation matrix\n",
        "trans = np.array([[1, 0, -0.5*img_shape[0]], [0, 1, -0.5*img_shape[1]], [0, 0, 1]])\n",
        "trans = np.dot(np.array([[(y1 - y0)/img_shape[0], 0, 0], [0, (x1 - x0)/img_shape[1], 0], [0, 0, 1]]), trans)\n",
        "trans = np.dot(np.array([[1, 0, 0.5*(y1 + y0)], [0, 1, 0.5*(x1 + x0)], [0, 0, 1]]), trans)\n",
        "\n",
        "# Transform to black and white and comvert to numpy array\n",
        "img   = p#.convert('L') #keep 3 channel info for ResNET\n",
        "img   = img_to_array(img)#img_to_array(img)\n",
        "print(img.ndim)\n",
        "    # Apply affine transformation\n",
        "matrix = trans#[:2,:2]\n",
        "print(matrix.shape)\n",
        "offset = trans[:,2]#:2\n",
        "img    = img.reshape(img.shape)#\n",
        "img    = affine_transform(img, matrix, offset, output_shape=img_shape, order=1, mode='constant', cval=np.average(img))\n",
        "r = img[:,:, 0]\n",
        "plt.imshow(r)\n",
        "plt.show()\n",
        "g = img[:,:, 1]\n",
        "plt.imshow(g)\n",
        "plt.show()\n",
        "b = img[:,:, 2] \n",
        "plt.imshow(b)\n",
        "plt.show()\n",
        "scaler = MinMaxScaler()\n",
        "r = scaler.fit_transform(r)\n",
        "r    = r.reshape(img_shape[:-1])\n",
        "g = scaler.fit_transform(g)\n",
        "g    = g.reshape(img_shape[:-1])\n",
        "b = scaler.fit_transform(b)\n",
        "b    = b.reshape(img_shape[:-1])\n",
        " #combine the channels together\n",
        "img = np.dstack((r, g, b))\n",
        "img    = img.reshape(img_shape)\n",
        "plt.imshow(img)\n",
        "'''    # Normalize to zero mean and unit variance\n",
        "img  -= np.mean(img, keepdims=True)\n",
        "img  /= np.std(img, keepdims=True) + K.epsilon()\n",
        "plt.imshow(img)'''"
      ],
      "execution_count": 0,
      "outputs": []
    },
    {
      "cell_type": "code",
      "metadata": {
        "id": "S35jamVvrh3U",
        "colab_type": "code",
        "colab": {}
      },
      "source": [
        "def to_rgb(gray):\n",
        "    # I think this will be slow\n",
        "    w, h, c = gray.shape\n",
        "    colour = np.empty((w, h, 3), dtype=np.uint8)\n",
        "    colour[:, :, 0] = gray.reshape(w,h)\n",
        "    colour[:, :, 1] = gray.reshape(w,h)\n",
        "    colour[:, :, 2] = gray.reshape(w,h)\n",
        "    return colour"
      ],
      "execution_count": 0,
      "outputs": []
    },
    {
      "cell_type": "markdown",
      "metadata": {
        "id": "-VNRJnsyrh3a",
        "colab_type": "text"
      },
      "source": [
        "p = allRotate[0]\n",
        "img =readImage(p)\n",
        "arr   = img_to_array(img)\n",
        "print(\"original shape:\", arr.shape)\n",
        "img   = img.convert('L')\n",
        "img   = img_to_array(img)\n",
        "\n",
        "print(img.shape[:-1])\n",
        "\n",
        "cropped = crop(p)\n",
        "print(type(cropped))\n",
        "cropped.shape\n",
        "cropped2 = cropRGB(p)\n",
        "print(type(cropped2))\n",
        "#Image.fromarray(cropped, mode = None)\n",
        "#croppedImg.convert('RGB')"
      ]
    },
    {
      "cell_type": "code",
      "metadata": {
        "scrolled": true,
        "id": "_CTcrZqorh3b",
        "colab_type": "code",
        "colab": {}
      },
      "source": [
        "for p in allRotate:\n",
        "    img = readImage(p)\n",
        "    print(\"Original Image\")\n",
        "    plt.imshow(Image.open(f\"../input/train/{p}\"))\n",
        "    plt.show()\n",
        "    print(\"Flipped Image\")\n",
        "    plt.imshow(readImage(p))\n",
        "    plt.show()\n",
        "    print(\"Cropped & Reshaped Version\")\n",
        "    cropped =crop(p)\n",
        "    #plt.imshow(cropped)\n",
        "    plt.imshow(cropped.reshape(img_shape[0], img_shape[1]),cmap = matplotlib.cm.binary)\n",
        "    plt.show()\n",
        "    cropped2 =cropRGB(p)\n",
        "    print(\"Cropped as RGB\")\n",
        "    plt.imshow(cropped2.reshape(img_shape[0], img_shape[1],3),cmap = matplotlib.cm.binary)\n",
        "    plt.show()\n",
        "    cropped3 =crop3(p)\n",
        "    print(\"Cropped 3D\")\n",
        "    plt.imshow(cropped3.reshape(img_shape[0], img_shape[1],3),cmap = matplotlib.cm.binary)\n",
        "    plt.show()"
      ],
      "execution_count": 0,
      "outputs": []
    },
    {
      "cell_type": "code",
      "metadata": {
        "scrolled": false,
        "id": "zY1xm3Hzrh3e",
        "colab_type": "code",
        "colab": {}
      },
      "source": [
        "for p in map20.Image:\n",
        "    print(\"Original\",p)\n",
        "    plt.imshow(readImage(p))\n",
        "    plt.show()\n",
        "    print(\"Grayscale Cropped\",p)\n",
        "    cropped =(crop(p))\n",
        "    #cropped = to_rgb(cropped)\n",
        "    plt.imshow(cropped.reshape(img_shape[0], img_shape[1]),cmap = matplotlib.cm.binary)\n",
        "    plt.show()\n",
        "    print(\"RGB Cropped\",p)\n",
        "    cropped2 =(cropRGB(p))\n",
        "    plt.imshow(cropped2.reshape(img_shape[0], img_shape[1],3),cmap = matplotlib.cm.binary)\n",
        "    plt.show()"
      ],
      "execution_count": 0,
      "outputs": []
    },
    {
      "cell_type": "markdown",
      "metadata": {
        "id": "4LckA44Yrh3j",
        "colab_type": "text"
      },
      "source": [
        "Despite careful inspection and various trials with comprassion rate and margin ratios some of the images are failed to be cropped properly. Those are listed in a seperate file and dropped from the dataframe to prevent the model to learn from misguiding features."
      ]
    },
    {
      "cell_type": "code",
      "metadata": {
        "id": "i1ew2xhcrh3j",
        "colab_type": "code",
        "colab": {}
      },
      "source": [
        "with open(\"../input/cropFail.txt\") as f: # Open file of image names to be excluded\n",
        "    cropFail = list(f.read().splitlines())\n",
        "\n",
        "#toBeExcluded = [imread(f'data/train/{filename}') for filename in allExclude]\n",
        "figure = plt.figure(figsize=(20, 40)) # set figure size to 20 inches x 6 inches\n",
        "rows = 9 # define # of rows\n",
        "cols = 2 # define # of columns\n",
        "index = 0\n",
        "for i in cropFail: # loop over images\n",
        "    subplot = figure.add_subplot(rows, cols, index + 1) # add subplots to rows x columns figure grid\n",
        "    subplot.axis('Off') #turn-off axis\n",
        "    subplot.set_title(i, fontsize=14) # set titles\n",
        "    plt.imshow(readImage(i))# show images\n",
        "    #plt.show() \n",
        "    cropped =(crop(i))\n",
        "    subplot = figure.add_subplot(rows, cols, index + 2) # add subplots to rows x columns figure grid\n",
        "    subplot.axis('Off') #turn-off axis\n",
        "    plt.imshow(cropped.reshape(img_shape[0], img_shape[1]),cmap = matplotlib.cm.binary)\n",
        "    title = \"Cropped \" + i\n",
        "    subplot.set_title(title, fontsize=14) # set titles\n",
        "    #plt.show()   \n",
        "    index = index + 2\n",
        "figure.savefig(\"../figures/cropFail.png\")"
      ],
      "execution_count": 0,
      "outputs": []
    },
    {
      "cell_type": "markdown",
      "metadata": {
        "id": "s6aXbTqGrh3t",
        "colab_type": "text"
      },
      "source": [
        "After omitting the errorously cropped images, we are left with 250 samples in total. Maybe, we can consider including those images in to the test set."
      ]
    },
    {
      "cell_type": "code",
      "metadata": {
        "id": "HHh9gncjrh3u",
        "colab_type": "code",
        "colab": {}
      },
      "source": [
        "omitIndices = []\n",
        "for p in cropFail:\n",
        "    #print(p)\n",
        "    index = list(map20[\"Image\"]).index(p)\n",
        "    omitIndices.append(index)\n",
        "map20 = map20.drop(map20.index[omitIndices])  \n",
        "len(map20)"
      ],
      "execution_count": 0,
      "outputs": []
    },
    {
      "cell_type": "markdown",
      "metadata": {
        "id": "PL1RB0t-rh3w",
        "colab_type": "text"
      },
      "source": [
        "Class distributions donot change much after all those extractions. We stil have more than 20 images in each class."
      ]
    },
    {
      "cell_type": "code",
      "metadata": {
        "id": "b9NVxXx3rh3x",
        "colab_type": "code",
        "colab": {}
      },
      "source": [
        "final_top20 = pd.DataFrame(map20['Id'].value_counts().head(11))\n",
        "final_top20.reset_index(inplace=True)\n",
        "final_top20.columns = ['ID','Counts']\n",
        "fig = plt.figure(figsize = (8, 6))\n",
        "plt.title('Whale Categories with 20 or more Images')\n",
        "sns.set_color_codes(\"pastel\")\n",
        "sns.barplot(x=\"ID\", y=\"Counts\", data=final_top20,\n",
        "            label=\"Count\")\n",
        "locs, labels = plt.xticks()\n",
        "plt.setp(labels, rotation=45)\n",
        "plt.show()\n",
        "fig.savefig('final_top20.png')"
      ],
      "execution_count": 0,
      "outputs": []
    },
    {
      "cell_type": "markdown",
      "metadata": {
        "id": "hWToIFIgrh30",
        "colab_type": "text"
      },
      "source": [
        "## Prepare the Dataset\n",
        "\n",
        "Convert images to arrays."
      ]
    },
    {
      "cell_type": "code",
      "metadata": {
        "id": "pZgrU_GDrh31",
        "colab_type": "code",
        "colab": {}
      },
      "source": [
        "y = map20[\"Id\"]\n",
        "names = list(map20[\"Image\"])\n",
        "X = []\n",
        "for i in range(len(map20)):\n",
        "    imgName = names[i]\n",
        "    cropped = crop(imgName)\n",
        "    #cropped =to_rgb(cropped)\n",
        "    X.append(cropped)\n",
        "X = np.array(X)  "
      ],
      "execution_count": 0,
      "outputs": []
    },
    {
      "cell_type": "code",
      "metadata": {
        "id": "uKMhY2x-rh33",
        "colab_type": "code",
        "colab": {}
      },
      "source": [
        "X = X.reshape( (-1, 224, 224, 1)).astype(\"float32\")\n",
        "print(X.shape)\n",
        "print(y.shape)"
      ],
      "execution_count": 0,
      "outputs": []
    },
    {
      "cell_type": "markdown",
      "metadata": {
        "id": "wetC4SkYrh37",
        "colab_type": "text"
      },
      "source": [
        "Dump cropped array of images and labels into pickle files for later use"
      ]
    },
    {
      "cell_type": "code",
      "metadata": {
        "id": "PtqlTpgRrh4A",
        "colab_type": "code",
        "colab": {}
      },
      "source": [
        "import pickle\n",
        "with open('../input/X_gray', 'wb') as f1:\n",
        "    pickle.dump(X, f1)\n",
        "with open('../input/y_gray', 'wb') as f2:\n",
        "    pickle.dump(y, f2)"
      ],
      "execution_count": 0,
      "outputs": []
    },
    {
      "cell_type": "markdown",
      "metadata": {
        "id": "FQ-bXaEUrh4H",
        "colab_type": "text"
      },
      "source": [
        "Import pickle files, to avoid running all the chunks above:"
      ]
    },
    {
      "cell_type": "code",
      "metadata": {
        "id": "f5nm40h8rh4U",
        "colab_type": "code",
        "colab": {}
      },
      "source": [
        "with open ('../input/X_gray', 'rb') as f3:\n",
        "    X = pickle.load(f3)\n",
        "with open ('../input/y_gray', 'rb') as f4:\n",
        "    y = pickle.load(f4)"
      ],
      "execution_count": 0,
      "outputs": []
    },
    {
      "cell_type": "code",
      "metadata": {
        "id": "SFNtuvxErh4c",
        "colab_type": "code",
        "colab": {}
      },
      "source": [
        "print(X.shape)\n",
        "print(y.shape)"
      ],
      "execution_count": 0,
      "outputs": []
    },
    {
      "cell_type": "markdown",
      "metadata": {
        "id": "4mgqINR8rh4h",
        "colab_type": "text"
      },
      "source": [
        "## Split the Dataset"
      ]
    },
    {
      "cell_type": "code",
      "metadata": {
        "id": "QfbgWEKCrh4j",
        "colab_type": "code",
        "colab": {}
      },
      "source": [
        "X_train, X_test, y_train, y_test = train_test_split(X,y,test_size = 0.25,stratify=y)\n",
        "X_train, X_val, y_train, y_val = train_test_split(X_train, y_train, test_size=0.15,stratify=y_train)\n",
        "height = 224\n",
        "width = 224\n",
        "channels =1\n",
        "X_train = X_train.reshape(-1,height,width,channels) # dimension (60000) is inferred by setting the first element to -1\n",
        "X_test = X_test.reshape(-1,height,width,channels)\n",
        "X_val = X_val.reshape(-1,height,width,channels)\n"
      ],
      "execution_count": 0,
      "outputs": []
    },
    {
      "cell_type": "markdown",
      "metadata": {
        "id": "cO6SxHi0rh4s",
        "colab_type": "text"
      },
      "source": [
        "## Pre-process Class Labels"
      ]
    },
    {
      "cell_type": "code",
      "metadata": {
        "id": "SvDSgodvrh4u",
        "colab_type": "code",
        "colab": {}
      },
      "source": [
        "print(\"<3 Shape of My Heart <3 : \")\n",
        "print(\"=========================\")\n",
        "print(\"Training:\", X_train.shape)\n",
        "print(\"Testing:\", X_test.shape)\n",
        "print(\"Validation:\", X_val.shape)\n",
        "print(y_train.shape)\n",
        "train_top20 = pd.DataFrame(y_train.value_counts())\n",
        "train_top20.reset_index(inplace=True)\n",
        "train_top20.columns = ['ID','Counts']\n",
        "val_top20 = pd.DataFrame(y_val.value_counts())\n",
        "val_top20.reset_index(inplace=True)\n",
        "val_top20.columns = ['ID','Counts']\n",
        "test_top20 = pd.DataFrame(y_test.value_counts())\n",
        "test_top20.reset_index(inplace=True)\n",
        "test_top20.columns = ['ID','Counts']\n",
        "f,(ax1,ax2,ax3) = plt.subplots(3,1,sharex=True)\n",
        "fig1 = sns.barplot(x=\"ID\", y=\"Counts\", data=train_top20, ax=ax1)\n",
        "fig1.set_ylabel('Train')\n",
        "fig1.set_xlabel('')\n",
        "fig2 = sns.barplot(x=\"ID\", y=\"Counts\", data=val_top20, ax=ax2)\n",
        "fig2.set_xlabel('')\n",
        "fig2.set_ylabel('Validation')\n",
        "fig3 = sns.barplot(x=\"ID\", y=\"Counts\", data=test_top20, ax=ax3)\n",
        "fig3.set_ylabel('Test')\n",
        "fig3.set_xlabel('')\n",
        "f=plt.xticks(rotation=45)\n",
        "suptitle(\"Categorical Distrbution of Images\", fontsize=16)\n",
        "#f.savefig('../figures/train_val_test_Dist.png')"
      ],
      "execution_count": 0,
      "outputs": []
    },
    {
      "cell_type": "code",
      "metadata": {
        "id": "rjmPasc4rh4y",
        "colab_type": "code",
        "colab": {}
      },
      "source": [
        "y_train = LabelEncoder().fit_transform(y_train)\n",
        "#y_train = OneHotEncoder().fit_transform(y_train.reshape(-1,1))\n",
        "y_val = LabelEncoder().fit_transform(y_val)\n",
        "#y_val = OneHotEncoder().fit_transform(y_val.reshape(-1,1))\n",
        "y_test = LabelEncoder().fit_transform(y_test)\n",
        "#y_test = OneHotEncoder().fit_transform(y_test.reshape(-1,1))\n",
        "print(y_train.shape)\n",
        "print(y_val.shape)\n",
        "print(y_test.shape)"
      ],
      "execution_count": 0,
      "outputs": []
    },
    {
      "cell_type": "code",
      "metadata": {
        "id": "XLTg3VRFrh40",
        "colab_type": "code",
        "colab": {}
      },
      "source": [
        "classNum = 11#len(np.unique(y_train)) # number of unique labels is counted to determine the # of classes\n",
        "y_train = to_categorical(y_train, num_classes = classNum)\n",
        "y_test = to_categorical(y_test, num_classes = classNum)\n",
        "y_val = to_categorical(y_val, num_classes = classNum)"
      ],
      "execution_count": 0,
      "outputs": []
    },
    {
      "cell_type": "markdown",
      "metadata": {
        "id": "vtMt4-Jwrh42",
        "colab_type": "text"
      },
      "source": [
        "## Data Augmentation"
      ]
    },
    {
      "cell_type": "code",
      "metadata": {
        "id": "jSSlbLJQrh43",
        "colab_type": "code",
        "colab": {}
      },
      "source": [
        "datagen = ImageDataGenerator(\n",
        "        rotation_range=20,  # randomly rotate images in the range (degrees, 0 to 180)\n",
        "        zoom_range = 0.2, # Randomly zoom image \n",
        "        width_shift_range=0.2,  # randomly shift images horizontally (fraction of total width)\n",
        "        height_shift_range=0.2,  # randomly shift images vertically (fraction of total height)\n",
        "        horizontal_flip=True,  # randomly flip images horizontally only!\n",
        "        vertical_flip=False,  #  do not randomly flip images vertically!\n",
        "        fill_mode='nearest') \n",
        "datagen.fit(X_train, augment=True)"
      ],
      "execution_count": 0,
      "outputs": []
    },
    {
      "cell_type": "markdown",
      "metadata": {
        "id": "4H2Cdqyarh4-",
        "colab_type": "text"
      },
      "source": [
        "## Baseline Model: ResNET50"
      ]
    },
    {
      "cell_type": "code",
      "metadata": {
        "id": "tBFQxAEHrh4_",
        "colab_type": "code",
        "colab": {}
      },
      "source": [
        "inputShape = (224,224,1)\n",
        "model = ResNet50(include_top = True, classes=11, input_shape = inputShape)\n",
        "model.summary()"
      ],
      "execution_count": 0,
      "outputs": []
    },
    {
      "cell_type": "code",
      "metadata": {
        "id": "r3zBqmhArh5G",
        "colab_type": "code",
        "colab": {}
      },
      "source": [
        "from keras.utils import plot_model\n",
        "plot_model(model, to_file='../figures/models1.png')\n",
        "pil_image.open('../figures/models1.png')"
      ],
      "execution_count": 0,
      "outputs": []
    },
    {
      "cell_type": "markdown",
      "metadata": {
        "id": "6UfW3X_Vrh5L",
        "colab_type": "text"
      },
      "source": [
        "### Compilation of ResNET50\n",
        "\n",
        "Before training the model, the learning process is needed to be configured. Adam optimizer, which is a combination of *Gradient Descent with momentum* and *RMSProp* is chosen because it is effective. Authors of ADAM observed that exponetial averages of past gradients and variance of the gradients (first and secon momentum) decay towars zero, so they come up with a bias correction for these terms [12]. In Keras library learning rate is updated with a reciprocal fucntion of decay rate at each *epoch* [14]. So, learning rate decreased as it get closer to the optimal solution.\n",
        "\n",
        "As a cost function *categorical cross entropy* is chosen since it penalizes bad predictions much more, producing larger gradients and thus converging faster. The cross entropy between estimated probability and target probability will be minimized. Default learning rate of Adam optimizer is defined as 0.001 in Keras. It can be decreased in every epoch  by setting a *decay* rate to ensure convergence. Alternatively, *LearningRateScheduler* can be used to decrease the learning rate by %10 at each epoch as it is in"
      ]
    },
    {
      "cell_type": "code",
      "metadata": {
        "id": "r55kwVryrh5N",
        "colab_type": "code",
        "colab": {}
      },
      "source": [
        "model.compile(loss=keras.losses.categorical_crossentropy,\n",
        "              optimizer=keras.optimizers.Adam(), #instead of annealer decay = DR can be set, too\n",
        "              metrics=['accuracy'])\n",
        "annealer = LearningRateScheduler(lambda x: 1e-3 * 0.9 ** x)"
      ],
      "execution_count": 0,
      "outputs": []
    },
    {
      "cell_type": "code",
      "metadata": {
        "id": "YAFW769erh5R",
        "colab_type": "code",
        "colab": {}
      },
      "source": [
        "# Fit the model\n",
        "Epochs = 300 # \n",
        "batchSize = 12 # number of randomly taken samples from features and labels to feed into each epoch \n",
        "                # until an epoch limit is reached.\n",
        "history = model.fit_generator(datagen.flow(X_train,y_train, batch_size=batchSize),\n",
        "                              epochs = Epochs, validation_data = (X_val,y_val),\n",
        "                              verbose = 1, steps_per_epoch=X_train.shape[0] // batchSize\n",
        "                              , callbacks=[annealer])"
      ],
      "execution_count": 0,
      "outputs": []
    },
    {
      "cell_type": "markdown",
      "metadata": {
        "id": "u5qP2MFJrh5b",
        "colab_type": "text"
      },
      "source": [
        "Save the model for later use"
      ]
    },
    {
      "cell_type": "code",
      "metadata": {
        "id": "otE2nAWRrh5c",
        "colab_type": "code",
        "colab": {}
      },
      "source": [
        "from keras.models import load_model\n",
        "model.save('../models/ResNET50.h5')  # creates a HDF5 file 'my_model.h5'\n",
        "#del model  # deletes the existing model\n",
        "# returns a compiled model\n",
        "# identical to the previous one\n",
        "#model = load_model('my_model.h5')"
      ],
      "execution_count": 0,
      "outputs": []
    },
    {
      "cell_type": "markdown",
      "metadata": {
        "id": "yOVKo660rh5f",
        "colab_type": "text"
      },
      "source": [
        "### Training and Validation Performance of ResNET50\n",
        "As it is seen from the final epoch, training accuracy is smaller than validation accuracy. This is due to dropout regulizer. Training accuracy is calculated with the network where some units are dropped randomly but validation accuracy is calculated using whole network. When we evaluate the model on the training set, we see that the performance score is increased since the regularization layers are turned-off during the evaluation. This subject is also discussed in FAQ of Keras [17]. "
      ]
    },
    {
      "cell_type": "code",
      "metadata": {
        "id": "-HiyE_U8rh5h",
        "colab_type": "code",
        "colab": {}
      },
      "source": [
        "valLoss, valAcc = model.evaluate(X_val, y_val, verbose=0)\n",
        "trainLoss, trainAcc = model.evaluate(X_train, y_train, verbose=0)\n",
        "print(\"Validation Loss: {0:.6f}, Validation Accuracy: {1:.6f}\".format(valLoss, valAcc))\n",
        "print(\"Train Loss: {0:.6f}, Train Accuracy: {1:.6f}\".format(trainLoss, trainAcc))"
      ],
      "execution_count": 0,
      "outputs": []
    },
    {
      "cell_type": "code",
      "metadata": {
        "id": "j2kl3x-frh5n",
        "colab_type": "code",
        "colab": {}
      },
      "source": [
        "sns.set_color_codes(\"pastel\")\n",
        "sns.set_style(\"white\")\n",
        "sns.lineplot(x='loss', data = )\n",
        "plt.plot(history.history['loss'], label = \"Training Loss\")\n",
        "plt.plot(history.history['val_loss'], label = \"Validation Loss\")\n",
        "plt.legend()\n",
        "plt.show()\n",
        "plt.plot(history.history['acc'],label = \"Training Accuracy\")\n",
        "plt.plot(history.history['val_acc'], label = \"Validation Accuracy\")\n",
        "plt.legend()\n",
        "plt.show()"
      ],
      "execution_count": 0,
      "outputs": []
    },
    {
      "cell_type": "code",
      "metadata": {
        "id": "Ex1raz6Qrh5q",
        "colab_type": "code",
        "colab": {}
      },
      "source": [
        "pred = model.predict(X_test) # Predict values of the test set\n",
        "#y_testCat = to_categorical(y_test, num_classes = classNum) \n",
        "testLoss, testAcc = model.evaluate(X_test, y_test, verbose=0)\n",
        "print(testLoss,testAcc)\n",
        "pred1hot = np.argmax(pred, axis=1) # Convert predicted classes to one hot vectors\n",
        "y_test1hot = np.argmax(y_test, axis=1) # Convert true classes to one hot vectors\n",
        "cm = confusion_matrix(y_test1hot, pred1hot) #confusion matrix\n",
        "plt.figure(figsize=(9,9))\n",
        "sns.heatmap(cm, annot=True, fmt=\".0f\", linewidths=.5, square = True, cmap=\"YlGnBu\");\n",
        "plt.ylabel('True Labels');\n",
        "plt.xlabel('Predicted Labels');\n",
        "\n",
        "plt.title('Test Loss = %.4f, Test Accuracy = %.4f'%(testLoss, testAcc), size = 15);\n",
        "\n",
        "#plot_confusion_matrix(confusion_mtx, classes = range(10)) "
      ],
      "execution_count": 0,
      "outputs": []
    },
    {
      "cell_type": "markdown",
      "metadata": {
        "id": "hObEKfDGrh5u",
        "colab_type": "text"
      },
      "source": [
        "## ResNET with No Validation Set (validation = test)"
      ]
    },
    {
      "cell_type": "code",
      "metadata": {
        "id": "mJ__41NXrh5v",
        "colab_type": "code",
        "colab": {}
      },
      "source": [
        "with open ('../input/X_gray', 'rb') as f3:\n",
        "    X = pickle.load(f3)\n",
        "with open ('../input/y_gray', 'rb') as f4:\n",
        "    y = pickle.load(f4)"
      ],
      "execution_count": 0,
      "outputs": []
    },
    {
      "cell_type": "code",
      "metadata": {
        "id": "Hv5zAyS5rh50",
        "colab_type": "code",
        "colab": {}
      },
      "source": [
        "X_train, X_test, y_train, y_test = train_test_split(X,y,test_size = 0.25,stratify=y, random_state =42)\n",
        "#X_train, X_val, y_train, y_val = train_test_split(X_train, y_train, test_size=0.15,stratify=y_train)\n",
        "height = 224\n",
        "width = 224\n",
        "channels =1\n",
        "X_train = X_train.reshape(-1,height,width,channels) # dimension (60000) is inferred by setting the first element to -1\n",
        "X_test = X_test.reshape(-1,height,width,channels)\n",
        "#X_val = X_val.reshape(-1,height,width,channels)\n",
        "y_train = LabelEncoder().fit_transform(y_train)\n",
        "#y_train = OneHotEncoder().fit_transform(y_train.reshape(-1,1))\n",
        "#y_val = LabelEncoder().fit_transform(y_val)\n",
        "#y_val = OneHotEncoder().fit_transform(y_val.reshape(-1,1))\n",
        "y_test = LabelEncoder().fit_transform(y_test)\n",
        "#y_test = OneHotEncoder().fit_transform(y_test.reshape(-1,1))\n",
        "print(y_train.shape)\n",
        "#print(y_val.shape)\n",
        "print(y_test.shape)\n",
        "classNum = 11#len(np.unique(y_train)) # number of unique labels is counted to determine the # of classes\n",
        "y_train = to_categorical(y_train, num_classes = classNum)\n",
        "y_test = to_categorical(y_test, num_classes = classNum)\n",
        "#y_val = to_categorical(y_val, num_classes = classNum)"
      ],
      "execution_count": 0,
      "outputs": []
    },
    {
      "cell_type": "code",
      "metadata": {
        "id": "8HFlmXSwrh53",
        "colab_type": "code",
        "colab": {}
      },
      "source": [
        "datagen = ImageDataGenerator(\n",
        "        rotation_range=20,  # randomly rotate images in the range (degrees, 0 to 180)\n",
        "        zoom_range = 0.2, # Randomly zoom image \n",
        "        width_shift_range=0.2,  # randomly shift images horizontally (fraction of total width)\n",
        "        height_shift_range=0.2,  # randomly shift images vertically (fraction of total height)\n",
        "        horizontal_flip=True,  # randomly flip images horizontally only!\n",
        "        vertical_flip=False,  #  do not randomly flip images vertically!\n",
        "        fill_mode='nearest',\n",
        "        zca_whitening = False) # A whitening transform of an image is a linear algebra operation that reduces the redundancy in the matrix of pixel images. Less redundancy in the image is intended to better highlight the structures and features in the image to the learning algorithm.\n",
        "datagen.fit(X_train, augment=True)\n",
        "# configure batch size and retrieve one batch of images\n",
        "#os.makedirs('augmentedImages')\n",
        "#for X_batch, y_batch in datagen.flow(X_train, y_train, batch_size=9, save_to_dir='../augmentedImages', save_prefix='aug', save_format='png'):"
      ],
      "execution_count": 0,
      "outputs": []
    },
    {
      "cell_type": "code",
      "metadata": {
        "id": "JL6fyEp_rh55",
        "colab_type": "code",
        "colab": {}
      },
      "source": [
        "inputShape = (224,224,1)\n",
        "model = load_model('../models/ResNET50.h5')\n",
        "model.compile(loss=keras.losses.categorical_crossentropy,\n",
        "              optimizer=keras.optimizers.Adam(), #instead of annealer decay = DR can be set, too\n",
        "              metrics=['accuracy'])\n",
        "annealer = LearningRateScheduler(lambda x: 1e-3 * 0.9 ** x)\n",
        "# Fit the model\n",
        "Epochs = 300 # \n",
        "batchSize = 12 # number of randomly taken samples from features and labels to feed into each epoch \n",
        "                # until an epoch limit is reached.\n",
        "history = model.fit_generator(datagen.flow(X_train,y_train, batch_size=batchSize),\n",
        "                              epochs = Epochs, validation_data = (X_test,y_test),\n",
        "                              verbose = 1, steps_per_epoch=X_train.shape[0] // batchSize\n",
        "                              , callbacks=[annealer])"
      ],
      "execution_count": 0,
      "outputs": []
    },
    {
      "cell_type": "markdown",
      "metadata": {
        "id": "v5H2GvM8rh59",
        "colab_type": "text"
      },
      "source": [
        "Save the model"
      ]
    },
    {
      "cell_type": "code",
      "metadata": {
        "id": "8rbeqRturh6C",
        "colab_type": "code",
        "colab": {}
      },
      "source": [
        "model.save('../models/ResNET50_wo_val.h5')  # creates a HDF5 file 'my_model.h5'"
      ],
      "execution_count": 0,
      "outputs": []
    },
    {
      "cell_type": "markdown",
      "metadata": {
        "id": "6qGJOob1rh6K",
        "colab_type": "text"
      },
      "source": [
        "Performance: "
      ]
    },
    {
      "cell_type": "code",
      "metadata": {
        "id": "BCdmrTuCrh6L",
        "colab_type": "code",
        "colab": {}
      },
      "source": [
        "valLoss, valAcc = model.evaluate(X_test, y_test, verbose=0)\n",
        "trainLoss, trainAcc = model.evaluate(X_train, y_train, verbose=0)\n",
        "print(\"Validation Loss: {0:.6f}, Validation Accuracy: {1:.6f}\".format(valLoss, valAcc))\n",
        "print(\"Train Loss: {0:.6f}, Train Accuracy: {1:.6f}\".format(trainLoss, trainAcc))"
      ],
      "execution_count": 0,
      "outputs": []
    },
    {
      "cell_type": "code",
      "metadata": {
        "id": "G9xgaVqmrh6O",
        "colab_type": "code",
        "colab": {}
      },
      "source": [
        "sns.set_color_codes(\"pastel\")\n",
        "sns.set_style(\"white\")\n",
        "#sns.lineplot(x='loss', data = )\n",
        "plt.plot(history.history['loss'], label = \"Training Loss\")\n",
        "plt.plot(history.history['val_loss'], label = \"Validation Loss\")\n",
        "plt.legend()\n",
        "plt.show()\n",
        "plt.plot(history.history['acc'],label = \"Training Accuracy\")\n",
        "plt.plot(history.history['val_acc'], label = \"Validation Accuracy\")\n",
        "plt.legend()\n",
        "plt.show()"
      ],
      "execution_count": 0,
      "outputs": []
    },
    {
      "cell_type": "markdown",
      "metadata": {
        "id": "m2qcknZyrh6R",
        "colab_type": "text"
      },
      "source": [
        "Confusion Matrix:"
      ]
    },
    {
      "cell_type": "code",
      "metadata": {
        "id": "TGrQxs3Arh6T",
        "colab_type": "code",
        "colab": {}
      },
      "source": [
        "pred = model.predict(X_test) # Predict values of the test set\n",
        "#y_testCat = to_categorical(y_test, num_classes = classNum) \n",
        "testLoss, testAcc = model.evaluate(X_test, y_test, verbose=0)\n",
        "print(testLoss,testAcc)\n",
        "\n",
        "pred1hot = np.argmax(pred, axis=1) # Convert predicted classes to one hot vectors\n",
        "y_test1hot = np.argmax(y_test, axis=1) # Convert true classes to one hot vectors\n",
        "cm = confusion_matrix(y_test1hot, pred1hot) #confusion matrix\n",
        "\n",
        "plt.figure(figsize=(9,9))\n",
        "sns.heatmap(cm, annot=True, fmt=\".0f\", linewidths=.5, square = True, cmap=\"YlGnBu\");\n",
        "plt.ylabel('True Labels');\n",
        "plt.xlabel('Predicted Labels');\n",
        "\n",
        "plt.title('Test Loss = %.4f, Test Accuracy = %.4f'%(testLoss, testAcc), size = 15);\n",
        "\n",
        "#plot_confusion_matrix(confusion_mtx, classes = range(10)) "
      ],
      "execution_count": 0,
      "outputs": []
    },
    {
      "cell_type": "markdown",
      "metadata": {
        "id": "9n4S75Qyrh6W",
        "colab_type": "text"
      },
      "source": [
        "## ResNET with ADAM LR = 0.01 80/20 train/test Split"
      ]
    },
    {
      "cell_type": "code",
      "metadata": {
        "id": "SD2JaLzdrh6W",
        "colab_type": "code",
        "colab": {}
      },
      "source": [
        "with open ('../input/X_gray', 'rb') as f3:\n",
        "    X = pickle.load(f3)\n",
        "with open ('../input/y_gray', 'rb') as f4:\n",
        "    y = pickle.load(f4)"
      ],
      "execution_count": 0,
      "outputs": []
    },
    {
      "cell_type": "code",
      "metadata": {
        "id": "Lig0RqqDrh6Z",
        "colab_type": "code",
        "colab": {},
        "outputId": "2913398b-fbe9-4ec6-8d17-86f0a451de5e"
      },
      "source": [
        "X_train, X_test, y_train, y_test = train_test_split(X,y,test_size = 0.20,stratify=y, random_state =42)\n",
        "print(\"<3 Shape of My Heart <3 : \")\n",
        "print(\"=========================\")\n",
        "print(\"Training:\", X_train.shape)\n",
        "print(\"Testing:\", X_test.shape)\n",
        "\n",
        "print(y_train.shape)\n",
        "train_top20 = pd.DataFrame(y_train.value_counts())\n",
        "train_top20.reset_index(inplace=True)\n",
        "train_top20.columns = ['ID','Counts']\n",
        "\n",
        "\n",
        "test_top20 = pd.DataFrame(y_test.value_counts())\n",
        "test_top20.reset_index(inplace=True)\n",
        "test_top20.columns = ['ID','Counts']\n",
        "\n",
        "f,(ax1,ax3) = plt.subplots(2,1,sharex=True)\n",
        "\n",
        "fig1 = sns.barplot(x=\"ID\", y=\"Counts\", data=train_top20, ax=ax1)\n",
        "fig1.set_ylabel('Train')\n",
        "fig1.set_xlabel('')\n",
        "\n",
        "\n",
        "fig3 = sns.barplot(x=\"ID\", y=\"Counts\", data=test_top20, ax=ax3)\n",
        "fig3.set_ylabel('Test')\n",
        "fig3.set_xlabel('')\n",
        "f=plt.xticks(rotation=45)\n",
        "suptitle(\"Categorical Distrbution of Images\", fontsize=16)\n",
        "\n",
        "#f.savefig('../figures/train_test_Dist.png')\n",
        "\n",
        "#X_train, X_val, y_train, y_val = train_test_split(X_train, y_train, test_size=0.15,stratify=y_train)\n",
        "height = 224\n",
        "width = 224\n",
        "channels =1\n",
        "X_train = X_train.reshape(-1,height,width,channels) # dimension (60000) is inferred by setting the first element to -1\n",
        "X_test = X_test.reshape(-1,height,width,channels)\n",
        "#X_val = X_val.reshape(-1,height,width,channels)\n",
        "y_train = LabelEncoder().fit_transform(y_train)\n",
        "#y_train = OneHotEncoder().fit_transform(y_train.reshape(-1,1))\n",
        "#y_val = LabelEncoder().fit_transform(y_val)\n",
        "#y_val = OneHotEncoder().fit_transform(y_val.reshape(-1,1))\n",
        "y_test = LabelEncoder().fit_transform(y_test)\n",
        "#y_test = OneHotEncoder().fit_transform(y_test.reshape(-1,1))\n",
        "print(y_train.shape)\n",
        "#print(y_val.shape)\n",
        "print(y_test.shape)\n",
        "classNum = 11#len(np.unique(y_train)) # number of unique labels is counted to determine the # of classes\n",
        "y_train = to_categorical(y_train, num_classes = classNum)\n",
        "y_test = to_categorical(y_test, num_classes = classNum)\n",
        "#y_val = to_categorical(y_val, num_classes = classNum)"
      ],
      "execution_count": 0,
      "outputs": [
        {
          "output_type": "stream",
          "text": [
            "<3 Shape of My Heart <3 : \n",
            "=========================\n",
            "Training: (200, 224, 224, 1)\n",
            "Testing: (50, 224, 224, 1)\n",
            "(200,)\n",
            "(200,)\n",
            "(50,)\n"
          ],
          "name": "stdout"
        },
        {
          "output_type": "display_data",
          "data": {
            "image/png": "[encoded data removed]",
            "text/plain": [
              "<matplotlib.figure.Figure at 0x1f790dade10>"
            ]
          },
          "metadata": {
            "tags": []
          }
        }
      ]
    },
    {
      "cell_type": "code",
      "metadata": {
        "id": "42IzTHzKrh6e",
        "colab_type": "code",
        "colab": {}
      },
      "source": [
        "datagen = ImageDataGenerator(\n",
        "        rotation_range=20,  # randomly rotate images in the range (degrees, 0 to 180)\n",
        "        zoom_range = 0.2, # Randomly zoom image \n",
        "        width_shift_range=0.2,  # randomly shift images horizontally (fraction of total width)\n",
        "        height_shift_range=0.2,  # randomly shift images vertically (fraction of total height)\n",
        "        horizontal_flip=True,  # randomly flip images horizontally only!\n",
        "        vertical_flip=False,  #  do not randomly flip images vertically!\n",
        "        fill_mode='nearest',\n",
        "        #shear_range = 0.2,\n",
        "        zca_whitening = False) # A whitening transform of an image is a linear algebra operation that reduces the redundancy in the matrix of pixel images. Less redundancy in the image is intended to better highlight the structures and features in the image to the learning algorithm.\n",
        "\n",
        "\n",
        "datagen.fit(X_train, augment=True)\n",
        "# configure batch size and retrieve one batch of images\n",
        "#os.makedirs('augmentedImages')\n",
        "#for X_batch, y_batch in datagen.flow(X_train, y_train, batch_size=9, save_to_dir='../augmentedImages', save_prefix='aug', save_format='png'):"
      ],
      "execution_count": 0,
      "outputs": []
    },
    {
      "cell_type": "code",
      "metadata": {
        "id": "f_ElyEyGrh6g",
        "colab_type": "code",
        "colab": {},
        "outputId": "b4b5e1c4-2bb8-4745-a800-3115e93232a2"
      },
      "source": [
        "inputShape = (224,224,1)\n",
        "model = load_model('../models/ResNET50_80_20_split.h5')\n",
        "model.load_weights('../models/ResNET50_80_20_50batchSize_weights.h5')\n",
        "model.compile(loss=keras.losses.categorical_crossentropy,\n",
        "              optimizer=keras.optimizers.Adam(lr=0.01), #instead of annealer decay = DR can be set, too\n",
        "              metrics=['accuracy'])\n",
        "annealer = LearningRateScheduler(lambda x: 1e-3 * 0.9 ** x)\n",
        "# Fit the model\n",
        "Epochs = 70 # \n",
        "batchSize = 50 # number of randomly taken samples from features and labels to feed into each epoch \n",
        "                # until an epoch limit is reached.\n",
        "# checkpoint\n",
        "filepath=\"../models/ResNET_80_20_split_ADAM_LR0.01_weights-improvement-{epoch:02d}-{val_acc:.2f}.hdf5\"\n",
        "checkpoint = ModelCheckpoint(filepath, monitor='val_acc', verbose=1, save_best_only=True, mode='max')\n",
        "#callbacks_list = [checkpoint]\n",
        "history = model.fit_generator(datagen.flow(X_train,y_train, batch_size=batchSize),\n",
        "                              epochs = Epochs, validation_data = (X_test,y_test),\n",
        "                              verbose = 1, steps_per_epoch=X_train.shape[0] // batchSize\n",
        "                              , callbacks=[annealer, checkpoint])"
      ],
      "execution_count": 0,
      "outputs": [
        {
          "output_type": "stream",
          "text": [
            "Epoch 1/70\n",
            "4/4 [==============================] - 1071s 268s/step - loss: 0.9739 - acc: 0.8000 - val_loss: 10.6739 - val_acc: 0.0800\n",
            "\n",
            "Epoch 00001: val_acc improved from -inf to 0.08000, saving model to ../models/ResNET_80_20_split_ADAM_LR0.01_weights-improvement-01-0.08.hdf5\n",
            "Epoch 2/70\n",
            "4/4 [==============================] - 1024s 256s/step - loss: 0.8928 - acc: 0.7100 - val_loss: 1.0168 - val_acc: 0.7400\n",
            "\n",
            "Epoch 00002: val_acc improved from 0.08000 to 0.74000, saving model to ../models/ResNET_80_20_split_ADAM_LR0.01_weights-improvement-02-0.74.hdf5\n",
            "Epoch 3/70\n",
            "4/4 [==============================] - 1023s 256s/step - loss: 0.6967 - acc: 0.7450 - val_loss: 1.2304 - val_acc: 0.7200\n",
            "\n",
            "Epoch 00003: val_acc did not improve from 0.74000\n",
            "Epoch 4/70\n",
            "4/4 [==============================] - 1047s 262s/step - loss: 0.6310 - acc: 0.7550 - val_loss: 3.1966 - val_acc: 0.4400\n",
            "\n",
            "Epoch 00004: val_acc did not improve from 0.74000\n",
            "Epoch 5/70\n",
            "4/4 [==============================] - 1049s 262s/step - loss: 0.4733 - acc: 0.7950 - val_loss: 5.7939 - val_acc: 0.1800\n",
            "\n",
            "Epoch 00005: val_acc did not improve from 0.74000\n",
            "Epoch 6/70\n",
            "4/4 [==============================] - 1049s 262s/step - loss: 0.3906 - acc: 0.8450 - val_loss: 7.5505 - val_acc: 0.2800\n",
            "\n",
            "Epoch 00006: val_acc did not improve from 0.74000\n",
            "Epoch 7/70\n",
            "4/4 [==============================] - 1133s 283s/step - loss: 0.4630 - acc: 0.8300 - val_loss: 1.5926 - val_acc: 0.6000\n",
            "\n",
            "Epoch 00007: val_acc did not improve from 0.74000\n",
            "Epoch 8/70\n",
            "4/4 [==============================] - 1058s 264s/step - loss: 0.3324 - acc: 0.8800 - val_loss: 0.7591 - val_acc: 0.8000\n",
            "\n",
            "Epoch 00008: val_acc improved from 0.74000 to 0.80000, saving model to ../models/ResNET_80_20_split_ADAM_LR0.01_weights-improvement-08-0.80.hdf5\n",
            "Epoch 9/70\n",
            "4/4 [==============================] - 1045s 261s/step - loss: 0.2742 - acc: 0.9200 - val_loss: 0.9227 - val_acc: 0.7400\n",
            "\n",
            "Epoch 00009: val_acc did not improve from 0.80000\n",
            "Epoch 10/70\n",
            "4/4 [==============================] - 976s 244s/step - loss: 0.2301 - acc: 0.9350 - val_loss: 1.2356 - val_acc: 0.6200\n",
            "\n",
            "Epoch 00010: val_acc did not improve from 0.80000\n",
            "Epoch 11/70\n",
            "4/4 [==============================] - 979s 245s/step - loss: 0.1997 - acc: 0.9400 - val_loss: 2.0034 - val_acc: 0.5000\n",
            "\n",
            "Epoch 00011: val_acc did not improve from 0.80000\n",
            "Epoch 12/70\n",
            "4/4 [==============================] - 975s 244s/step - loss: 0.2067 - acc: 0.9200 - val_loss: 2.4479 - val_acc: 0.4600\n",
            "\n",
            "Epoch 00012: val_acc did not improve from 0.80000\n",
            "Epoch 13/70\n",
            "4/4 [==============================] - 974s 244s/step - loss: 0.1931 - acc: 0.9500 - val_loss: 2.2484 - val_acc: 0.4600\n",
            "\n",
            "Epoch 00013: val_acc did not improve from 0.80000\n",
            "Epoch 14/70\n",
            "4/4 [==============================] - 975s 244s/step - loss: 0.2071 - acc: 0.9250 - val_loss: 1.6042 - val_acc: 0.6000\n",
            "\n",
            "Epoch 00014: val_acc did not improve from 0.80000\n",
            "Epoch 15/70\n",
            "4/4 [==============================] - 975s 244s/step - loss: 0.2183 - acc: 0.9250 - val_loss: 1.7856 - val_acc: 0.5600\n",
            "\n",
            "Epoch 00015: val_acc did not improve from 0.80000\n",
            "Epoch 16/70\n",
            "4/4 [==============================] - 1056s 264s/step - loss: 0.1798 - acc: 0.9500 - val_loss: 2.1747 - val_acc: 0.5400\n",
            "\n",
            "Epoch 00016: val_acc did not improve from 0.80000\n",
            "Epoch 17/70\n",
            "4/4 [==============================] - 1068s 267s/step - loss: 0.1380 - acc: 0.9550 - val_loss: 2.1474 - val_acc: 0.5200\n",
            "\n",
            "Epoch 00017: val_acc did not improve from 0.80000\n",
            "Epoch 18/70\n",
            "4/4 [==============================] - 1067s 267s/step - loss: 0.1512 - acc: 0.9500 - val_loss: 1.9211 - val_acc: 0.5600\n",
            "\n",
            "Epoch 00018: val_acc did not improve from 0.80000\n",
            "Epoch 19/70\n",
            "4/4 [==============================] - 1069s 267s/step - loss: 0.1492 - acc: 0.9550 - val_loss: 1.7016 - val_acc: 0.6000\n",
            "\n",
            "Epoch 00019: val_acc did not improve from 0.80000\n",
            "Epoch 20/70\n",
            "4/4 [==============================] - 1060s 265s/step - loss: 0.1077 - acc: 0.9750 - val_loss: 1.5577 - val_acc: 0.6200\n",
            "\n",
            "Epoch 00020: val_acc did not improve from 0.80000\n",
            "Epoch 21/70\n",
            "4/4 [==============================] - 1033s 258s/step - loss: 0.1653 - acc: 0.9450 - val_loss: 1.3876 - val_acc: 0.6600\n",
            "\n",
            "Epoch 00021: val_acc did not improve from 0.80000\n",
            "Epoch 22/70\n",
            "4/4 [==============================] - 1032s 258s/step - loss: 0.1575 - acc: 0.9550 - val_loss: 0.7981 - val_acc: 0.8000\n",
            "\n",
            "Epoch 00022: val_acc did not improve from 0.80000\n",
            "Epoch 23/70\n",
            "4/4 [==============================] - 1062s 265s/step - loss: 0.1628 - acc: 0.9400 - val_loss: 0.7074 - val_acc: 0.8200\n",
            "\n",
            "Epoch 00023: val_acc improved from 0.80000 to 0.82000, saving model to ../models/ResNET_80_20_split_ADAM_LR0.01_weights-improvement-23-0.82.hdf5\n",
            "Epoch 24/70\n",
            "4/4 [==============================] - 1073s 268s/step - loss: 0.1228 - acc: 0.9700 - val_loss: 0.7172 - val_acc: 0.8200\n",
            "\n",
            "Epoch 00024: val_acc did not improve from 0.82000\n",
            "Epoch 25/70\n",
            "4/4 [==============================] - 1072s 268s/step - loss: 0.1330 - acc: 0.9650 - val_loss: 0.7986 - val_acc: 0.8000\n",
            "\n",
            "Epoch 00025: val_acc did not improve from 0.82000\n",
            "Epoch 26/70\n",
            "4/4 [==============================] - 1056s 264s/step - loss: 0.1294 - acc: 0.9750 - val_loss: 0.9500 - val_acc: 0.7600\n",
            "\n",
            "Epoch 00026: val_acc did not improve from 0.82000\n",
            "Epoch 27/70\n",
            "4/4 [==============================] - 1033s 258s/step - loss: 0.0930 - acc: 0.9850 - val_loss: 0.9795 - val_acc: 0.7800\n",
            "\n",
            "Epoch 00027: val_acc did not improve from 0.82000\n",
            "Epoch 28/70\n",
            "4/4 [==============================] - 1034s 259s/step - loss: 0.1182 - acc: 0.9850 - val_loss: 0.9274 - val_acc: 0.8200\n",
            "\n",
            "Epoch 00028: val_acc did not improve from 0.82000\n",
            "Epoch 29/70\n",
            "4/4 [==============================] - 1035s 259s/step - loss: 0.1573 - acc: 0.9600 - val_loss: 0.9222 - val_acc: 0.8200\n",
            "\n",
            "Epoch 00029: val_acc did not improve from 0.82000\n",
            "Epoch 30/70\n",
            "4/4 [==============================] - 1034s 258s/step - loss: 0.1432 - acc: 0.9700 - val_loss: 0.9844 - val_acc: 0.7800\n",
            "\n",
            "Epoch 00030: val_acc did not improve from 0.82000\n",
            "Epoch 31/70\n",
            "4/4 [==============================] - 1035s 259s/step - loss: 0.1369 - acc: 0.9550 - val_loss: 1.1558 - val_acc: 0.7200\n",
            "\n",
            "Epoch 00031: val_acc did not improve from 0.82000\n",
            "Epoch 32/70\n",
            "4/4 [==============================] - 1033s 258s/step - loss: 0.1249 - acc: 0.9850 - val_loss: 1.3069 - val_acc: 0.6600\n",
            "\n",
            "Epoch 00032: val_acc did not improve from 0.82000\n",
            "Epoch 33/70\n",
            "4/4 [==============================] - 1038s 259s/step - loss: 0.1165 - acc: 0.9750 - val_loss: 1.2680 - val_acc: 0.6600\n",
            "\n",
            "Epoch 00033: val_acc did not improve from 0.82000\n",
            "Epoch 34/70\n",
            "4/4 [==============================] - 997s 249s/step - loss: 0.0896 - acc: 0.9800 - val_loss: 1.1195 - val_acc: 0.7200\n",
            "\n",
            "Epoch 00034: val_acc did not improve from 0.82000\n",
            "Epoch 35/70\n",
            "4/4 [==============================] - 981s 245s/step - loss: 0.1297 - acc: 0.9600 - val_loss: 1.0003 - val_acc: 0.7600\n",
            "\n",
            "Epoch 00035: val_acc did not improve from 0.82000\n",
            "Epoch 36/70\n",
            "4/4 [==============================] - 980s 245s/step - loss: 0.0957 - acc: 0.9800 - val_loss: 0.8277 - val_acc: 0.8000\n",
            "\n",
            "Epoch 00036: val_acc did not improve from 0.82000\n",
            "Epoch 37/70\n",
            "4/4 [==============================] - 980s 245s/step - loss: 0.0879 - acc: 0.9850 - val_loss: 0.7111 - val_acc: 0.8000\n",
            "\n",
            "Epoch 00037: val_acc did not improve from 0.82000\n",
            "Epoch 38/70\n",
            "4/4 [==============================] - 980s 245s/step - loss: 0.1289 - acc: 0.9600 - val_loss: 0.6450 - val_acc: 0.8200\n",
            "\n",
            "Epoch 00038: val_acc did not improve from 0.82000\n",
            "Epoch 39/70\n",
            "4/4 [==============================] - 981s 245s/step - loss: 0.1113 - acc: 0.9750 - val_loss: 0.5759 - val_acc: 0.8200\n",
            "\n",
            "Epoch 00039: val_acc did not improve from 0.82000\n",
            "Epoch 40/70\n",
            "4/4 [==============================] - 980s 245s/step - loss: 0.0886 - acc: 0.9750 - val_loss: 0.5129 - val_acc: 0.8600\n",
            "\n",
            "Epoch 00040: val_acc improved from 0.82000 to 0.86000, saving model to ../models/ResNET_80_20_split_ADAM_LR0.01_weights-improvement-40-0.86.hdf5\n",
            "Epoch 41/70\n",
            "4/4 [==============================] - 979s 245s/step - loss: 0.1104 - acc: 0.9750 - val_loss: 0.4669 - val_acc: 0.8600\n",
            "\n",
            "Epoch 00041: val_acc did not improve from 0.86000\n",
            "Epoch 42/70\n",
            "4/4 [==============================] - 980s 245s/step - loss: 0.0865 - acc: 0.9750 - val_loss: 0.4399 - val_acc: 0.8800\n",
            "\n",
            "Epoch 00042: val_acc improved from 0.86000 to 0.88000, saving model to ../models/ResNET_80_20_split_ADAM_LR0.01_weights-improvement-42-0.88.hdf5\n"
          ],
          "name": "stdout"
        },
        {
          "output_type": "stream",
          "text": [
            "Epoch 43/70\n",
            "4/4 [==============================] - 978s 245s/step - loss: 0.0850 - acc: 0.9800 - val_loss: 0.4247 - val_acc: 0.8800\n",
            "\n",
            "Epoch 00043: val_acc did not improve from 0.88000\n",
            "Epoch 44/70\n",
            "4/4 [==============================] - 978s 244s/step - loss: 0.1021 - acc: 0.9800 - val_loss: 0.4125 - val_acc: 0.8800\n",
            "\n",
            "Epoch 00044: val_acc did not improve from 0.88000\n",
            "Epoch 45/70\n",
            "4/4 [==============================] - 979s 245s/step - loss: 0.1034 - acc: 0.9700 - val_loss: 0.4036 - val_acc: 0.9000\n",
            "\n",
            "Epoch 00045: val_acc improved from 0.88000 to 0.90000, saving model to ../models/ResNET_80_20_split_ADAM_LR0.01_weights-improvement-45-0.90.hdf5\n",
            "Epoch 46/70\n",
            "4/4 [==============================] - 978s 245s/step - loss: 0.1249 - acc: 0.9550 - val_loss: 0.3921 - val_acc: 0.9000\n",
            "\n",
            "Epoch 00046: val_acc did not improve from 0.90000\n",
            "Epoch 47/70\n",
            "4/4 [==============================] - 979s 245s/step - loss: 0.1014 - acc: 0.9750 - val_loss: 0.3878 - val_acc: 0.9000\n",
            "\n",
            "Epoch 00047: val_acc did not improve from 0.90000\n",
            "Epoch 48/70\n",
            "4/4 [==============================] - 979s 245s/step - loss: 0.0903 - acc: 0.9850 - val_loss: 0.3836 - val_acc: 0.9000\n",
            "\n",
            "Epoch 00048: val_acc did not improve from 0.90000\n",
            "Epoch 49/70\n",
            "4/4 [==============================] - 979s 245s/step - loss: 0.0920 - acc: 0.9850 - val_loss: 0.3784 - val_acc: 0.9000\n",
            "\n",
            "Epoch 00049: val_acc did not improve from 0.90000\n",
            "Epoch 50/70\n",
            "4/4 [==============================] - 978s 245s/step - loss: 0.0919 - acc: 0.9950 - val_loss: 0.3744 - val_acc: 0.9000\n",
            "\n",
            "Epoch 00050: val_acc did not improve from 0.90000\n",
            "Epoch 51/70\n",
            "4/4 [==============================] - 978s 244s/step - loss: 0.1134 - acc: 0.9650 - val_loss: 0.3720 - val_acc: 0.9000\n",
            "\n",
            "Epoch 00051: val_acc did not improve from 0.90000\n",
            "Epoch 52/70\n",
            "4/4 [==============================] - 979s 245s/step - loss: 0.1251 - acc: 0.9600 - val_loss: 0.3712 - val_acc: 0.9000\n",
            "\n",
            "Epoch 00052: val_acc did not improve from 0.90000\n",
            "Epoch 53/70\n",
            "4/4 [==============================] - 978s 244s/step - loss: 0.1039 - acc: 0.9750 - val_loss: 0.3692 - val_acc: 0.9000\n",
            "\n",
            "Epoch 00053: val_acc did not improve from 0.90000\n",
            "Epoch 54/70\n",
            "4/4 [==============================] - 979s 245s/step - loss: 0.1116 - acc: 0.9750 - val_loss: 0.3677 - val_acc: 0.9000\n",
            "\n",
            "Epoch 00054: val_acc did not improve from 0.90000\n",
            "Epoch 55/70\n",
            "4/4 [==============================] - 978s 245s/step - loss: 0.1249 - acc: 0.9650 - val_loss: 0.3666 - val_acc: 0.9000\n",
            "\n",
            "Epoch 00055: val_acc did not improve from 0.90000\n",
            "Epoch 56/70\n",
            "4/4 [==============================] - 980s 245s/step - loss: 0.1149 - acc: 0.9800 - val_loss: 0.3643 - val_acc: 0.9000\n",
            "\n",
            "Epoch 00056: val_acc did not improve from 0.90000\n",
            "Epoch 57/70\n",
            "4/4 [==============================] - 979s 245s/step - loss: 0.1096 - acc: 0.9750 - val_loss: 0.3619 - val_acc: 0.9000\n",
            "\n",
            "Epoch 00057: val_acc did not improve from 0.90000\n",
            "Epoch 58/70\n",
            "4/4 [==============================] - 978s 244s/step - loss: 0.0756 - acc: 0.9850 - val_loss: 0.3592 - val_acc: 0.9000\n",
            "\n",
            "Epoch 00058: val_acc did not improve from 0.90000\n",
            "Epoch 59/70\n",
            "4/4 [==============================] - 979s 245s/step - loss: 0.1151 - acc: 0.9800 - val_loss: 0.3565 - val_acc: 0.9000\n",
            "\n",
            "Epoch 00059: val_acc did not improve from 0.90000\n",
            "Epoch 60/70\n",
            "4/4 [==============================] - 979s 245s/step - loss: 0.0958 - acc: 0.9850 - val_loss: 0.3547 - val_acc: 0.9000\n",
            "\n",
            "Epoch 00060: val_acc did not improve from 0.90000\n",
            "Epoch 61/70\n",
            "4/4 [==============================] - 980s 245s/step - loss: 0.0904 - acc: 0.9900 - val_loss: 0.3525 - val_acc: 0.9000\n",
            "\n",
            "Epoch 00061: val_acc did not improve from 0.90000\n",
            "Epoch 62/70\n",
            "4/4 [==============================] - 979s 245s/step - loss: 0.1107 - acc: 0.9650 - val_loss: 0.3507 - val_acc: 0.9000\n",
            "\n",
            "Epoch 00062: val_acc did not improve from 0.90000\n",
            "Epoch 63/70\n",
            "4/4 [==============================] - 979s 245s/step - loss: 0.0971 - acc: 0.9750 - val_loss: 0.3493 - val_acc: 0.8800\n",
            "\n",
            "Epoch 00063: val_acc did not improve from 0.90000\n",
            "Epoch 64/70\n",
            "4/4 [==============================] - 979s 245s/step - loss: 0.1194 - acc: 0.9650 - val_loss: 0.3469 - val_acc: 0.8800\n",
            "\n",
            "Epoch 00064: val_acc did not improve from 0.90000\n",
            "Epoch 65/70\n",
            "4/4 [==============================] - 979s 245s/step - loss: 0.0879 - acc: 0.9800 - val_loss: 0.3458 - val_acc: 0.8800\n",
            "\n",
            "Epoch 00065: val_acc did not improve from 0.90000\n",
            "Epoch 66/70\n",
            "4/4 [==============================] - 980s 245s/step - loss: 0.0877 - acc: 0.9650 - val_loss: 0.3441 - val_acc: 0.8800\n",
            "\n",
            "Epoch 00066: val_acc did not improve from 0.90000\n",
            "Epoch 67/70\n",
            "4/4 [==============================] - 980s 245s/step - loss: 0.1093 - acc: 0.9650 - val_loss: 0.3418 - val_acc: 0.8800\n",
            "\n",
            "Epoch 00067: val_acc did not improve from 0.90000\n",
            "Epoch 68/70\n",
            "4/4 [==============================] - 979s 245s/step - loss: 0.0729 - acc: 0.9900 - val_loss: 0.3397 - val_acc: 0.8800\n",
            "\n",
            "Epoch 00068: val_acc did not improve from 0.90000\n",
            "Epoch 69/70\n",
            "4/4 [==============================] - 978s 245s/step - loss: 0.0970 - acc: 0.9850 - val_loss: 0.3377 - val_acc: 0.8800\n",
            "\n",
            "Epoch 00069: val_acc did not improve from 0.90000\n",
            "Epoch 70/70\n",
            "4/4 [==============================] - 978s 245s/step - loss: 0.1036 - acc: 0.9650 - val_loss: 0.3350 - val_acc: 0.8800\n",
            "\n",
            "Epoch 00070: val_acc did not improve from 0.90000\n"
          ],
          "name": "stdout"
        }
      ]
    },
    {
      "cell_type": "code",
      "metadata": {
        "id": "zIfp-XSnrh6l",
        "colab_type": "code",
        "colab": {}
      },
      "source": [
        "model.save('../models/ResNET_80_20_split_ADAM_LR0.01.h5')  # creates a HDF5 file 'my_model.h5'\n",
        "# save weights\n",
        "model.save_weights('../models/ResNET_80_20_split_ADAM_LR0.01_weights.h5')\n",
        "# to restore a model from a checkpoint see: https://machinelearningmastery.com/check-point-deep-learning-models-keras/"
      ],
      "execution_count": 0,
      "outputs": []
    },
    {
      "cell_type": "code",
      "metadata": {
        "id": "NUyuWY80rh6y",
        "colab_type": "code",
        "colab": {},
        "outputId": "89f4c9f8-93ed-468c-e605-ebae8dad84f1"
      },
      "source": [
        "valLoss, valAcc = model.evaluate(X_test, y_test, verbose=0)\n",
        "trainLoss, trainAcc = model.evaluate(X_train, y_train, verbose=0)\n",
        "print(\"Validation Loss: {0:.6f}, Validation Accuracy: {1:.6f}\".format(valLoss, valAcc))\n",
        "print(\"Train Loss: {0:.6f}, Train Accuracy: {1:.6f}\".format(trainLoss, trainAcc))"
      ],
      "execution_count": 0,
      "outputs": [
        {
          "output_type": "stream",
          "text": [
            "Validation Loss: 0.335040, Validation Accuracy: 0.880000\n",
            "Train Loss: 0.058789, Train Accuracy: 0.980000\n"
          ],
          "name": "stdout"
        }
      ]
    },
    {
      "cell_type": "code",
      "metadata": {
        "id": "pZYMz0fLrh63",
        "colab_type": "code",
        "colab": {},
        "outputId": "b2266470-f5c7-42c9-b382-1c36e9a71002"
      },
      "source": [
        "sns.set_color_codes(\"pastel\")\n",
        "sns.set_style(\"white\")\n",
        "#sns.lineplot(x='loss', data = )\n",
        "plt.plot(history.history['loss'], label = \"Training Loss\")\n",
        "plt.plot(history.history['val_loss'], label = \"Validation Loss\")\n",
        "plt.legend()\n",
        "plt.show()\n",
        "plt.plot(history.history['acc'],label = \"Training Accuracy\")\n",
        "plt.plot(history.history['val_acc'], label = \"Validation Accuracy\")\n",
        "plt.legend()\n",
        "plt.show()"
      ],
      "execution_count": 0,
      "outputs": [
        {
          "output_type": "display_data",
          "data": {
            "image/png": "[encoded data removed]",
            "text/plain": [
              "<matplotlib.figure.Figure at 0x1f79fec29e8>"
            ]
          },
          "metadata": {
            "tags": []
          }
        },
        {
          "output_type": "display_data",
          "data": {
            "image/png": "[encoded data removed]",
            "text/plain": [
              "<matplotlib.figure.Figure at 0x1f79fe8b710>"
            ]
          },
          "metadata": {
            "tags": []
          }
        }
      ]
    },
    {
      "cell_type": "code",
      "metadata": {
        "id": "yCfpsPz8rh7B",
        "colab_type": "code",
        "colab": {},
        "outputId": "e772870c-9de7-414c-8bc2-e5ff7ec6656a"
      },
      "source": [
        "model = load_model('../models/ResNET_80_20_split_ADAM_LR0.01.h5')\n",
        "model.load_weights('../models/ResNET_80_20_split_ADAM_LR0.01_weights.h5')\n",
        "pred = model.predict(X_test) # Predict values of the test set\n",
        "#y_testCat = to_categorical(y_test, num_classes = classNum) \n",
        "testLoss, testAcc = model.evaluate(X_test, y_test, verbose=0)\n",
        "print(testLoss,testAcc)\n",
        "\n",
        "pred1hot = np.argmax(pred, axis=1) # Convert predicted classes to one hot vectors\n",
        "y_test1hot = np.argmax(y_test, axis=1) # Convert true classes to one hot vectors\n",
        "cm = confusion_matrix(y_test1hot, pred1hot) #confusion matrix\n",
        "\n",
        "plt.figure(figsize=(9,9))\n",
        "sns.heatmap(cm, annot=True, fmt=\".0f\", linewidths=.5, square = True, cmap=\"YlGnBu\");\n",
        "plt.ylabel('True Labels');\n",
        "plt.xlabel('Predicted Labels');\n",
        "\n",
        "plt.title('Test Loss = %.4f, Test Accuracy = %.4f'%(testLoss, testAcc), size = 15);\n",
        "\n",
        "#plot_confusion_matrix(confusion_mtx, classes = range(10)) "
      ],
      "execution_count": 0,
      "outputs": [
        {
          "output_type": "stream",
          "text": [
            "0.33504036426544187 0.8799999928474427\n"
          ],
          "name": "stdout"
        },
        {
          "output_type": "display_data",
          "data": {
            "image/png": "[encoded data removed]",
            "text/plain": [
              "<matplotlib.figure.Figure at 0x1f8e38e4c50>"
            ]
          },
          "metadata": {
            "tags": []
          }
        }
      ]
    },
    {
      "cell_type": "markdown",
      "metadata": {
        "id": "m4-umZPKrh7L",
        "colab_type": "text"
      },
      "source": [
        "## ResNET with ADAM LR = 0.005 80/20 train/test Split"
      ]
    },
    {
      "cell_type": "code",
      "metadata": {
        "id": "LKahNYy5rh7M",
        "colab_type": "code",
        "colab": {}
      },
      "source": [
        "with open ('../input/X_gray', 'rb') as f3:\n",
        "    X = pickle.load(f3)\n",
        "with open ('../input/y_gray', 'rb') as f4:\n",
        "    y = pickle.load(f4)"
      ],
      "execution_count": 0,
      "outputs": []
    },
    {
      "cell_type": "code",
      "metadata": {
        "id": "BHxoqKXHrh7P",
        "colab_type": "code",
        "colab": {},
        "outputId": "6e136308-9f38-42a5-9e94-344ce71d17cd"
      },
      "source": [
        "X_train, X_test, y_train, y_test = train_test_split(X,y,test_size = 0.20,stratify=y, random_state =42)\n",
        "print(\"<3 Shape of My Heart <3 : \")\n",
        "print(\"=========================\")\n",
        "print(\"Training:\", X_train.shape)\n",
        "print(\"Testing:\", X_test.shape)\n",
        "\n",
        "print(y_train.shape)\n",
        "train_top20 = pd.DataFrame(y_train.value_counts())\n",
        "train_top20.reset_index(inplace=True)\n",
        "train_top20.columns = ['ID','Counts']\n",
        "\n",
        "\n",
        "test_top20 = pd.DataFrame(y_test.value_counts())\n",
        "test_top20.reset_index(inplace=True)\n",
        "test_top20.columns = ['ID','Counts']\n",
        "\n",
        "f,(ax1,ax3) = plt.subplots(2,1,sharex=True)\n",
        "\n",
        "fig1 = sns.barplot(x=\"ID\", y=\"Counts\", data=train_top20, ax=ax1)\n",
        "fig1.set_ylabel('Train')\n",
        "fig1.set_xlabel('')\n",
        "\n",
        "\n",
        "fig3 = sns.barplot(x=\"ID\", y=\"Counts\", data=test_top20, ax=ax3)\n",
        "fig3.set_ylabel('Test')\n",
        "fig3.set_xlabel('')\n",
        "f=plt.xticks(rotation=45)\n",
        "suptitle(\"Categorical Distrbution of Images\", fontsize=16)\n",
        "\n",
        "#f.savefig('../figures/train_test_Dist.png')\n",
        "\n",
        "#X_train, X_val, y_train, y_val = train_test_split(X_train, y_train, test_size=0.15,stratify=y_train)\n",
        "height = 224\n",
        "width = 224\n",
        "channels =1\n",
        "X_train = X_train.reshape(-1,height,width,channels) # dimension (60000) is inferred by setting the first element to -1\n",
        "X_test = X_test.reshape(-1,height,width,channels)\n",
        "#X_val = X_val.reshape(-1,height,width,channels)\n",
        "y_train = LabelEncoder().fit_transform(y_train)\n",
        "#y_train = OneHotEncoder().fit_transform(y_train.reshape(-1,1))\n",
        "#y_val = LabelEncoder().fit_transform(y_val)\n",
        "#y_val = OneHotEncoder().fit_transform(y_val.reshape(-1,1))\n",
        "y_test = LabelEncoder().fit_transform(y_test)\n",
        "#y_test = OneHotEncoder().fit_transform(y_test.reshape(-1,1))\n",
        "print(y_train.shape)\n",
        "#print(y_val.shape)\n",
        "print(y_test.shape)\n",
        "classNum = 11#len(np.unique(y_train)) # number of unique labels is counted to determine the # of classes\n",
        "y_train = to_categorical(y_train, num_classes = classNum)\n",
        "y_test = to_categorical(y_test, num_classes = classNum)\n",
        "#y_val = to_categorical(y_val, num_classes = classNum)"
      ],
      "execution_count": 0,
      "outputs": [
        {
          "output_type": "stream",
          "text": [
            "<3 Shape of My Heart <3 : \n",
            "=========================\n",
            "Training: (200, 224, 224, 1)\n",
            "Testing: (50, 224, 224, 1)\n",
            "(200,)\n",
            "(200,)\n",
            "(50,)\n"
          ],
          "name": "stdout"
        },
        {
          "output_type": "display_data",
          "data": {
            "image/png": "[encoded data removed]",
            "text/plain": [
              "<matplotlib.figure.Figure at 0x1f7edc75ac8>"
            ]
          },
          "metadata": {
            "tags": []
          }
        }
      ]
    },
    {
      "cell_type": "code",
      "metadata": {
        "id": "UY42zPOFrh7U",
        "colab_type": "code",
        "colab": {}
      },
      "source": [
        "datagen = ImageDataGenerator(\n",
        "        rotation_range=20,  # randomly rotate images in the range (degrees, 0 to 180)\n",
        "        zoom_range = 0.2, # Randomly zoom image \n",
        "        width_shift_range=0.2,  # randomly shift images horizontally (fraction of total width)\n",
        "        height_shift_range=0.2,  # randomly shift images vertically (fraction of total height)\n",
        "        horizontal_flip=True,  # randomly flip images horizontally only!\n",
        "        vertical_flip=False,  #  do not randomly flip images vertically!\n",
        "        fill_mode='nearest',\n",
        "        #shear_range = 0.2,\n",
        "        zca_whitening = False) # A whitening transform of an image is a linear algebra operation that reduces the redundancy in the matrix of pixel images. Less redundancy in the image is intended to better highlight the structures and features in the image to the learning algorithm.\n",
        "\n",
        "\n",
        "datagen.fit(X_train, augment=True)\n",
        "# configure batch size and retrieve one batch of images\n",
        "#os.makedirs('augmentedImages')\n",
        "#for X_batch, y_batch in datagen.flow(X_train, y_train, batch_size=9, save_to_dir='../augmentedImages', save_prefix='aug', save_format='png'):"
      ],
      "execution_count": 0,
      "outputs": []
    },
    {
      "cell_type": "code",
      "metadata": {
        "id": "Lt-kaRLgrh7W",
        "colab_type": "code",
        "colab": {},
        "outputId": "252df98b-6ed8-4807-bcc9-e0fae1435bb6"
      },
      "source": [
        "inputShape = (224,224,1)\n",
        "model = load_model('../models/ResNET_80_20_split_ADAM_LR0.01.h5')\n",
        "model.load_weights('../models/ResNET_80_20_split_ADAM_LR0.01_weights.h5')\n",
        "model.compile(loss=keras.losses.categorical_crossentropy,\n",
        "              optimizer=keras.optimizers.Adam(lr=0.005), #instead of annealer decay = DR can be set, too\n",
        "              metrics=['accuracy'])\n",
        "annealer = LearningRateScheduler(lambda x: 1e-3 * 0.9 ** x)\n",
        "# Fit the model\n",
        "Epochs = 70 # \n",
        "batchSize = 50 # number of randomly taken samples from features and labels to feed into each epoch \n",
        "                # until an epoch limit is reached.\n",
        "# checkpoint\n",
        "filepath=\"../models/ResNET_80_20_split_ADAM_LR0.005_weights-improvement-{epoch:02d}-{val_acc:.2f}.hdf5\" #PREVIOUSLY WRONGLY NAMED PATH!!\n",
        "checkpoint = ModelCheckpoint(filepath, monitor='val_acc', verbose=1, save_best_only=True, mode='max')   #ACCIDENTALLY WROTE 0.01 instead of 0.005 :()\n",
        "#callbacks_list = [checkpoint]\n",
        "history = model.fit_generator(datagen.flow(X_train,y_train, batch_size=batchSize),\n",
        "                              epochs = Epochs, validation_data = (X_test,y_test),\n",
        "                              verbose = 1, steps_per_epoch=X_train.shape[0] // batchSize\n",
        "                              , callbacks=[annealer, checkpoint])"
      ],
      "execution_count": 0,
      "outputs": [
        {
          "output_type": "stream",
          "text": [
            "Epoch 1/70\n",
            "4/4 [==============================] - 995s 249s/step - loss: 1.0839 - acc: 0.7450 - val_loss: 8.3966 - val_acc: 0.3200\n",
            "\n",
            "Epoch 00001: val_acc improved from -inf to 0.32000, saving model to ../models/ResNET_80_20_split_ADAM_LR0.01_weights-improvement-01-0.32.hdf5\n",
            "Epoch 2/70\n",
            "4/4 [==============================] - 980s 245s/step - loss: 1.1037 - acc: 0.6600 - val_loss: 2.1198 - val_acc: 0.4600\n",
            "\n",
            "Epoch 00002: val_acc improved from 0.32000 to 0.46000, saving model to ../models/ResNET_80_20_split_ADAM_LR0.01_weights-improvement-02-0.46.hdf5\n",
            "Epoch 3/70\n",
            "4/4 [==============================] - 977s 244s/step - loss: 0.6253 - acc: 0.7900 - val_loss: 2.7279 - val_acc: 0.4400\n",
            "\n",
            "Epoch 00003: val_acc did not improve from 0.46000\n",
            "Epoch 4/70\n",
            "4/4 [==============================] - 1042s 260s/step - loss: 0.4805 - acc: 0.8200 - val_loss: 1.4677 - val_acc: 0.6200\n",
            "\n",
            "Epoch 00004: val_acc improved from 0.46000 to 0.62000, saving model to ../models/ResNET_80_20_split_ADAM_LR0.01_weights-improvement-04-0.62.hdf5\n",
            "Epoch 5/70\n",
            "4/4 [==============================] - 1033s 258s/step - loss: 0.4426 - acc: 0.8550 - val_loss: 1.3215 - val_acc: 0.7000\n",
            "\n",
            "Epoch 00005: val_acc improved from 0.62000 to 0.70000, saving model to ../models/ResNET_80_20_split_ADAM_LR0.01_weights-improvement-05-0.70.hdf5\n",
            "Epoch 6/70\n",
            "4/4 [==============================] - 1043s 261s/step - loss: 0.3866 - acc: 0.8900 - val_loss: 0.9913 - val_acc: 0.7800\n",
            "\n",
            "Epoch 00006: val_acc improved from 0.70000 to 0.78000, saving model to ../models/ResNET_80_20_split_ADAM_LR0.01_weights-improvement-06-0.78.hdf5\n",
            "Epoch 7/70\n",
            "4/4 [==============================] - 1032s 258s/step - loss: 0.2495 - acc: 0.9450 - val_loss: 0.8392 - val_acc: 0.7800\n",
            "\n",
            "Epoch 00007: val_acc did not improve from 0.78000\n",
            "Epoch 8/70\n",
            "4/4 [==============================] - 1033s 258s/step - loss: 0.2474 - acc: 0.9100 - val_loss: 0.6389 - val_acc: 0.8200\n",
            "\n",
            "Epoch 00008: val_acc improved from 0.78000 to 0.82000, saving model to ../models/ResNET_80_20_split_ADAM_LR0.01_weights-improvement-08-0.82.hdf5\n",
            "Epoch 9/70\n",
            "4/4 [==============================] - 1031s 258s/step - loss: 0.2296 - acc: 0.9200 - val_loss: 0.4924 - val_acc: 0.8200\n",
            "\n",
            "Epoch 00009: val_acc did not improve from 0.82000\n",
            "Epoch 10/70\n",
            "4/4 [==============================] - 1034s 258s/step - loss: 0.1879 - acc: 0.9550 - val_loss: 0.3794 - val_acc: 0.8600\n",
            "\n",
            "Epoch 00010: val_acc improved from 0.82000 to 0.86000, saving model to ../models/ResNET_80_20_split_ADAM_LR0.01_weights-improvement-10-0.86.hdf5\n",
            "Epoch 11/70\n",
            "4/4 [==============================] - 1044s 261s/step - loss: 0.1813 - acc: 0.9350 - val_loss: 0.3937 - val_acc: 0.9000\n",
            "\n",
            "Epoch 00011: val_acc improved from 0.86000 to 0.90000, saving model to ../models/ResNET_80_20_split_ADAM_LR0.01_weights-improvement-11-0.90.hdf5\n",
            "Epoch 12/70\n",
            "4/4 [==============================] - 1019s 255s/step - loss: 0.1817 - acc: 0.9350 - val_loss: 0.4013 - val_acc: 0.8600\n",
            "\n",
            "Epoch 00012: val_acc did not improve from 0.90000\n",
            "Epoch 13/70\n",
            "4/4 [==============================] - 1009s 252s/step - loss: 0.1567 - acc: 0.9600 - val_loss: 0.5273 - val_acc: 0.8200\n",
            "\n",
            "Epoch 00013: val_acc did not improve from 0.90000\n",
            "Epoch 14/70\n",
            "4/4 [==============================] - 1033s 258s/step - loss: 0.1274 - acc: 0.9650 - val_loss: 0.5226 - val_acc: 0.8000\n",
            "\n",
            "Epoch 00014: val_acc did not improve from 0.90000\n",
            "Epoch 15/70\n",
            "4/4 [==============================] - 1033s 258s/step - loss: 0.1407 - acc: 0.9600 - val_loss: 0.4351 - val_acc: 0.9000\n",
            "\n",
            "Epoch 00015: val_acc did not improve from 0.90000\n",
            "Epoch 16/70\n",
            "4/4 [==============================] - 1032s 258s/step - loss: 0.1219 - acc: 0.9600 - val_loss: 0.3891 - val_acc: 0.9000\n",
            "\n",
            "Epoch 00016: val_acc did not improve from 0.90000\n",
            "Epoch 17/70\n",
            "4/4 [==============================] - 1032s 258s/step - loss: 0.1191 - acc: 0.9750 - val_loss: 0.3951 - val_acc: 0.9000\n",
            "\n",
            "Epoch 00017: val_acc did not improve from 0.90000\n",
            "Epoch 18/70\n",
            "4/4 [==============================] - 1032s 258s/step - loss: 0.1217 - acc: 0.9600 - val_loss: 0.4263 - val_acc: 0.8600\n",
            "\n",
            "Epoch 00018: val_acc did not improve from 0.90000\n",
            "Epoch 19/70\n",
            "4/4 [==============================] - 1032s 258s/step - loss: 0.1304 - acc: 0.9650 - val_loss: 0.4449 - val_acc: 0.8800\n",
            "\n",
            "Epoch 00019: val_acc did not improve from 0.90000\n",
            "Epoch 20/70\n",
            "4/4 [==============================] - 1032s 258s/step - loss: 0.1111 - acc: 0.9600 - val_loss: 0.4474 - val_acc: 0.9000\n",
            "\n",
            "Epoch 00020: val_acc did not improve from 0.90000\n",
            "Epoch 21/70\n",
            "4/4 [==============================] - 1033s 258s/step - loss: 0.1280 - acc: 0.9700 - val_loss: 0.4673 - val_acc: 0.9000\n",
            "\n",
            "Epoch 00021: val_acc did not improve from 0.90000\n",
            "Epoch 22/70\n",
            "4/4 [==============================] - 1034s 258s/step - loss: 0.1256 - acc: 0.9500 - val_loss: 0.4728 - val_acc: 0.9000\n",
            "\n",
            "Epoch 00022: val_acc did not improve from 0.90000\n",
            "Epoch 23/70\n",
            "4/4 [==============================] - 1031s 258s/step - loss: 0.0953 - acc: 0.9750 - val_loss: 0.5128 - val_acc: 0.9000\n",
            "\n",
            "Epoch 00023: val_acc did not improve from 0.90000\n",
            "Epoch 24/70\n",
            "4/4 [==============================] - 988s 247s/step - loss: 0.0996 - acc: 0.9650 - val_loss: 0.5344 - val_acc: 0.9000\n",
            "\n",
            "Epoch 00024: val_acc did not improve from 0.90000\n",
            "Epoch 25/70\n",
            "4/4 [==============================] - 978s 244s/step - loss: 0.1075 - acc: 0.9800 - val_loss: 0.4939 - val_acc: 0.8800\n",
            "\n",
            "Epoch 00025: val_acc did not improve from 0.90000\n",
            "Epoch 26/70\n",
            "4/4 [==============================] - 978s 244s/step - loss: 0.0848 - acc: 0.9800 - val_loss: 0.4564 - val_acc: 0.9000\n",
            "\n",
            "Epoch 00026: val_acc did not improve from 0.90000\n",
            "Epoch 27/70\n",
            "4/4 [==============================] - 977s 244s/step - loss: 0.0907 - acc: 0.9800 - val_loss: 0.4210 - val_acc: 0.9200\n",
            "\n",
            "Epoch 00027: val_acc improved from 0.90000 to 0.92000, saving model to ../models/ResNET_80_20_split_ADAM_LR0.01_weights-improvement-27-0.92.hdf5\n",
            "Epoch 28/70\n",
            "4/4 [==============================] - 1004s 251s/step - loss: 0.0603 - acc: 0.9900 - val_loss: 0.4010 - val_acc: 0.9200\n",
            "\n",
            "Epoch 00028: val_acc did not improve from 0.92000\n",
            "Epoch 29/70\n",
            "4/4 [==============================] - 1038s 259s/step - loss: 0.0856 - acc: 0.9750 - val_loss: 0.3874 - val_acc: 0.9200\n",
            "\n",
            "Epoch 00029: val_acc did not improve from 0.92000\n",
            "Epoch 30/70\n",
            "4/4 [==============================] - 1035s 259s/step - loss: 0.0810 - acc: 0.9850 - val_loss: 0.3787 - val_acc: 0.9200\n",
            "\n",
            "Epoch 00030: val_acc did not improve from 0.92000\n",
            "Epoch 31/70\n",
            "4/4 [==============================] - 1033s 258s/step - loss: 0.0790 - acc: 0.9900 - val_loss: 0.3753 - val_acc: 0.9200\n",
            "\n",
            "Epoch 00031: val_acc did not improve from 0.92000\n",
            "Epoch 32/70\n",
            "4/4 [==============================] - 1034s 259s/step - loss: 0.0558 - acc: 0.9900 - val_loss: 0.3692 - val_acc: 0.9200\n",
            "\n",
            "Epoch 00032: val_acc did not improve from 0.92000\n",
            "Epoch 33/70\n",
            "4/4 [==============================] - 1034s 259s/step - loss: 0.0928 - acc: 0.9850 - val_loss: 0.3642 - val_acc: 0.9200\n",
            "\n",
            "Epoch 00033: val_acc did not improve from 0.92000\n",
            "Epoch 34/70\n",
            "4/4 [==============================] - 1022s 256s/step - loss: 0.0998 - acc: 0.9700 - val_loss: 0.3615 - val_acc: 0.9200\n",
            "\n",
            "Epoch 00034: val_acc did not improve from 0.92000\n",
            "Epoch 35/70\n",
            "4/4 [==============================] - 982s 246s/step - loss: 0.0905 - acc: 0.9750 - val_loss: 0.3601 - val_acc: 0.9200\n",
            "\n",
            "Epoch 00035: val_acc did not improve from 0.92000\n",
            "Epoch 36/70\n",
            "4/4 [==============================] - 978s 245s/step - loss: 0.0931 - acc: 0.9750 - val_loss: 0.3603 - val_acc: 0.9200\n",
            "\n",
            "Epoch 00036: val_acc did not improve from 0.92000\n",
            "Epoch 37/70\n",
            "4/4 [==============================] - 978s 245s/step - loss: 0.0822 - acc: 0.9850 - val_loss: 0.3591 - val_acc: 0.9400\n",
            "\n",
            "Epoch 00037: val_acc improved from 0.92000 to 0.94000, saving model to ../models/ResNET_80_20_split_ADAM_LR0.01_weights-improvement-37-0.94.hdf5\n",
            "Epoch 38/70\n",
            "4/4 [==============================] - 978s 244s/step - loss: 0.0981 - acc: 0.9750 - val_loss: 0.3582 - val_acc: 0.9400\n",
            "\n",
            "Epoch 00038: val_acc did not improve from 0.94000\n",
            "Epoch 39/70\n",
            "4/4 [==============================] - 978s 245s/step - loss: 0.0978 - acc: 0.9750 - val_loss: 0.3573 - val_acc: 0.9400\n",
            "\n",
            "Epoch 00039: val_acc did not improve from 0.94000\n",
            "Epoch 40/70\n",
            "4/4 [==============================] - 977s 244s/step - loss: 0.1007 - acc: 0.9700 - val_loss: 0.3550 - val_acc: 0.9400\n"
          ],
          "name": "stdout"
        },
        {
          "output_type": "stream",
          "text": [
            "\n",
            "Epoch 00040: val_acc did not improve from 0.94000\n",
            "Epoch 41/70\n",
            "4/4 [==============================] - 978s 244s/step - loss: 0.0773 - acc: 0.9800 - val_loss: 0.3530 - val_acc: 0.9400\n",
            "\n",
            "Epoch 00041: val_acc did not improve from 0.94000\n",
            "Epoch 42/70\n",
            "4/4 [==============================] - 977s 244s/step - loss: 0.0946 - acc: 0.9700 - val_loss: 0.3499 - val_acc: 0.9400\n",
            "\n",
            "Epoch 00042: val_acc did not improve from 0.94000\n",
            "Epoch 43/70\n",
            "4/4 [==============================] - 977s 244s/step - loss: 0.0659 - acc: 0.9900 - val_loss: 0.3470 - val_acc: 0.9400\n",
            "\n",
            "Epoch 00043: val_acc did not improve from 0.94000\n",
            "Epoch 44/70\n",
            "4/4 [==============================] - 977s 244s/step - loss: 0.0940 - acc: 0.9750 - val_loss: 0.3439 - val_acc: 0.9400\n",
            "\n",
            "Epoch 00044: val_acc did not improve from 0.94000\n",
            "Epoch 45/70\n",
            "4/4 [==============================] - 977s 244s/step - loss: 0.0605 - acc: 0.9900 - val_loss: 0.3416 - val_acc: 0.9400\n",
            "\n",
            "Epoch 00045: val_acc did not improve from 0.94000\n",
            "Epoch 46/70\n",
            "4/4 [==============================] - 981s 245s/step - loss: 0.1038 - acc: 0.9800 - val_loss: 0.3393 - val_acc: 0.9400\n",
            "\n",
            "Epoch 00046: val_acc did not improve from 0.94000\n",
            "Epoch 47/70\n",
            "4/4 [==============================] - 978s 244s/step - loss: 0.0855 - acc: 0.9750 - val_loss: 0.3379 - val_acc: 0.9400\n",
            "\n",
            "Epoch 00047: val_acc did not improve from 0.94000\n",
            "Epoch 48/70\n",
            "4/4 [==============================] - 979s 245s/step - loss: 0.0857 - acc: 0.9750 - val_loss: 0.3353 - val_acc: 0.9400\n",
            "\n",
            "Epoch 00048: val_acc did not improve from 0.94000\n",
            "Epoch 49/70\n",
            "4/4 [==============================] - 979s 245s/step - loss: 0.1210 - acc: 0.9700 - val_loss: 0.3325 - val_acc: 0.9400\n",
            "\n",
            "Epoch 00049: val_acc did not improve from 0.94000\n",
            "Epoch 50/70\n",
            "4/4 [==============================] - 978s 245s/step - loss: 0.0918 - acc: 0.9650 - val_loss: 0.3304 - val_acc: 0.9400\n",
            "\n",
            "Epoch 00050: val_acc did not improve from 0.94000\n",
            "Epoch 51/70\n",
            "4/4 [==============================] - 978s 245s/step - loss: 0.0834 - acc: 0.9750 - val_loss: 0.3281 - val_acc: 0.9400\n",
            "\n",
            "Epoch 00051: val_acc did not improve from 0.94000\n",
            "Epoch 52/70\n",
            "4/4 [==============================] - 979s 245s/step - loss: 0.0732 - acc: 0.9850 - val_loss: 0.3262 - val_acc: 0.9400\n",
            "\n",
            "Epoch 00052: val_acc did not improve from 0.94000\n",
            "Epoch 53/70\n",
            "4/4 [==============================] - 978s 245s/step - loss: 0.0833 - acc: 0.9700 - val_loss: 0.3253 - val_acc: 0.9400\n",
            "\n",
            "Epoch 00053: val_acc did not improve from 0.94000\n",
            "Epoch 54/70\n",
            "4/4 [==============================] - 979s 245s/step - loss: 0.0612 - acc: 0.9950 - val_loss: 0.3245 - val_acc: 0.9400\n",
            "\n",
            "Epoch 00054: val_acc did not improve from 0.94000\n",
            "Epoch 55/70\n",
            "4/4 [==============================] - 978s 244s/step - loss: 0.0669 - acc: 0.9900 - val_loss: 0.3233 - val_acc: 0.9400\n",
            "\n",
            "Epoch 00055: val_acc did not improve from 0.94000\n",
            "Epoch 56/70\n",
            "4/4 [==============================] - 978s 245s/step - loss: 0.0888 - acc: 0.9800 - val_loss: 0.3224 - val_acc: 0.9400\n",
            "\n",
            "Epoch 00056: val_acc did not improve from 0.94000\n",
            "Epoch 57/70\n",
            "4/4 [==============================] - 979s 245s/step - loss: 0.0933 - acc: 0.9750 - val_loss: 0.3215 - val_acc: 0.9400\n",
            "\n",
            "Epoch 00057: val_acc did not improve from 0.94000\n",
            "Epoch 58/70\n",
            "4/4 [==============================] - 979s 245s/step - loss: 0.0783 - acc: 0.9850 - val_loss: 0.3206 - val_acc: 0.9400\n",
            "\n",
            "Epoch 00058: val_acc did not improve from 0.94000\n",
            "Epoch 59/70\n",
            "4/4 [==============================] - 979s 245s/step - loss: 0.1270 - acc: 0.9450 - val_loss: 0.3195 - val_acc: 0.9400\n",
            "\n",
            "Epoch 00059: val_acc did not improve from 0.94000\n",
            "Epoch 60/70\n",
            "4/4 [==============================] - 980s 245s/step - loss: 0.0655 - acc: 0.9850 - val_loss: 0.3193 - val_acc: 0.9400\n",
            "\n",
            "Epoch 00060: val_acc did not improve from 0.94000\n",
            "Epoch 61/70\n",
            "4/4 [==============================] - 979s 245s/step - loss: 0.0668 - acc: 0.9700 - val_loss: 0.3188 - val_acc: 0.9400\n",
            "\n",
            "Epoch 00061: val_acc did not improve from 0.94000\n",
            "Epoch 62/70\n",
            "4/4 [==============================] - 979s 245s/step - loss: 0.0958 - acc: 0.9700 - val_loss: 0.3183 - val_acc: 0.9400\n",
            "\n",
            "Epoch 00062: val_acc did not improve from 0.94000\n",
            "Epoch 63/70\n",
            "4/4 [==============================] - 979s 245s/step - loss: 0.0675 - acc: 0.9850 - val_loss: 0.3177 - val_acc: 0.9400\n",
            "\n",
            "Epoch 00063: val_acc did not improve from 0.94000\n",
            "Epoch 64/70\n",
            "4/4 [==============================] - 978s 244s/step - loss: 0.1031 - acc: 0.9700 - val_loss: 0.3176 - val_acc: 0.9400\n",
            "\n",
            "Epoch 00064: val_acc did not improve from 0.94000\n",
            "Epoch 65/70\n",
            "4/4 [==============================] - 979s 245s/step - loss: 0.0835 - acc: 0.9750 - val_loss: 0.3177 - val_acc: 0.9400\n",
            "\n",
            "Epoch 00065: val_acc did not improve from 0.94000\n",
            "Epoch 66/70\n",
            "4/4 [==============================] - 978s 245s/step - loss: 0.0588 - acc: 1.0000 - val_loss: 0.3174 - val_acc: 0.9400\n",
            "\n",
            "Epoch 00066: val_acc did not improve from 0.94000\n",
            "Epoch 67/70\n",
            "4/4 [==============================] - 978s 245s/step - loss: 0.0478 - acc: 1.0000 - val_loss: 0.3177 - val_acc: 0.9400\n",
            "\n",
            "Epoch 00067: val_acc did not improve from 0.94000\n",
            "Epoch 68/70\n",
            "4/4 [==============================] - 979s 245s/step - loss: 0.0877 - acc: 0.9850 - val_loss: 0.3176 - val_acc: 0.9400\n",
            "\n",
            "Epoch 00068: val_acc did not improve from 0.94000\n",
            "Epoch 69/70\n",
            "4/4 [==============================] - 979s 245s/step - loss: 0.0789 - acc: 0.9800 - val_loss: 0.3179 - val_acc: 0.9400\n",
            "\n",
            "Epoch 00069: val_acc did not improve from 0.94000\n",
            "Epoch 70/70\n",
            "4/4 [==============================] - 979s 245s/step - loss: 0.0887 - acc: 0.9850 - val_loss: 0.3175 - val_acc: 0.9400\n",
            "\n",
            "Epoch 00070: val_acc did not improve from 0.94000\n"
          ],
          "name": "stdout"
        }
      ]
    },
    {
      "cell_type": "code",
      "metadata": {
        "id": "QrZVWV6Xrh7Z",
        "colab_type": "code",
        "colab": {}
      },
      "source": [
        "model.save('../models/ResNET_80_20_split_ADAM_LR0.005.h5')  # creates a HDF5 file 'my_model.h5'\n",
        "# save weights\n",
        "model.save_weights('../models/ResNET_80_20_split_ADAM_LR0.005_weights.h5')\n",
        "# to restore a model from a checkpoint see: https://machinelearningmastery.com/check-point-deep-learning-models-keras/"
      ],
      "execution_count": 0,
      "outputs": []
    },
    {
      "cell_type": "code",
      "metadata": {
        "id": "nLgEy6VXrh7a",
        "colab_type": "code",
        "colab": {},
        "outputId": "5a8b3895-c80b-4f6d-c9d3-39bef9e907e7"
      },
      "source": [
        "valLoss, valAcc = model.evaluate(X_test, y_test, verbose=0)\n",
        "trainLoss, trainAcc = model.evaluate(X_train, y_train, verbose=0)\n",
        "print(\"Validation Loss: {0:.6f}, Validation Accuracy: {1:.6f}\".format(valLoss, valAcc))\n",
        "print(\"Train Loss: {0:.6f}, Train Accuracy: {1:.6f}\".format(trainLoss, trainAcc))"
      ],
      "execution_count": 0,
      "outputs": [
        {
          "output_type": "stream",
          "text": [
            "Validation Loss: 0.317461, Validation Accuracy: 0.940000\n",
            "Train Loss: 0.033073, Train Accuracy: 1.000000\n"
          ],
          "name": "stdout"
        }
      ]
    },
    {
      "cell_type": "code",
      "metadata": {
        "id": "RlSM_0dGrh7e",
        "colab_type": "code",
        "colab": {},
        "outputId": "656d236b-9f2f-41b6-d678-cbf2a157ea9e"
      },
      "source": [
        "sns.set_color_codes(\"pastel\")\n",
        "sns.set_style(\"white\")\n",
        "#sns.lineplot(x='loss', data = )\n",
        "plt.plot(history.history['loss'], label = \"Training Loss\")\n",
        "plt.plot(history.history['val_loss'], label = \"Validation Loss\")\n",
        "plt.legend()\n",
        "plt.show()\n",
        "plt.plot(history.history['acc'],label = \"Training Accuracy\")\n",
        "plt.plot(history.history['val_acc'], label = \"Validation Accuracy\")\n",
        "plt.legend()\n",
        "plt.show()"
      ],
      "execution_count": 0,
      "outputs": [
        {
          "output_type": "display_data",
          "data": {
            "image/png": "[encoded data removed]",
            "text/plain": [
              "<matplotlib.figure.Figure at 0x1f79fc92828>"
            ]
          },
          "metadata": {
            "tags": []
          }
        },
        {
          "output_type": "display_data",
          "data": {
            "image/png": "[encoded data removed]",
            "text/plain": [
              "<matplotlib.figure.Figure at 0x1f8bec87b38>"
            ]
          },
          "metadata": {
            "tags": []
          }
        }
      ]
    },
    {
      "cell_type": "code",
      "metadata": {
        "id": "4nNJCibvrh7k",
        "colab_type": "code",
        "colab": {},
        "outputId": "70d8819a-7aab-43b5-efde-d8a951d204ca"
      },
      "source": [
        "model = load_model('../models/ResNET_80_20_split_ADAM_LR0.005.h5')\n",
        "model.load_weights('../models/ResNET_80_20_split_ADAM_LR0.005_weights.h5')\n",
        "pred = model.predict(X_test) # Predict values of the test set\n",
        "#y_testCat = to_categorical(y_test, num_classes = classNum) \n",
        "testLoss, testAcc = model.evaluate(X_test, y_test, verbose=0)\n",
        "print(testLoss,testAcc)\n",
        "\n",
        "pred1hot = np.argmax(pred, axis=1) # Convert predicted classes to one hot vectors\n",
        "y_test1hot = np.argmax(y_test, axis=1) # Convert true classes to one hot vectors\n",
        "cm = confusion_matrix(y_test1hot, pred1hot) #confusion matrix\n",
        "\n",
        "plt.figure(figsize=(9,9))\n",
        "sns.heatmap(cm, annot=True, fmt=\".0f\", linewidths=.5, square = True, cmap=\"YlGnBu\");\n",
        "plt.ylabel('True Labels');\n",
        "plt.xlabel('Predicted Labels');\n",
        "\n",
        "plt.title('Test Loss = %.4f, Test Accuracy = %.4f'%(testLoss, testAcc), size = 15);\n",
        "\n",
        "#plot_confusion_matrix(confusion_mtx, classes = range(10)) "
      ],
      "execution_count": 0,
      "outputs": [
        {
          "output_type": "stream",
          "text": [
            "0.3174612545967102 0.9399999904632569\n"
          ],
          "name": "stdout"
        },
        {
          "output_type": "display_data",
          "data": {
            "image/png": "[encoded data removed]",
            "text/plain": [
              "<matplotlib.figure.Figure at 0x1f90a351320>"
            ]
          },
          "metadata": {
            "tags": []
          }
        }
      ]
    },
    {
      "cell_type": "markdown",
      "metadata": {
        "id": "lSTlTZqMrh7q",
        "colab_type": "text"
      },
      "source": [
        "## ResNET with ADAM LR = 0.001 80/20 train/test Split"
      ]
    },
    {
      "cell_type": "code",
      "metadata": {
        "id": "X1lcyACarh7z",
        "colab_type": "code",
        "colab": {}
      },
      "source": [
        "with open ('../input/X_gray', 'rb') as f3:\n",
        "    X = pickle.load(f3)\n",
        "with open ('../input/y_gray', 'rb') as f4:\n",
        "    y = pickle.load(f4)"
      ],
      "execution_count": 0,
      "outputs": []
    },
    {
      "cell_type": "code",
      "metadata": {
        "id": "9f4VkQlorh7_",
        "colab_type": "code",
        "colab": {},
        "outputId": "2dcbce02-798c-4bfb-a484-8021ceb9f99b"
      },
      "source": [
        "X_train, X_test, y_train, y_test = train_test_split(X,y,test_size = 0.20,stratify=y, random_state =42)\n",
        "print(\"<3 Shape of My Heart <3 : \")\n",
        "print(\"=========================\")\n",
        "print(\"Training:\", X_train.shape)\n",
        "print(\"Testing:\", X_test.shape)\n",
        "\n",
        "print(y_train.shape)\n",
        "train_top20 = pd.DataFrame(y_train.value_counts())\n",
        "train_top20.reset_index(inplace=True)\n",
        "train_top20.columns = ['ID','Counts']\n",
        "\n",
        "\n",
        "test_top20 = pd.DataFrame(y_test.value_counts())\n",
        "test_top20.reset_index(inplace=True)\n",
        "test_top20.columns = ['ID','Counts']\n",
        "\n",
        "f,(ax1,ax3) = plt.subplots(2,1,sharex=True)\n",
        "\n",
        "fig1 = sns.barplot(x=\"ID\", y=\"Counts\", data=train_top20, ax=ax1)\n",
        "fig1.set_ylabel('Train')\n",
        "fig1.set_xlabel('')\n",
        "\n",
        "\n",
        "fig3 = sns.barplot(x=\"ID\", y=\"Counts\", data=test_top20, ax=ax3)\n",
        "fig3.set_ylabel('Test')\n",
        "fig3.set_xlabel('')\n",
        "f=plt.xticks(rotation=45)\n",
        "suptitle(\"Categorical Distrbution of Images\", fontsize=16)\n",
        "\n",
        "#f.savefig('../figures/train_test_Dist.png')\n",
        "\n",
        "#X_train, X_val, y_train, y_val = train_test_split(X_train, y_train, test_size=0.15,stratify=y_train)\n",
        "height = 224\n",
        "width = 224\n",
        "channels =1\n",
        "X_train = X_train.reshape(-1,height,width,channels) # dimension (60000) is inferred by setting the first element to -1\n",
        "X_test = X_test.reshape(-1,height,width,channels)\n",
        "#X_val = X_val.reshape(-1,height,width,channels)\n",
        "y_train = LabelEncoder().fit_transform(y_train)\n",
        "#y_train = OneHotEncoder().fit_transform(y_train.reshape(-1,1))\n",
        "#y_val = LabelEncoder().fit_transform(y_val)\n",
        "#y_val = OneHotEncoder().fit_transform(y_val.reshape(-1,1))\n",
        "y_test = LabelEncoder().fit_transform(y_test)\n",
        "#y_test = OneHotEncoder().fit_transform(y_test.reshape(-1,1))\n",
        "print(y_train.shape)\n",
        "#print(y_val.shape)\n",
        "print(y_test.shape)\n",
        "classNum = 11#len(np.unique(y_train)) # number of unique labels is counted to determine the # of classes\n",
        "y_train = to_categorical(y_train, num_classes = classNum)\n",
        "y_test = to_categorical(y_test, num_classes = classNum)\n",
        "#y_val = to_categorical(y_val, num_classes = classNum)"
      ],
      "execution_count": 0,
      "outputs": [
        {
          "output_type": "stream",
          "text": [
            "<3 Shape of My Heart <3 : \n",
            "=========================\n",
            "Training: (200, 224, 224, 1)\n",
            "Testing: (50, 224, 224, 1)\n",
            "(200,)\n",
            "(200,)\n",
            "(50,)\n"
          ],
          "name": "stdout"
        },
        {
          "output_type": "display_data",
          "data": {
            "image/png": "[encoded data removed]",
            "text/plain": [
              "<matplotlib.figure.Figure at 0x20fd36a3048>"
            ]
          },
          "metadata": {
            "tags": []
          }
        }
      ]
    },
    {
      "cell_type": "code",
      "metadata": {
        "id": "PEaCB9b3rh8C",
        "colab_type": "code",
        "colab": {}
      },
      "source": [
        "datagen = ImageDataGenerator(\n",
        "        rotation_range=20,  # randomly rotate images in the range (degrees, 0 to 180)\n",
        "        zoom_range = 0.2, # Randomly zoom image \n",
        "        width_shift_range=0.2,  # randomly shift images horizontally (fraction of total width)\n",
        "        height_shift_range=0.2,  # randomly shift images vertically (fraction of total height)\n",
        "        horizontal_flip=True,  # randomly flip images horizontally only!\n",
        "        vertical_flip=False,  #  do not randomly flip images vertically!\n",
        "        fill_mode='nearest',\n",
        "        #shear_range = 0.2,\n",
        "        zca_whitening = False) # A whitening transform of an image is a linear algebra operation that reduces the redundancy in the matrix of pixel images. Less redundancy in the image is intended to better highlight the structures and features in the image to the learning algorithm.\n",
        "\n",
        "\n",
        "datagen.fit(X_train, augment=True)\n",
        "# configure batch size and retrieve one batch of images\n",
        "#os.makedirs('augmentedImages')\n",
        "#for X_batch, y_batch in datagen.flow(X_train, y_train, batch_size=9, save_to_dir='../augmentedImages', save_prefix='aug', save_format='png'):"
      ],
      "execution_count": 0,
      "outputs": []
    },
    {
      "cell_type": "code",
      "metadata": {
        "id": "6kFPklHDrh8E",
        "colab_type": "code",
        "colab": {},
        "outputId": "cccc4aad-0d37-4d86-a888-96f13295029b"
      },
      "source": [
        "inputShape = (224,224,1)\n",
        "model = load_model('../models/ResNET50_90_10_split.h5')\n",
        "model.load_weights('../models/ResNET50_90_10_weights.h5')\n",
        "model.compile(loss=keras.losses.categorical_crossentropy,\n",
        "              optimizer=keras.optimizers.Adam(), #instead of annealer decay = DR can be set, too\n",
        "              metrics=['accuracy'])\n",
        "annealer = LearningRateScheduler(lambda x: 1e-3 * 0.9 ** x)\n",
        "# Fit the model\n",
        "Epochs = 70 # \n",
        "batchSize = 50 # number of randomly taken samples from features and labels to feed into each epoch \n",
        "                # until an epoch limit is reached.\n",
        "# checkpoint\n",
        "filepath=\"../models/ResNET_80_20_split_LR0.001-{epoch:02d}-{val_acc:.2f}.hdf5\"\n",
        "checkpoint = ModelCheckpoint(filepath, monitor='val_acc', verbose=1, save_best_only=True, mode='max')\n",
        "#callbacks_list = [checkpoint]\n",
        "history = model.fit_generator(datagen.flow(X_train,y_train, batch_size=batchSize),\n",
        "                              epochs = Epochs, validation_data = (X_test,y_test),\n",
        "                              verbose = 1, steps_per_epoch=X_train.shape[0] // batchSize\n",
        "                              , callbacks=[annealer, checkpoint])"
      ],
      "execution_count": 0,
      "outputs": [
        {
          "output_type": "stream",
          "text": [
            "Epoch 1/70\n",
            "4/4 [==============================] - 1082s 270s/step - loss: 1.0804 - acc: 0.7150 - val_loss: 3.8688 - val_acc: 0.2600\n",
            "\n",
            "Epoch 00001: val_acc improved from -inf to 0.26000, saving model to ../models/ResNET_80_20_split_weights-improvement-01-0.26.hdf5\n",
            "Epoch 2/70\n",
            "4/4 [==============================] - 1057s 264s/step - loss: 0.9359 - acc: 0.7250 - val_loss: 6.7833 - val_acc: 0.2600\n",
            "\n",
            "Epoch 00002: val_acc did not improve from 0.26000\n",
            "Epoch 3/70\n",
            "4/4 [==============================] - 1058s 264s/step - loss: 0.5925 - acc: 0.7700 - val_loss: 4.9300 - val_acc: 0.2400\n",
            "\n",
            "Epoch 00003: val_acc did not improve from 0.26000\n",
            "Epoch 4/70\n",
            "4/4 [==============================] - 1056s 264s/step - loss: 0.5754 - acc: 0.8200 - val_loss: 4.3895 - val_acc: 0.2800\n",
            "\n",
            "Epoch 00004: val_acc improved from 0.26000 to 0.28000, saving model to ../models/ResNET_80_20_split_weights-improvement-04-0.28.hdf5\n",
            "Epoch 5/70\n",
            "4/4 [==============================] - 1057s 264s/step - loss: 0.5581 - acc: 0.7950 - val_loss: 3.3267 - val_acc: 0.3200\n",
            "\n",
            "Epoch 00005: val_acc improved from 0.28000 to 0.32000, saving model to ../models/ResNET_80_20_split_weights-improvement-05-0.32.hdf5\n",
            "Epoch 6/70\n",
            "4/4 [==============================] - 1054s 263s/step - loss: 0.4828 - acc: 0.8300 - val_loss: 2.1048 - val_acc: 0.6400\n",
            "\n",
            "Epoch 00006: val_acc improved from 0.32000 to 0.64000, saving model to ../models/ResNET_80_20_split_weights-improvement-06-0.64.hdf5\n",
            "Epoch 7/70\n",
            "4/4 [==============================] - 1054s 264s/step - loss: 0.3677 - acc: 0.8750 - val_loss: 0.6994 - val_acc: 0.7400\n",
            "\n",
            "Epoch 00007: val_acc improved from 0.64000 to 0.74000, saving model to ../models/ResNET_80_20_split_weights-improvement-07-0.74.hdf5\n",
            "Epoch 8/70\n",
            "4/4 [==============================] - 1037s 259s/step - loss: 0.3796 - acc: 0.8600 - val_loss: 0.5644 - val_acc: 0.7600\n",
            "\n",
            "Epoch 00008: val_acc improved from 0.74000 to 0.76000, saving model to ../models/ResNET_80_20_split_weights-improvement-08-0.76.hdf5\n",
            "Epoch 9/70\n",
            "4/4 [==============================] - 1036s 259s/step - loss: 0.2969 - acc: 0.8950 - val_loss: 0.5846 - val_acc: 0.7400\n",
            "\n",
            "Epoch 00009: val_acc did not improve from 0.76000\n",
            "Epoch 10/70\n",
            "4/4 [==============================] - 1030s 258s/step - loss: 0.2655 - acc: 0.9300 - val_loss: 0.4067 - val_acc: 0.8400\n",
            "\n",
            "Epoch 00010: val_acc improved from 0.76000 to 0.84000, saving model to ../models/ResNET_80_20_split_weights-improvement-10-0.84.hdf5\n",
            "Epoch 11/70\n",
            "4/4 [==============================] - 1034s 258s/step - loss: 0.2734 - acc: 0.9100 - val_loss: 0.4486 - val_acc: 0.8200\n",
            "\n",
            "Epoch 00011: val_acc did not improve from 0.84000\n",
            "Epoch 12/70\n",
            "4/4 [==============================] - 1034s 259s/step - loss: 0.2552 - acc: 0.9050 - val_loss: 0.4615 - val_acc: 0.8000\n",
            "\n",
            "Epoch 00012: val_acc did not improve from 0.84000\n",
            "Epoch 13/70\n",
            "4/4 [==============================] - 1038s 260s/step - loss: 0.2362 - acc: 0.9350 - val_loss: 0.4584 - val_acc: 0.8400\n",
            "\n",
            "Epoch 00013: val_acc did not improve from 0.84000\n",
            "Epoch 14/70\n",
            "4/4 [==============================] - 1038s 260s/step - loss: 0.2665 - acc: 0.9250 - val_loss: 0.5244 - val_acc: 0.8000\n",
            "\n",
            "Epoch 00014: val_acc did not improve from 0.84000\n",
            "Epoch 15/70\n",
            "4/4 [==============================] - 1033s 258s/step - loss: 0.2065 - acc: 0.9400 - val_loss: 0.4962 - val_acc: 0.8200\n",
            "\n",
            "Epoch 00015: val_acc did not improve from 0.84000\n",
            "Epoch 16/70\n",
            "4/4 [==============================] - 1065s 266s/step - loss: 0.2080 - acc: 0.9450 - val_loss: 0.5537 - val_acc: 0.7800\n",
            "\n",
            "Epoch 00016: val_acc did not improve from 0.84000\n",
            "Epoch 17/70\n",
            "4/4 [==============================] - 1060s 265s/step - loss: 0.2045 - acc: 0.9200 - val_loss: 0.4908 - val_acc: 0.8200\n",
            "\n",
            "Epoch 00017: val_acc did not improve from 0.84000\n",
            "Epoch 18/70\n",
            "4/4 [==============================] - 1073s 268s/step - loss: 0.1565 - acc: 0.9650 - val_loss: 0.4562 - val_acc: 0.8200\n",
            "\n",
            "Epoch 00018: val_acc did not improve from 0.84000\n",
            "Epoch 19/70\n",
            "4/4 [==============================] - 1042s 260s/step - loss: 0.1540 - acc: 0.9700 - val_loss: 0.5123 - val_acc: 0.7800\n",
            "\n",
            "Epoch 00019: val_acc did not improve from 0.84000\n",
            "Epoch 20/70\n",
            "4/4 [==============================] - 1024s 256s/step - loss: 0.1596 - acc: 0.9650 - val_loss: 0.5181 - val_acc: 0.7800\n",
            "\n",
            "Epoch 00020: val_acc did not improve from 0.84000\n",
            "Epoch 21/70\n",
            "4/4 [==============================] - 1018s 255s/step - loss: 0.1734 - acc: 0.9300 - val_loss: 0.5115 - val_acc: 0.8200\n",
            "\n",
            "Epoch 00021: val_acc did not improve from 0.84000\n",
            "Epoch 22/70\n",
            "4/4 [==============================] - 1040s 260s/step - loss: 0.1296 - acc: 0.9700 - val_loss: 0.4928 - val_acc: 0.8400\n",
            "\n",
            "Epoch 00022: val_acc did not improve from 0.84000\n",
            "Epoch 23/70\n",
            "4/4 [==============================] - 1040s 260s/step - loss: 0.1291 - acc: 0.9750 - val_loss: 0.4500 - val_acc: 0.8200\n",
            "\n",
            "Epoch 00023: val_acc did not improve from 0.84000\n",
            "Epoch 24/70\n",
            "4/4 [==============================] - 1068s 267s/step - loss: 0.1478 - acc: 0.9300 - val_loss: 0.4643 - val_acc: 0.8200\n",
            "\n",
            "Epoch 00024: val_acc did not improve from 0.84000\n",
            "Epoch 25/70\n",
            "4/4 [==============================] - 1069s 267s/step - loss: 0.1878 - acc: 0.9550 - val_loss: 0.4995 - val_acc: 0.8400\n",
            "\n",
            "Epoch 00025: val_acc did not improve from 0.84000\n",
            "Epoch 26/70\n",
            "4/4 [==============================] - 1029s 257s/step - loss: 0.1236 - acc: 0.9700 - val_loss: 0.5109 - val_acc: 0.8600\n",
            "\n",
            "Epoch 00026: val_acc improved from 0.84000 to 0.86000, saving model to ../models/ResNET_80_20_split_weights-improvement-26-0.86.hdf5\n",
            "Epoch 27/70\n",
            "4/4 [==============================] - 994s 249s/step - loss: 0.1101 - acc: 0.9700 - val_loss: 0.5081 - val_acc: 0.8400\n",
            "\n",
            "Epoch 00027: val_acc did not improve from 0.86000\n",
            "Epoch 28/70\n",
            "4/4 [==============================] - 1067s 267s/step - loss: 0.1743 - acc: 0.9400 - val_loss: 0.4837 - val_acc: 0.8800\n",
            "\n",
            "Epoch 00028: val_acc improved from 0.86000 to 0.88000, saving model to ../models/ResNET_80_20_split_weights-improvement-28-0.88.hdf5\n",
            "Epoch 29/70\n",
            "4/4 [==============================] - 1048s 262s/step - loss: 0.1508 - acc: 0.9550 - val_loss: 0.4702 - val_acc: 0.8800\n",
            "\n",
            "Epoch 00029: val_acc did not improve from 0.88000\n",
            "Epoch 30/70\n",
            "4/4 [==============================] - 1047s 262s/step - loss: 0.1517 - acc: 0.9600 - val_loss: 0.4654 - val_acc: 0.8800\n",
            "\n",
            "Epoch 00030: val_acc did not improve from 0.88000\n",
            "Epoch 31/70\n",
            "4/4 [==============================] - 1066s 267s/step - loss: 0.1625 - acc: 0.9500 - val_loss: 0.4621 - val_acc: 0.8600\n",
            "\n",
            "Epoch 00031: val_acc did not improve from 0.88000\n",
            "Epoch 32/70\n",
            "4/4 [==============================] - 1067s 267s/step - loss: 0.1121 - acc: 0.9900 - val_loss: 0.4696 - val_acc: 0.8600\n",
            "\n",
            "Epoch 00032: val_acc did not improve from 0.88000\n",
            "Epoch 33/70\n",
            "4/4 [==============================] - 1007s 252s/step - loss: 0.1290 - acc: 0.9550 - val_loss: 0.4639 - val_acc: 0.8600\n",
            "\n",
            "Epoch 00033: val_acc did not improve from 0.88000\n",
            "Epoch 34/70\n",
            "4/4 [==============================] - 979s 245s/step - loss: 0.1149 - acc: 0.9750 - val_loss: 0.4595 - val_acc: 0.9000\n",
            "\n",
            "Epoch 00034: val_acc improved from 0.88000 to 0.90000, saving model to ../models/ResNET_80_20_split_weights-improvement-34-0.90.hdf5\n",
            "Epoch 35/70\n",
            "4/4 [==============================] - 979s 245s/step - loss: 0.1238 - acc: 0.9600 - val_loss: 0.4709 - val_acc: 0.8800\n",
            "\n",
            "Epoch 00035: val_acc did not improve from 0.90000\n",
            "Epoch 36/70\n",
            "4/4 [==============================] - 981s 245s/step - loss: 0.1346 - acc: 0.9700 - val_loss: 0.4818 - val_acc: 0.9000\n",
            "\n",
            "Epoch 00036: val_acc did not improve from 0.90000\n",
            "Epoch 37/70\n",
            "4/4 [==============================] - 979s 245s/step - loss: 0.1124 - acc: 0.9800 - val_loss: 0.4781 - val_acc: 0.9000\n",
            "\n",
            "Epoch 00037: val_acc did not improve from 0.90000\n",
            "Epoch 38/70\n",
            "4/4 [==============================] - 980s 245s/step - loss: 0.1433 - acc: 0.9400 - val_loss: 0.4608 - val_acc: 0.9000\n",
            "\n",
            "Epoch 00038: val_acc did not improve from 0.90000\n",
            "Epoch 39/70\n",
            "4/4 [==============================] - 981s 245s/step - loss: 0.1306 - acc: 0.9500 - val_loss: 0.4482 - val_acc: 0.9000\n",
            "\n",
            "Epoch 00039: val_acc did not improve from 0.90000\n",
            "Epoch 40/70\n",
            "4/4 [==============================] - 979s 245s/step - loss: 0.1552 - acc: 0.9650 - val_loss: 0.4467 - val_acc: 0.9000\n",
            "\n",
            "Epoch 00040: val_acc did not improve from 0.90000\n",
            "Epoch 41/70\n",
            "4/4 [==============================] - 980s 245s/step - loss: 0.1285 - acc: 0.9650 - val_loss: 0.4567 - val_acc: 0.9000\n",
            "\n",
            "Epoch 00041: val_acc did not improve from 0.90000\n",
            "Epoch 42/70\n",
            "4/4 [==============================] - 980s 245s/step - loss: 0.1348 - acc: 0.9650 - val_loss: 0.4631 - val_acc: 0.9000\n",
            "\n",
            "Epoch 00042: val_acc did not improve from 0.90000\n",
            "Epoch 43/70\n",
            "4/4 [==============================] - 979s 245s/step - loss: 0.1167 - acc: 0.9650 - val_loss: 0.4698 - val_acc: 0.9000\n",
            "\n",
            "Epoch 00043: val_acc did not improve from 0.90000\n",
            "Epoch 44/70\n",
            "4/4 [==============================] - 980s 245s/step - loss: 0.1001 - acc: 0.9850 - val_loss: 0.4716 - val_acc: 0.8800\n",
            "\n",
            "Epoch 00044: val_acc did not improve from 0.90000\n",
            "Epoch 45/70\n",
            "4/4 [==============================] - 979s 245s/step - loss: 0.1297 - acc: 0.9600 - val_loss: 0.4732 - val_acc: 0.8800\n",
            "\n",
            "Epoch 00045: val_acc did not improve from 0.90000\n",
            "Epoch 46/70\n",
            "4/4 [==============================] - 981s 245s/step - loss: 0.1063 - acc: 0.9750 - val_loss: 0.4752 - val_acc: 0.9000\n",
            "\n",
            "Epoch 00046: val_acc did not improve from 0.90000\n",
            "Epoch 47/70\n",
            "4/4 [==============================] - 979s 245s/step - loss: 0.0924 - acc: 0.9800 - val_loss: 0.4746 - val_acc: 0.9000\n",
            "\n",
            "Epoch 00047: val_acc did not improve from 0.90000\n",
            "Epoch 48/70\n",
            "4/4 [==============================] - 982s 245s/step - loss: 0.1183 - acc: 0.9700 - val_loss: 0.4703 - val_acc: 0.9000\n",
            "\n",
            "Epoch 00048: val_acc did not improve from 0.90000\n",
            "Epoch 49/70\n",
            "4/4 [==============================] - 979s 245s/step - loss: 0.1384 - acc: 0.9700 - val_loss: 0.4661 - val_acc: 0.9000\n",
            "\n",
            "Epoch 00049: val_acc did not improve from 0.90000\n",
            "Epoch 50/70\n",
            "4/4 [==============================] - 981s 245s/step - loss: 0.1012 - acc: 0.9800 - val_loss: 0.4633 - val_acc: 0.9000\n",
            "\n",
            "Epoch 00050: val_acc did not improve from 0.90000\n",
            "Epoch 51/70\n",
            "4/4 [==============================] - 980s 245s/step - loss: 0.0973 - acc: 0.9850 - val_loss: 0.4612 - val_acc: 0.9000\n",
            "\n",
            "Epoch 00051: val_acc did not improve from 0.90000\n",
            "Epoch 52/70\n",
            "4/4 [==============================] - 978s 245s/step - loss: 0.1388 - acc: 0.9600 - val_loss: 0.4598 - val_acc: 0.9000\n",
            "\n",
            "Epoch 00052: val_acc did not improve from 0.90000\n",
            "Epoch 53/70\n",
            "4/4 [==============================] - 980s 245s/step - loss: 0.1194 - acc: 0.9500 - val_loss: 0.4546 - val_acc: 0.9000\n",
            "\n",
            "Epoch 00053: val_acc did not improve from 0.90000\n",
            "Epoch 54/70\n",
            "4/4 [==============================] - 979s 245s/step - loss: 0.1281 - acc: 0.9650 - val_loss: 0.4525 - val_acc: 0.9000\n",
            "\n",
            "Epoch 00054: val_acc did not improve from 0.90000\n",
            "Epoch 55/70\n",
            "4/4 [==============================] - 979s 245s/step - loss: 0.1169 - acc: 0.9800 - val_loss: 0.4492 - val_acc: 0.9000\n",
            "\n",
            "Epoch 00055: val_acc did not improve from 0.90000\n",
            "Epoch 56/70\n",
            "4/4 [==============================] - 979s 245s/step - loss: 0.0864 - acc: 0.9700 - val_loss: 0.4473 - val_acc: 0.9000\n",
            "\n",
            "Epoch 00056: val_acc did not improve from 0.90000\n",
            "Epoch 57/70\n",
            "4/4 [==============================] - 979s 245s/step - loss: 0.1074 - acc: 0.9650 - val_loss: 0.4449 - val_acc: 0.9200\n",
            "\n",
            "Epoch 00057: val_acc improved from 0.90000 to 0.92000, saving model to ../models/ResNET_80_20_split_weights-improvement-57-0.92.hdf5\n",
            "Epoch 58/70\n",
            "4/4 [==============================] - 981s 245s/step - loss: 0.1052 - acc: 0.9800 - val_loss: 0.4431 - val_acc: 0.9200\n",
            "\n",
            "Epoch 00058: val_acc did not improve from 0.92000\n",
            "Epoch 59/70\n",
            "4/4 [==============================] - 979s 245s/step - loss: 0.0912 - acc: 0.9850 - val_loss: 0.4404 - val_acc: 0.9200\n",
            "\n",
            "Epoch 00059: val_acc did not improve from 0.92000\n",
            "Epoch 60/70\n",
            "4/4 [==============================] - 981s 245s/step - loss: 0.1067 - acc: 0.9900 - val_loss: 0.4383 - val_acc: 0.9200\n",
            "\n",
            "Epoch 00060: val_acc did not improve from 0.92000\n",
            "Epoch 61/70\n",
            "4/4 [==============================] - 981s 245s/step - loss: 0.1205 - acc: 0.9700 - val_loss: 0.4359 - val_acc: 0.9200\n",
            "\n",
            "Epoch 00061: val_acc did not improve from 0.92000\n",
            "Epoch 62/70\n",
            "4/4 [==============================] - 981s 245s/step - loss: 0.1425 - acc: 0.9600 - val_loss: 0.4334 - val_acc: 0.9200\n",
            "\n",
            "Epoch 00062: val_acc did not improve from 0.92000\n",
            "Epoch 63/70\n",
            "4/4 [==============================] - 981s 245s/step - loss: 0.0969 - acc: 0.9900 - val_loss: 0.4318 - val_acc: 0.9200\n",
            "\n",
            "Epoch 00063: val_acc did not improve from 0.92000\n",
            "Epoch 64/70\n",
            "4/4 [==============================] - 979s 245s/step - loss: 0.1256 - acc: 0.9700 - val_loss: 0.4304 - val_acc: 0.9200\n",
            "\n",
            "Epoch 00064: val_acc did not improve from 0.92000\n",
            "Epoch 65/70\n",
            "4/4 [==============================] - 1036s 259s/step - loss: 0.1024 - acc: 0.9850 - val_loss: 0.4291 - val_acc: 0.9200\n",
            "\n",
            "Epoch 00065: val_acc did not improve from 0.92000\n",
            "Epoch 66/70\n",
            "4/4 [==============================] - 1065s 266s/step - loss: 0.1025 - acc: 0.9750 - val_loss: 0.4277 - val_acc: 0.9200\n",
            "\n",
            "Epoch 00066: val_acc did not improve from 0.92000\n",
            "Epoch 67/70\n",
            "4/4 [==============================] - 1055s 264s/step - loss: 0.1267 - acc: 0.9650 - val_loss: 0.4263 - val_acc: 0.9200\n",
            "\n",
            "Epoch 00067: val_acc did not improve from 0.92000\n",
            "Epoch 68/70\n",
            "4/4 [==============================] - 1052s 263s/step - loss: 0.1084 - acc: 0.9700 - val_loss: 0.4246 - val_acc: 0.9200\n",
            "\n",
            "Epoch 00068: val_acc did not improve from 0.92000\n",
            "Epoch 69/70\n",
            "4/4 [==============================] - 1051s 263s/step - loss: 0.1303 - acc: 0.9650 - val_loss: 0.4227 - val_acc: 0.9200\n",
            "\n",
            "Epoch 00069: val_acc did not improve from 0.92000\n",
            "Epoch 70/70\n",
            "4/4 [==============================] - 1080s 270s/step - loss: 0.1200 - acc: 0.9550 - val_loss: 0.4214 - val_acc: 0.9200\n",
            "\n",
            "Epoch 00070: val_acc did not improve from 0.92000\n"
          ],
          "name": "stdout"
        }
      ]
    },
    {
      "cell_type": "code",
      "metadata": {
        "id": "MlSRb_xDrh8J",
        "colab_type": "code",
        "colab": {}
      },
      "source": [
        "model.save('../models/ResNET50_80_20_split_LR0.001.h5')  # creates a HDF5 file 'my_model.h5'\n",
        "# save weights\n",
        "model.save_weights('../models/ResNET50_80_20_LR0.001_weights.h5')\n",
        "# to restore a model from a checkpoint see: https://machinelearningmastery.com/check-point-deep-learning-models-keras/"
      ],
      "execution_count": 0,
      "outputs": []
    },
    {
      "cell_type": "code",
      "metadata": {
        "id": "KpP_fcCRrh8M",
        "colab_type": "code",
        "colab": {},
        "outputId": "216c6c90-60c9-45f4-c2b1-37572d961316"
      },
      "source": [
        "valLoss, valAcc = model.evaluate(X_test, y_test, verbose=0)\n",
        "trainLoss, trainAcc = model.evaluate(X_train, y_train, verbose=0)\n",
        "print(\"Validation Loss: {0:.6f}, Validation Accuracy: {1:.6f}\".format(valLoss, valAcc))\n",
        "print(\"Train Loss: {0:.6f}, Train Accuracy: {1:.6f}\".format(trainLoss, trainAcc))"
      ],
      "execution_count": 0,
      "outputs": [
        {
          "output_type": "stream",
          "text": [
            "Validation Loss: 0.421412, Validation Accuracy: 0.920000\n",
            "Train Loss: 0.071216, Train Accuracy: 0.975000\n"
          ],
          "name": "stdout"
        }
      ]
    },
    {
      "cell_type": "code",
      "metadata": {
        "id": "As8NrbWRrh8P",
        "colab_type": "code",
        "colab": {},
        "outputId": "cd94bf5a-e7e1-4723-ba6f-1facd24c99d3"
      },
      "source": [
        "sns.set_color_codes(\"pastel\")\n",
        "sns.set_style(\"white\")\n",
        "#sns.lineplot(x='loss', data = )\n",
        "plt.plot(history.history['loss'], label = \"Training Loss\")\n",
        "plt.plot(history.history['val_loss'], label = \"Validation Loss\")\n",
        "plt.legend()\n",
        "plt.show()\n",
        "plt.plot(history.history['acc'],label = \"Training Accuracy\")\n",
        "plt.plot(history.history['val_acc'], label = \"Validation Accuracy\")\n",
        "plt.legend()\n",
        "plt.show()"
      ],
      "execution_count": 0,
      "outputs": [
        {
          "output_type": "display_data",
          "data": {
            "image/png": "[encoded data removed]",
            "text/plain": [
              "<matplotlib.figure.Figure at 0x20fd48f44a8>"
            ]
          },
          "metadata": {
            "tags": []
          }
        },
        {
          "output_type": "display_data",
          "data": {
            "image/png": "[encoded data removed]",
            "text/plain": [
              "<matplotlib.figure.Figure at 0x2110f10b550>"
            ]
          },
          "metadata": {
            "tags": []
          }
        }
      ]
    },
    {
      "cell_type": "code",
      "metadata": {
        "id": "LZJJ6Y-frh8S",
        "colab_type": "code",
        "colab": {},
        "outputId": "4918f86d-e78e-45ff-b35f-9d131fd382dd"
      },
      "source": [
        "pred = model.predict(X_test) # Predict values of the test set\n",
        "#y_testCat = to_categorical(y_test, num_classes = classNum) \n",
        "testLoss, testAcc = model.evaluate(X_test, y_test, verbose=0)\n",
        "print(testLoss,testAcc)\n",
        "\n",
        "pred1hot = np.argmax(pred, axis=1) # Convert predicted classes to one hot vectors\n",
        "y_test1hot = np.argmax(y_test, axis=1) # Convert true classes to one hot vectors\n",
        "cm = confusion_matrix(y_test1hot, pred1hot) #confusion matrix\n",
        "\n",
        "plt.figure(figsize=(9,9))\n",
        "sns.heatmap(cm, annot=True, fmt=\".0f\", linewidths=.5, square = True, cmap=\"YlGnBu\");\n",
        "plt.ylabel('True Labels');\n",
        "plt.xlabel('Predicted Labels');\n",
        "\n",
        "plt.title('Test Loss = %.4f, Test Accuracy = %.4f'%(testLoss, testAcc), size = 15);\n",
        "\n",
        "#plot_confusion_matrix(confusion_mtx, classes = range(10)) "
      ],
      "execution_count": 0,
      "outputs": [
        {
          "output_type": "stream",
          "text": [
            "0.42141157388687134 0.9199999904632569\n"
          ],
          "name": "stdout"
        },
        {
          "output_type": "display_data",
          "data": {
            "image/png": "[encoded data removed]",
            "text/plain": [
              "<matplotlib.figure.Figure at 0x210bce9dbe0>"
            ]
          },
          "metadata": {
            "tags": []
          }
        }
      ]
    },
    {
      "cell_type": "markdown",
      "metadata": {
        "id": "xPCjkE6Srh8W",
        "colab_type": "text"
      },
      "source": [
        "## ResNET w/ Optimal Learning Rate"
      ]
    },
    {
      "cell_type": "code",
      "metadata": {
        "id": "hwm5Md5Drh8Y",
        "colab_type": "code",
        "colab": {}
      },
      "source": [
        "with open ('../input/X_gray', 'rb') as f3:\n",
        "    X = pickle.load(f3)\n",
        "with open ('../input/y_gray', 'rb') as f4:\n",
        "    y = pickle.load(f4)"
      ],
      "execution_count": 0,
      "outputs": []
    },
    {
      "cell_type": "code",
      "metadata": {
        "id": "VFvsBF4hrh8a",
        "colab_type": "code",
        "colab": {},
        "outputId": "4f0f7142-9922-4926-eef9-424e2247a4fd"
      },
      "source": [
        "X_train, X_test, y_train, y_test = train_test_split(X,y,test_size = 0.20,stratify=y, random_state =42)\n",
        "print(\"<3 Shape of My Heart <3 : \")\n",
        "print(\"=========================\")\n",
        "print(\"Training:\", X_train.shape)\n",
        "print(\"Testing:\", X_test.shape)\n",
        "\n",
        "print(y_train.shape)\n",
        "train_top20 = pd.DataFrame(y_train.value_counts())\n",
        "train_top20.reset_index(inplace=True)\n",
        "train_top20.columns = ['ID','Counts']\n",
        "\n",
        "\n",
        "test_top20 = pd.DataFrame(y_test.value_counts())\n",
        "test_top20.reset_index(inplace=True)\n",
        "test_top20.columns = ['ID','Counts']\n",
        "\n",
        "f,(ax1,ax3) = plt.subplots(2,1,sharex=True)\n",
        "\n",
        "fig1 = sns.barplot(x=\"ID\", y=\"Counts\", data=train_top20, ax=ax1)\n",
        "fig1.set_ylabel('Train')\n",
        "fig1.set_xlabel('')\n",
        "\n",
        "\n",
        "fig3 = sns.barplot(x=\"ID\", y=\"Counts\", data=test_top20, ax=ax3)\n",
        "fig3.set_ylabel('Test')\n",
        "fig3.set_xlabel('')\n",
        "f=plt.xticks(rotation=45)\n",
        "suptitle(\"Categorical Distrbution of Images\", fontsize=16)\n",
        "\n",
        "#f.savefig('../figures/train_test_Dist.png')\n",
        "\n",
        "#X_train, X_val, y_train, y_val = train_test_split(X_train, y_train, test_size=0.15,stratify=y_train)\n",
        "height = 224\n",
        "width = 224\n",
        "channels =1\n",
        "X_train = X_train.reshape(-1,height,width,channels) # dimension (60000) is inferred by setting the first element to -1\n",
        "X_test = X_test.reshape(-1,height,width,channels)\n",
        "#X_val = X_val.reshape(-1,height,width,channels)\n",
        "y_train = LabelEncoder().fit_transform(y_train)\n",
        "#y_train = OneHotEncoder().fit_transform(y_train.reshape(-1,1))\n",
        "#y_val = LabelEncoder().fit_transform(y_val)\n",
        "#y_val = OneHotEncoder().fit_transform(y_val.reshape(-1,1))\n",
        "y_test = LabelEncoder().fit_transform(y_test)\n",
        "#y_test = OneHotEncoder().fit_transform(y_test.reshape(-1,1))\n",
        "print(y_train.shape)\n",
        "#print(y_val.shape)\n",
        "print(y_test.shape)\n",
        "classNum = 11#len(np.unique(y_train)) # number of unique labels is counted to determine the # of classes\n",
        "y_train = to_categorical(y_train, num_classes = classNum)\n",
        "y_test = to_categorical(y_test, num_classes = classNum)\n",
        "#y_val = to_categorical(y_val, num_classes = classNum)"
      ],
      "execution_count": 0,
      "outputs": [
        {
          "output_type": "stream",
          "text": [
            "<3 Shape of My Heart <3 : \n",
            "=========================\n",
            "Training: (200, 224, 224, 1)\n",
            "Testing: (50, 224, 224, 1)\n",
            "(200,)\n",
            "(200,)\n",
            "(50,)\n"
          ],
          "name": "stdout"
        },
        {
          "output_type": "display_data",
          "data": {
            "image/png": "[encoded data removed]",
            "text/plain": [
              "<matplotlib.figure.Figure at 0x1f91a48c710>"
            ]
          },
          "metadata": {
            "tags": []
          }
        }
      ]
    },
    {
      "cell_type": "code",
      "metadata": {
        "id": "Bx4T8ivWrh8c",
        "colab_type": "code",
        "colab": {}
      },
      "source": [
        "datagen = ImageDataGenerator(\n",
        "        rotation_range=20,  # randomly rotate images in the range (degrees, 0 to 180)\n",
        "        zoom_range = 0.2, # Randomly zoom image \n",
        "        width_shift_range=0.2,  # randomly shift images horizontally (fraction of total width)\n",
        "        height_shift_range=0.2,  # randomly shift images vertically (fraction of total height)\n",
        "        horizontal_flip=True,  # randomly flip images horizontally only!\n",
        "        vertical_flip=False,  #  do not randomly flip images vertically!\n",
        "        fill_mode='nearest',\n",
        "        zca_whitening = False) # A whitening transform of an image is a linear algebra operation that reduces the redundancy in the matrix of pixel images. Less redundancy in the image is intended to better highlight the structures and features in the image to the learning algorithm.\n",
        "\n",
        "\n",
        "datagen.fit(X_train, augment=True)\n",
        "# configure batch size and retrieve one batch of images\n",
        "#os.makedirs('augmentedImages')\n",
        "#for X_batch, y_batch in datagen.flow(X_train, y_train, batch_size=9, save_to_dir='../augmentedImages', save_prefix='aug', save_format='png'):"
      ],
      "execution_count": 0,
      "outputs": []
    },
    {
      "cell_type": "code",
      "metadata": {
        "id": "3H2zOAvDrh8d",
        "colab_type": "code",
        "colab": {},
        "outputId": "151ba9b9-6b33-4eb1-abd1-296736a69d1c"
      },
      "source": [
        "model.summary()"
      ],
      "execution_count": 0,
      "outputs": [
        {
          "output_type": "stream",
          "text": [
            "__________________________________________________________________________________________________\n",
            "Layer (type)                    Output Shape         Param #     Connected to                     \n",
            "==================================================================================================\n",
            "input_5 (InputLayer)            (None, 224, 224, 1)  0                                            \n",
            "__________________________________________________________________________________________________\n",
            "zero_padding2d_4 (ZeroPadding2D (None, 230, 230, 1)  0           input_5[0][0]                    \n",
            "__________________________________________________________________________________________________\n",
            "conv1 (Conv2D)                  (None, 112, 112, 64) 3200        zero_padding2d_4[0][0]           \n",
            "__________________________________________________________________________________________________\n",
            "bn_conv1 (BatchNormalization)   (None, 112, 112, 64) 256         conv1[0][0]                      \n",
            "__________________________________________________________________________________________________\n",
            "activation_197 (Activation)     (None, 112, 112, 64) 0           bn_conv1[0][0]                   \n",
            "__________________________________________________________________________________________________\n",
            "max_pooling2d_5 (MaxPooling2D)  (None, 55, 55, 64)   0           activation_197[0][0]             \n",
            "__________________________________________________________________________________________________\n",
            "res2a_branch2a (Conv2D)         (None, 55, 55, 64)   4160        max_pooling2d_5[0][0]            \n",
            "__________________________________________________________________________________________________\n",
            "bn2a_branch2a (BatchNormalizati (None, 55, 55, 64)   256         res2a_branch2a[0][0]             \n",
            "__________________________________________________________________________________________________\n",
            "activation_198 (Activation)     (None, 55, 55, 64)   0           bn2a_branch2a[0][0]              \n",
            "__________________________________________________________________________________________________\n",
            "res2a_branch2b (Conv2D)         (None, 55, 55, 64)   36928       activation_198[0][0]             \n",
            "__________________________________________________________________________________________________\n",
            "bn2a_branch2b (BatchNormalizati (None, 55, 55, 64)   256         res2a_branch2b[0][0]             \n",
            "__________________________________________________________________________________________________\n",
            "activation_199 (Activation)     (None, 55, 55, 64)   0           bn2a_branch2b[0][0]              \n",
            "__________________________________________________________________________________________________\n",
            "res2a_branch2c (Conv2D)         (None, 55, 55, 256)  16640       activation_199[0][0]             \n",
            "__________________________________________________________________________________________________\n",
            "res2a_branch1 (Conv2D)          (None, 55, 55, 256)  16640       max_pooling2d_5[0][0]            \n",
            "__________________________________________________________________________________________________\n",
            "bn2a_branch2c (BatchNormalizati (None, 55, 55, 256)  1024        res2a_branch2c[0][0]             \n",
            "__________________________________________________________________________________________________\n",
            "bn2a_branch1 (BatchNormalizatio (None, 55, 55, 256)  1024        res2a_branch1[0][0]              \n",
            "__________________________________________________________________________________________________\n",
            "add_65 (Add)                    (None, 55, 55, 256)  0           bn2a_branch2c[0][0]              \n",
            "                                                                 bn2a_branch1[0][0]               \n",
            "__________________________________________________________________________________________________\n",
            "activation_200 (Activation)     (None, 55, 55, 256)  0           add_65[0][0]                     \n",
            "__________________________________________________________________________________________________\n",
            "res2b_branch2a (Conv2D)         (None, 55, 55, 64)   16448       activation_200[0][0]             \n",
            "__________________________________________________________________________________________________\n",
            "bn2b_branch2a (BatchNormalizati (None, 55, 55, 64)   256         res2b_branch2a[0][0]             \n",
            "__________________________________________________________________________________________________\n",
            "activation_201 (Activation)     (None, 55, 55, 64)   0           bn2b_branch2a[0][0]              \n",
            "__________________________________________________________________________________________________\n",
            "res2b_branch2b (Conv2D)         (None, 55, 55, 64)   36928       activation_201[0][0]             \n",
            "__________________________________________________________________________________________________\n",
            "bn2b_branch2b (BatchNormalizati (None, 55, 55, 64)   256         res2b_branch2b[0][0]             \n",
            "__________________________________________________________________________________________________\n",
            "activation_202 (Activation)     (None, 55, 55, 64)   0           bn2b_branch2b[0][0]              \n",
            "__________________________________________________________________________________________________\n",
            "res2b_branch2c (Conv2D)         (None, 55, 55, 256)  16640       activation_202[0][0]             \n",
            "__________________________________________________________________________________________________\n",
            "bn2b_branch2c (BatchNormalizati (None, 55, 55, 256)  1024        res2b_branch2c[0][0]             \n",
            "__________________________________________________________________________________________________\n",
            "add_66 (Add)                    (None, 55, 55, 256)  0           bn2b_branch2c[0][0]              \n",
            "                                                                 activation_200[0][0]             \n",
            "__________________________________________________________________________________________________\n",
            "activation_203 (Activation)     (None, 55, 55, 256)  0           add_66[0][0]                     \n",
            "__________________________________________________________________________________________________\n",
            "res2c_branch2a (Conv2D)         (None, 55, 55, 64)   16448       activation_203[0][0]             \n",
            "__________________________________________________________________________________________________\n",
            "bn2c_branch2a (BatchNormalizati (None, 55, 55, 64)   256         res2c_branch2a[0][0]             \n",
            "__________________________________________________________________________________________________\n",
            "activation_204 (Activation)     (None, 55, 55, 64)   0           bn2c_branch2a[0][0]              \n",
            "__________________________________________________________________________________________________\n",
            "res2c_branch2b (Conv2D)         (None, 55, 55, 64)   36928       activation_204[0][0]             \n",
            "__________________________________________________________________________________________________\n",
            "bn2c_branch2b (BatchNormalizati (None, 55, 55, 64)   256         res2c_branch2b[0][0]             \n",
            "__________________________________________________________________________________________________\n",
            "activation_205 (Activation)     (None, 55, 55, 64)   0           bn2c_branch2b[0][0]              \n",
            "__________________________________________________________________________________________________\n",
            "res2c_branch2c (Conv2D)         (None, 55, 55, 256)  16640       activation_205[0][0]             \n",
            "__________________________________________________________________________________________________\n",
            "bn2c_branch2c (BatchNormalizati (None, 55, 55, 256)  1024        res2c_branch2c[0][0]             \n",
            "__________________________________________________________________________________________________\n",
            "add_67 (Add)                    (None, 55, 55, 256)  0           bn2c_branch2c[0][0]              \n",
            "                                                                 activation_203[0][0]             \n",
            "__________________________________________________________________________________________________\n",
            "activation_206 (Activation)     (None, 55, 55, 256)  0           add_67[0][0]                     \n",
            "__________________________________________________________________________________________________\n",
            "res3a_branch2a (Conv2D)         (None, 28, 28, 128)  32896       activation_206[0][0]             \n",
            "__________________________________________________________________________________________________\n",
            "bn3a_branch2a (BatchNormalizati (None, 28, 28, 128)  512         res3a_branch2a[0][0]             \n",
            "__________________________________________________________________________________________________\n",
            "activation_207 (Activation)     (None, 28, 28, 128)  0           bn3a_branch2a[0][0]              \n",
            "__________________________________________________________________________________________________\n",
            "res3a_branch2b (Conv2D)         (None, 28, 28, 128)  147584      activation_207[0][0]             \n",
            "__________________________________________________________________________________________________\n",
            "bn3a_branch2b (BatchNormalizati (None, 28, 28, 128)  512         res3a_branch2b[0][0]             \n",
            "__________________________________________________________________________________________________\n",
            "activation_208 (Activation)     (None, 28, 28, 128)  0           bn3a_branch2b[0][0]              \n",
            "__________________________________________________________________________________________________\n",
            "res3a_branch2c (Conv2D)         (None, 28, 28, 512)  66048       activation_208[0][0]             \n",
            "__________________________________________________________________________________________________\n",
            "res3a_branch1 (Conv2D)          (None, 28, 28, 512)  131584      activation_206[0][0]             \n",
            "__________________________________________________________________________________________________\n",
            "bn3a_branch2c (BatchNormalizati (None, 28, 28, 512)  2048        res3a_branch2c[0][0]             \n",
            "__________________________________________________________________________________________________\n",
            "bn3a_branch1 (BatchNormalizatio (None, 28, 28, 512)  2048        res3a_branch1[0][0]              \n",
            "__________________________________________________________________________________________________\n",
            "add_68 (Add)                    (None, 28, 28, 512)  0           bn3a_branch2c[0][0]              \n",
            "                                                                 bn3a_branch1[0][0]               \n",
            "__________________________________________________________________________________________________\n",
            "activation_209 (Activation)     (None, 28, 28, 512)  0           add_68[0][0]                     \n",
            "__________________________________________________________________________________________________\n",
            "res3b_branch2a (Conv2D)         (None, 28, 28, 128)  65664       activation_209[0][0]             \n",
            "__________________________________________________________________________________________________\n",
            "bn3b_branch2a (BatchNormalizati (None, 28, 28, 128)  512         res3b_branch2a[0][0]             \n",
            "__________________________________________________________________________________________________\n",
            "activation_210 (Activation)     (None, 28, 28, 128)  0           bn3b_branch2a[0][0]              \n",
            "__________________________________________________________________________________________________\n",
            "res3b_branch2b (Conv2D)         (None, 28, 28, 128)  147584      activation_210[0][0]             \n",
            "__________________________________________________________________________________________________\n",
            "bn3b_branch2b (BatchNormalizati (None, 28, 28, 128)  512         res3b_branch2b[0][0]             \n",
            "__________________________________________________________________________________________________\n",
            "activation_211 (Activation)     (None, 28, 28, 128)  0           bn3b_branch2b[0][0]              \n",
            "__________________________________________________________________________________________________\n",
            "res3b_branch2c (Conv2D)         (None, 28, 28, 512)  66048       activation_211[0][0]             \n",
            "__________________________________________________________________________________________________\n",
            "bn3b_branch2c (BatchNormalizati (None, 28, 28, 512)  2048        res3b_branch2c[0][0]             \n",
            "__________________________________________________________________________________________________\n",
            "add_69 (Add)                    (None, 28, 28, 512)  0           bn3b_branch2c[0][0]              \n",
            "                                                                 activation_209[0][0]             \n",
            "__________________________________________________________________________________________________\n",
            "activation_212 (Activation)     (None, 28, 28, 512)  0           add_69[0][0]                     \n",
            "__________________________________________________________________________________________________\n",
            "res3c_branch2a (Conv2D)         (None, 28, 28, 128)  65664       activation_212[0][0]             \n",
            "__________________________________________________________________________________________________\n",
            "bn3c_branch2a (BatchNormalizati (None, 28, 28, 128)  512         res3c_branch2a[0][0]             \n",
            "__________________________________________________________________________________________________\n",
            "activation_213 (Activation)     (None, 28, 28, 128)  0           bn3c_branch2a[0][0]              \n",
            "__________________________________________________________________________________________________\n",
            "res3c_branch2b (Conv2D)         (None, 28, 28, 128)  147584      activation_213[0][0]             \n",
            "__________________________________________________________________________________________________\n",
            "bn3c_branch2b (BatchNormalizati (None, 28, 28, 128)  512         res3c_branch2b[0][0]             \n",
            "__________________________________________________________________________________________________\n",
            "activation_214 (Activation)     (None, 28, 28, 128)  0           bn3c_branch2b[0][0]              \n",
            "__________________________________________________________________________________________________\n",
            "res3c_branch2c (Conv2D)         (None, 28, 28, 512)  66048       activation_214[0][0]             \n",
            "__________________________________________________________________________________________________\n",
            "bn3c_branch2c (BatchNormalizati (None, 28, 28, 512)  2048        res3c_branch2c[0][0]             \n",
            "__________________________________________________________________________________________________\n",
            "add_70 (Add)                    (None, 28, 28, 512)  0           bn3c_branch2c[0][0]              \n",
            "                                                                 activation_212[0][0]             \n",
            "__________________________________________________________________________________________________\n",
            "activation_215 (Activation)     (None, 28, 28, 512)  0           add_70[0][0]                     \n",
            "__________________________________________________________________________________________________\n",
            "res3d_branch2a (Conv2D)         (None, 28, 28, 128)  65664       activation_215[0][0]             \n",
            "__________________________________________________________________________________________________\n",
            "bn3d_branch2a (BatchNormalizati (None, 28, 28, 128)  512         res3d_branch2a[0][0]             \n",
            "__________________________________________________________________________________________________\n",
            "activation_216 (Activation)     (None, 28, 28, 128)  0           bn3d_branch2a[0][0]              \n",
            "__________________________________________________________________________________________________\n",
            "res3d_branch2b (Conv2D)         (None, 28, 28, 128)  147584      activation_216[0][0]             \n",
            "__________________________________________________________________________________________________\n",
            "bn3d_branch2b (BatchNormalizati (None, 28, 28, 128)  512         res3d_branch2b[0][0]             \n",
            "__________________________________________________________________________________________________\n",
            "activation_217 (Activation)     (None, 28, 28, 128)  0           bn3d_branch2b[0][0]              \n",
            "__________________________________________________________________________________________________\n",
            "res3d_branch2c (Conv2D)         (None, 28, 28, 512)  66048       activation_217[0][0]             \n",
            "__________________________________________________________________________________________________\n",
            "bn3d_branch2c (BatchNormalizati (None, 28, 28, 512)  2048        res3d_branch2c[0][0]             \n",
            "__________________________________________________________________________________________________\n",
            "add_71 (Add)                    (None, 28, 28, 512)  0           bn3d_branch2c[0][0]              \n",
            "                                                                 activation_215[0][0]             \n",
            "__________________________________________________________________________________________________\n",
            "activation_218 (Activation)     (None, 28, 28, 512)  0           add_71[0][0]                     \n",
            "__________________________________________________________________________________________________\n",
            "res4a_branch2a (Conv2D)         (None, 14, 14, 256)  131328      activation_218[0][0]             \n",
            "__________________________________________________________________________________________________\n",
            "bn4a_branch2a (BatchNormalizati (None, 14, 14, 256)  1024        res4a_branch2a[0][0]             \n",
            "__________________________________________________________________________________________________\n",
            "activation_219 (Activation)     (None, 14, 14, 256)  0           bn4a_branch2a[0][0]              \n",
            "__________________________________________________________________________________________________\n",
            "res4a_branch2b (Conv2D)         (None, 14, 14, 256)  590080      activation_219[0][0]             \n",
            "__________________________________________________________________________________________________\n",
            "bn4a_branch2b (BatchNormalizati (None, 14, 14, 256)  1024        res4a_branch2b[0][0]             \n",
            "__________________________________________________________________________________________________\n",
            "activation_220 (Activation)     (None, 14, 14, 256)  0           bn4a_branch2b[0][0]              \n",
            "__________________________________________________________________________________________________\n",
            "res4a_branch2c (Conv2D)         (None, 14, 14, 1024) 263168      activation_220[0][0]             \n",
            "__________________________________________________________________________________________________\n",
            "res4a_branch1 (Conv2D)          (None, 14, 14, 1024) 525312      activation_218[0][0]             \n",
            "__________________________________________________________________________________________________\n",
            "bn4a_branch2c (BatchNormalizati (None, 14, 14, 1024) 4096        res4a_branch2c[0][0]             \n",
            "__________________________________________________________________________________________________\n",
            "bn4a_branch1 (BatchNormalizatio (None, 14, 14, 1024) 4096        res4a_branch1[0][0]              \n",
            "__________________________________________________________________________________________________\n",
            "add_72 (Add)                    (None, 14, 14, 1024) 0           bn4a_branch2c[0][0]              \n",
            "                                                                 bn4a_branch1[0][0]               \n",
            "__________________________________________________________________________________________________\n",
            "activation_221 (Activation)     (None, 14, 14, 1024) 0           add_72[0][0]                     \n",
            "__________________________________________________________________________________________________\n",
            "res4b_branch2a (Conv2D)         (None, 14, 14, 256)  262400      activation_221[0][0]             \n",
            "__________________________________________________________________________________________________\n",
            "bn4b_branch2a (BatchNormalizati (None, 14, 14, 256)  1024        res4b_branch2a[0][0]             \n",
            "__________________________________________________________________________________________________\n",
            "activation_222 (Activation)     (None, 14, 14, 256)  0           bn4b_branch2a[0][0]              \n",
            "__________________________________________________________________________________________________\n",
            "res4b_branch2b (Conv2D)         (None, 14, 14, 256)  590080      activation_222[0][0]             \n",
            "__________________________________________________________________________________________________\n",
            "bn4b_branch2b (BatchNormalizati (None, 14, 14, 256)  1024        res4b_branch2b[0][0]             \n",
            "__________________________________________________________________________________________________\n",
            "activation_223 (Activation)     (None, 14, 14, 256)  0           bn4b_branch2b[0][0]              \n",
            "__________________________________________________________________________________________________\n",
            "res4b_branch2c (Conv2D)         (None, 14, 14, 1024) 263168      activation_223[0][0]             \n",
            "__________________________________________________________________________________________________\n",
            "bn4b_branch2c (BatchNormalizati (None, 14, 14, 1024) 4096        res4b_branch2c[0][0]             \n",
            "__________________________________________________________________________________________________\n",
            "add_73 (Add)                    (None, 14, 14, 1024) 0           bn4b_branch2c[0][0]              \n",
            "                                                                 activation_221[0][0]             \n",
            "__________________________________________________________________________________________________\n",
            "activation_224 (Activation)     (None, 14, 14, 1024) 0           add_73[0][0]                     \n",
            "__________________________________________________________________________________________________\n",
            "res4c_branch2a (Conv2D)         (None, 14, 14, 256)  262400      activation_224[0][0]             \n",
            "__________________________________________________________________________________________________\n",
            "bn4c_branch2a (BatchNormalizati (None, 14, 14, 256)  1024        res4c_branch2a[0][0]             \n",
            "__________________________________________________________________________________________________\n",
            "activation_225 (Activation)     (None, 14, 14, 256)  0           bn4c_branch2a[0][0]              \n",
            "__________________________________________________________________________________________________\n",
            "res4c_branch2b (Conv2D)         (None, 14, 14, 256)  590080      activation_225[0][0]             \n",
            "__________________________________________________________________________________________________\n",
            "bn4c_branch2b (BatchNormalizati (None, 14, 14, 256)  1024        res4c_branch2b[0][0]             \n",
            "__________________________________________________________________________________________________\n",
            "activation_226 (Activation)     (None, 14, 14, 256)  0           bn4c_branch2b[0][0]              \n",
            "__________________________________________________________________________________________________\n",
            "res4c_branch2c (Conv2D)         (None, 14, 14, 1024) 263168      activation_226[0][0]             \n",
            "__________________________________________________________________________________________________\n",
            "bn4c_branch2c (BatchNormalizati (None, 14, 14, 1024) 4096        res4c_branch2c[0][0]             \n",
            "__________________________________________________________________________________________________\n",
            "add_74 (Add)                    (None, 14, 14, 1024) 0           bn4c_branch2c[0][0]              \n",
            "                                                                 activation_224[0][0]             \n",
            "__________________________________________________________________________________________________\n",
            "activation_227 (Activation)     (None, 14, 14, 1024) 0           add_74[0][0]                     \n",
            "__________________________________________________________________________________________________\n",
            "res4d_branch2a (Conv2D)         (None, 14, 14, 256)  262400      activation_227[0][0]             \n",
            "__________________________________________________________________________________________________\n",
            "bn4d_branch2a (BatchNormalizati (None, 14, 14, 256)  1024        res4d_branch2a[0][0]             \n",
            "__________________________________________________________________________________________________\n",
            "activation_228 (Activation)     (None, 14, 14, 256)  0           bn4d_branch2a[0][0]              \n",
            "__________________________________________________________________________________________________\n",
            "res4d_branch2b (Conv2D)         (None, 14, 14, 256)  590080      activation_228[0][0]             \n",
            "__________________________________________________________________________________________________\n",
            "bn4d_branch2b (BatchNormalizati (None, 14, 14, 256)  1024        res4d_branch2b[0][0]             \n",
            "__________________________________________________________________________________________________\n",
            "activation_229 (Activation)     (None, 14, 14, 256)  0           bn4d_branch2b[0][0]              \n",
            "__________________________________________________________________________________________________\n",
            "res4d_branch2c (Conv2D)         (None, 14, 14, 1024) 263168      activation_229[0][0]             \n",
            "__________________________________________________________________________________________________\n",
            "bn4d_branch2c (BatchNormalizati (None, 14, 14, 1024) 4096        res4d_branch2c[0][0]             \n",
            "__________________________________________________________________________________________________\n",
            "add_75 (Add)                    (None, 14, 14, 1024) 0           bn4d_branch2c[0][0]              \n",
            "                                                                 activation_227[0][0]             \n",
            "__________________________________________________________________________________________________\n",
            "activation_230 (Activation)     (None, 14, 14, 1024) 0           add_75[0][0]                     \n",
            "__________________________________________________________________________________________________\n",
            "res4e_branch2a (Conv2D)         (None, 14, 14, 256)  262400      activation_230[0][0]             \n",
            "__________________________________________________________________________________________________\n",
            "bn4e_branch2a (BatchNormalizati (None, 14, 14, 256)  1024        res4e_branch2a[0][0]             \n",
            "__________________________________________________________________________________________________\n",
            "activation_231 (Activation)     (None, 14, 14, 256)  0           bn4e_branch2a[0][0]              \n",
            "__________________________________________________________________________________________________\n",
            "res4e_branch2b (Conv2D)         (None, 14, 14, 256)  590080      activation_231[0][0]             \n",
            "__________________________________________________________________________________________________\n",
            "bn4e_branch2b (BatchNormalizati (None, 14, 14, 256)  1024        res4e_branch2b[0][0]             \n",
            "__________________________________________________________________________________________________\n",
            "activation_232 (Activation)     (None, 14, 14, 256)  0           bn4e_branch2b[0][0]              \n",
            "__________________________________________________________________________________________________\n",
            "res4e_branch2c (Conv2D)         (None, 14, 14, 1024) 263168      activation_232[0][0]             \n",
            "__________________________________________________________________________________________________\n",
            "bn4e_branch2c (BatchNormalizati (None, 14, 14, 1024) 4096        res4e_branch2c[0][0]             \n",
            "__________________________________________________________________________________________________\n",
            "add_76 (Add)                    (None, 14, 14, 1024) 0           bn4e_branch2c[0][0]              \n",
            "                                                                 activation_230[0][0]             \n",
            "__________________________________________________________________________________________________\n",
            "activation_233 (Activation)     (None, 14, 14, 1024) 0           add_76[0][0]                     \n",
            "__________________________________________________________________________________________________\n",
            "res4f_branch2a (Conv2D)         (None, 14, 14, 256)  262400      activation_233[0][0]             \n",
            "__________________________________________________________________________________________________\n",
            "bn4f_branch2a (BatchNormalizati (None, 14, 14, 256)  1024        res4f_branch2a[0][0]             \n",
            "__________________________________________________________________________________________________\n",
            "activation_234 (Activation)     (None, 14, 14, 256)  0           bn4f_branch2a[0][0]              \n",
            "__________________________________________________________________________________________________\n",
            "res4f_branch2b (Conv2D)         (None, 14, 14, 256)  590080      activation_234[0][0]             \n",
            "__________________________________________________________________________________________________\n",
            "bn4f_branch2b (BatchNormalizati (None, 14, 14, 256)  1024        res4f_branch2b[0][0]             \n",
            "__________________________________________________________________________________________________\n",
            "activation_235 (Activation)     (None, 14, 14, 256)  0           bn4f_branch2b[0][0]              \n",
            "__________________________________________________________________________________________________\n",
            "res4f_branch2c (Conv2D)         (None, 14, 14, 1024) 263168      activation_235[0][0]             \n",
            "__________________________________________________________________________________________________\n",
            "bn4f_branch2c (BatchNormalizati (None, 14, 14, 1024) 4096        res4f_branch2c[0][0]             \n",
            "__________________________________________________________________________________________________\n",
            "add_77 (Add)                    (None, 14, 14, 1024) 0           bn4f_branch2c[0][0]              \n",
            "                                                                 activation_233[0][0]             \n",
            "__________________________________________________________________________________________________\n",
            "activation_236 (Activation)     (None, 14, 14, 1024) 0           add_77[0][0]                     \n",
            "__________________________________________________________________________________________________\n",
            "res5a_branch2a (Conv2D)         (None, 7, 7, 512)    524800      activation_236[0][0]             \n",
            "__________________________________________________________________________________________________\n",
            "bn5a_branch2a (BatchNormalizati (None, 7, 7, 512)    2048        res5a_branch2a[0][0]             \n",
            "__________________________________________________________________________________________________\n",
            "activation_237 (Activation)     (None, 7, 7, 512)    0           bn5a_branch2a[0][0]              \n",
            "__________________________________________________________________________________________________\n",
            "res5a_branch2b (Conv2D)         (None, 7, 7, 512)    2359808     activation_237[0][0]             \n",
            "__________________________________________________________________________________________________\n",
            "bn5a_branch2b (BatchNormalizati (None, 7, 7, 512)    2048        res5a_branch2b[0][0]             \n",
            "__________________________________________________________________________________________________\n",
            "activation_238 (Activation)     (None, 7, 7, 512)    0           bn5a_branch2b[0][0]              \n",
            "__________________________________________________________________________________________________\n",
            "res5a_branch2c (Conv2D)         (None, 7, 7, 2048)   1050624     activation_238[0][0]             \n",
            "__________________________________________________________________________________________________\n",
            "res5a_branch1 (Conv2D)          (None, 7, 7, 2048)   2099200     activation_236[0][0]             \n",
            "__________________________________________________________________________________________________\n",
            "bn5a_branch2c (BatchNormalizati (None, 7, 7, 2048)   8192        res5a_branch2c[0][0]             \n",
            "__________________________________________________________________________________________________\n",
            "bn5a_branch1 (BatchNormalizatio (None, 7, 7, 2048)   8192        res5a_branch1[0][0]              \n",
            "__________________________________________________________________________________________________\n",
            "add_78 (Add)                    (None, 7, 7, 2048)   0           bn5a_branch2c[0][0]              \n",
            "                                                                 bn5a_branch1[0][0]               \n",
            "__________________________________________________________________________________________________\n",
            "activation_239 (Activation)     (None, 7, 7, 2048)   0           add_78[0][0]                     \n",
            "__________________________________________________________________________________________________\n",
            "res5b_branch2a (Conv2D)         (None, 7, 7, 512)    1049088     activation_239[0][0]             \n",
            "__________________________________________________________________________________________________\n",
            "bn5b_branch2a (BatchNormalizati (None, 7, 7, 512)    2048        res5b_branch2a[0][0]             \n",
            "__________________________________________________________________________________________________\n",
            "activation_240 (Activation)     (None, 7, 7, 512)    0           bn5b_branch2a[0][0]              \n",
            "__________________________________________________________________________________________________\n",
            "res5b_branch2b (Conv2D)         (None, 7, 7, 512)    2359808     activation_240[0][0]             \n",
            "__________________________________________________________________________________________________\n",
            "bn5b_branch2b (BatchNormalizati (None, 7, 7, 512)    2048        res5b_branch2b[0][0]             \n",
            "__________________________________________________________________________________________________\n",
            "activation_241 (Activation)     (None, 7, 7, 512)    0           bn5b_branch2b[0][0]              \n",
            "__________________________________________________________________________________________________\n",
            "res5b_branch2c (Conv2D)         (None, 7, 7, 2048)   1050624     activation_241[0][0]             \n",
            "__________________________________________________________________________________________________\n",
            "bn5b_branch2c (BatchNormalizati (None, 7, 7, 2048)   8192        res5b_branch2c[0][0]             \n",
            "__________________________________________________________________________________________________\n",
            "add_79 (Add)                    (None, 7, 7, 2048)   0           bn5b_branch2c[0][0]              \n",
            "                                                                 activation_239[0][0]             \n",
            "__________________________________________________________________________________________________\n",
            "activation_242 (Activation)     (None, 7, 7, 2048)   0           add_79[0][0]                     \n",
            "__________________________________________________________________________________________________\n",
            "res5c_branch2a (Conv2D)         (None, 7, 7, 512)    1049088     activation_242[0][0]             \n",
            "__________________________________________________________________________________________________\n",
            "bn5c_branch2a (BatchNormalizati (None, 7, 7, 512)    2048        res5c_branch2a[0][0]             \n",
            "__________________________________________________________________________________________________\n",
            "activation_243 (Activation)     (None, 7, 7, 512)    0           bn5c_branch2a[0][0]              \n",
            "__________________________________________________________________________________________________\n",
            "res5c_branch2b (Conv2D)         (None, 7, 7, 512)    2359808     activation_243[0][0]             \n",
            "__________________________________________________________________________________________________\n",
            "bn5c_branch2b (BatchNormalizati (None, 7, 7, 512)    2048        res5c_branch2b[0][0]             \n",
            "__________________________________________________________________________________________________\n",
            "activation_244 (Activation)     (None, 7, 7, 512)    0           bn5c_branch2b[0][0]              \n",
            "__________________________________________________________________________________________________\n",
            "res5c_branch2c (Conv2D)         (None, 7, 7, 2048)   1050624     activation_244[0][0]             \n",
            "__________________________________________________________________________________________________\n",
            "bn5c_branch2c (BatchNormalizati (None, 7, 7, 2048)   8192        res5c_branch2c[0][0]             \n",
            "__________________________________________________________________________________________________\n",
            "add_80 (Add)                    (None, 7, 7, 2048)   0           bn5c_branch2c[0][0]              \n",
            "                                                                 activation_242[0][0]             \n",
            "__________________________________________________________________________________________________\n",
            "activation_245 (Activation)     (None, 7, 7, 2048)   0           add_80[0][0]                     \n",
            "__________________________________________________________________________________________________\n",
            "avg_pool (AveragePooling2D)     (None, 1, 1, 2048)   0           activation_245[0][0]             \n",
            "__________________________________________________________________________________________________\n",
            "flatten_3 (Flatten)             (None, 2048)         0           avg_pool[0][0]                   \n",
            "__________________________________________________________________________________________________\n",
            "fc2 (Dense)                     (None, 11)           22539       flatten_3[0][0]                  \n",
            "==================================================================================================\n",
            "Total params: 23,603,979\n",
            "Trainable params: 23,550,859\n",
            "Non-trainable params: 53,120\n",
            "__________________________________________________________________________________________________\n"
          ],
          "name": "stdout"
        }
      ]
    },
    {
      "cell_type": "code",
      "metadata": {
        "id": "W42MRcRDrh8g",
        "colab_type": "code",
        "colab": {}
      },
      "source": [
        "def get_lr_metric(optimizer):\n",
        "    def lr(y_true, y_pred):\n",
        "        return optimizer.lr\n",
        "    return lr"
      ],
      "execution_count": 0,
      "outputs": []
    },
    {
      "cell_type": "code",
      "metadata": {
        "id": "W_oM5lZUrh8h",
        "colab_type": "code",
        "colab": {},
        "outputId": "9398a54e-998a-4bb7-9a1a-51994af75ca2"
      },
      "source": [
        "inputShape = (224,224,1)\n",
        "model = load_model('../models/ResNET_80_20_split_ADAM_LR0.005.h5')\n",
        "model.load_weights('../models/ResNET_80_20_split_ADAM_LR0.005_weights.h5')\n",
        "opt = keras.optimizers.Adam(lr=0.004323416)\n",
        "lr_metric = get_lr_metric(opt)\n",
        "model.compile(loss=keras.losses.categorical_crossentropy,\n",
        "              optimizer=keras.optimizers.Adam(lr=0.004323416), #instead of annealer decay = DR can be set, too\n",
        "              metrics=['accuracy', lr_metric])\n",
        "annealer = LearningRateScheduler(lambda x: 1e-3 * 0.9 ** x)\n",
        "# Fit the model\n",
        "Epochs = 70 # \n",
        "batchSize = 50 # number of randomly taken samples from features and labels to feed into each epoch \n",
        "                # until an epoch limit is reached.\n",
        "# checkpoint\n",
        "filepath=\"../models/ResNET_80_20_split_ADAM_LR0.0043_weights-improvement-{epoch:02d}-{val_acc:.2f}.hdf5\" \n",
        "checkpoint = ModelCheckpoint(filepath, monitor='val_acc', verbose=1, save_best_only=True, mode='max')   \n",
        "#callbacks_list = [checkpoint]\n",
        "history = model.fit_generator(datagen.flow(X_train,y_train, batch_size=batchSize),\n",
        "                              epochs = Epochs, validation_data = (X_test,y_test),\n",
        "                              verbose = 1, steps_per_epoch=X_train.shape[0] // batchSize\n",
        "                              , callbacks=[annealer, checkpoint])\n",
        "\n"
      ],
      "execution_count": 0,
      "outputs": [
        {
          "output_type": "stream",
          "text": [
            "Epoch 1/70\n",
            "4/4 [==============================] - 1136s 284s/step - loss: 0.7590 - acc: 0.7700 - lr: 0.0043 - val_loss: 4.7131 - val_acc: 0.4400 - val_lr: 0.0043\n",
            "\n",
            "Epoch 00001: val_acc improved from -inf to 0.44000, saving model to ../models/ResNET_80_20_split_ADAM_LR0.0043_weights-improvement-01-0.44.hdf5\n",
            "Epoch 2/70\n",
            "4/4 [==============================] - 1099s 275s/step - loss: 0.5444 - acc: 0.8000 - lr: 0.0043 - val_loss: 1.1664 - val_acc: 0.7400 - val_lr: 0.0043\n",
            "\n",
            "Epoch 00002: val_acc improved from 0.44000 to 0.74000, saving model to ../models/ResNET_80_20_split_ADAM_LR0.0043_weights-improvement-02-0.74.hdf5\n",
            "Epoch 3/70\n",
            "4/4 [==============================] - 1091s 273s/step - loss: 0.4787 - acc: 0.8100 - lr: 0.0043 - val_loss: 2.3921 - val_acc: 0.6600 - val_lr: 0.0043\n",
            "\n",
            "Epoch 00003: val_acc did not improve from 0.74000\n",
            "Epoch 4/70\n",
            "4/4 [==============================] - 1098s 275s/step - loss: 0.4140 - acc: 0.8450 - lr: 0.0043 - val_loss: 3.7453 - val_acc: 0.3400 - val_lr: 0.0043\n",
            "\n",
            "Epoch 00004: val_acc did not improve from 0.74000\n",
            "Epoch 5/70\n",
            "4/4 [==============================] - 1091s 273s/step - loss: 0.3300 - acc: 0.8550 - lr: 0.0043 - val_loss: 1.2659 - val_acc: 0.6800 - val_lr: 0.0043\n",
            "\n",
            "Epoch 00005: val_acc did not improve from 0.74000\n",
            "Epoch 6/70\n",
            "4/4 [==============================] - 1086s 272s/step - loss: 0.2899 - acc: 0.8800 - lr: 0.0043 - val_loss: 0.9524 - val_acc: 0.7000 - val_lr: 0.0043\n",
            "\n",
            "Epoch 00006: val_acc did not improve from 0.74000\n",
            "Epoch 7/70\n",
            "4/4 [==============================] - 1093s 273s/step - loss: 0.2646 - acc: 0.9100 - lr: 0.0043 - val_loss: 1.2287 - val_acc: 0.5800 - val_lr: 0.0043\n",
            "\n",
            "Epoch 00007: val_acc did not improve from 0.74000\n",
            "Epoch 8/70\n",
            "4/4 [==============================] - 1049s 262s/step - loss: 0.1639 - acc: 0.9550 - lr: 0.0043 - val_loss: 1.1039 - val_acc: 0.6800 - val_lr: 0.0043\n",
            "\n",
            "Epoch 00008: val_acc did not improve from 0.74000\n",
            "Epoch 9/70\n",
            "4/4 [==============================] - 1048s 262s/step - loss: 0.1799 - acc: 0.9400 - lr: 0.0043 - val_loss: 0.7860 - val_acc: 0.8000 - val_lr: 0.0043\n",
            "\n",
            "Epoch 00009: val_acc improved from 0.74000 to 0.80000, saving model to ../models/ResNET_80_20_split_ADAM_LR0.0043_weights-improvement-09-0.80.hdf5\n",
            "Epoch 10/70\n",
            "4/4 [==============================] - 1047s 262s/step - loss: 0.1838 - acc: 0.9400 - lr: 0.0043 - val_loss: 0.7042 - val_acc: 0.8400 - val_lr: 0.0043\n",
            "\n",
            "Epoch 00010: val_acc improved from 0.80000 to 0.84000, saving model to ../models/ResNET_80_20_split_ADAM_LR0.0043_weights-improvement-10-0.84.hdf5\n",
            "Epoch 11/70\n",
            "4/4 [==============================] - 1047s 262s/step - loss: 0.1570 - acc: 0.9650 - lr: 0.0043 - val_loss: 0.8944 - val_acc: 0.7600 - val_lr: 0.0043\n",
            "\n",
            "Epoch 00011: val_acc did not improve from 0.84000\n",
            "Epoch 12/70\n",
            "4/4 [==============================] - 1046s 261s/step - loss: 0.1492 - acc: 0.9550 - lr: 0.0043 - val_loss: 0.8979 - val_acc: 0.7600 - val_lr: 0.0043\n",
            "\n",
            "Epoch 00012: val_acc did not improve from 0.84000\n",
            "Epoch 13/70\n",
            "4/4 [==============================] - 1104s 276s/step - loss: 0.1487 - acc: 0.9500 - lr: 0.0043 - val_loss: 0.6893 - val_acc: 0.8000 - val_lr: 0.0043\n",
            "\n",
            "Epoch 00013: val_acc did not improve from 0.84000\n",
            "Epoch 14/70\n",
            "4/4 [==============================] - 1109s 277s/step - loss: 0.1277 - acc: 0.9600 - lr: 0.0043 - val_loss: 0.6551 - val_acc: 0.7800 - val_lr: 0.0043\n",
            "\n",
            "Epoch 00014: val_acc did not improve from 0.84000\n",
            "Epoch 15/70\n",
            "4/4 [==============================] - 1079s 270s/step - loss: 0.1102 - acc: 0.9850 - lr: 0.0043 - val_loss: 0.6539 - val_acc: 0.8400 - val_lr: 0.0043\n",
            "\n",
            "Epoch 00015: val_acc did not improve from 0.84000\n",
            "Epoch 16/70\n",
            "4/4 [==============================] - 1058s 264s/step - loss: 0.0832 - acc: 0.9750 - lr: 0.0043 - val_loss: 0.6152 - val_acc: 0.8600 - val_lr: 0.0043\n",
            "\n",
            "Epoch 00016: val_acc improved from 0.84000 to 0.86000, saving model to ../models/ResNET_80_20_split_ADAM_LR0.0043_weights-improvement-16-0.86.hdf5\n",
            "Epoch 17/70\n",
            "4/4 [==============================] - 1056s 264s/step - loss: 0.0809 - acc: 0.9900 - lr: 0.0043 - val_loss: 0.6899 - val_acc: 0.8200 - val_lr: 0.0043\n",
            "\n",
            "Epoch 00017: val_acc did not improve from 0.86000\n",
            "Epoch 18/70\n",
            "4/4 [==============================] - 1058s 265s/step - loss: 0.0936 - acc: 0.9700 - lr: 0.0043 - val_loss: 0.8219 - val_acc: 0.7800 - val_lr: 0.0043\n",
            "\n",
            "Epoch 00018: val_acc did not improve from 0.86000\n",
            "Epoch 19/70\n",
            "4/4 [==============================] - 1060s 265s/step - loss: 0.1217 - acc: 0.9650 - lr: 0.0043 - val_loss: 0.7284 - val_acc: 0.8200 - val_lr: 0.0043\n",
            "\n",
            "Epoch 00019: val_acc did not improve from 0.86000\n",
            "Epoch 20/70\n",
            "4/4 [==============================] - 1060s 265s/step - loss: 0.0921 - acc: 0.9750 - lr: 0.0043 - val_loss: 0.5688 - val_acc: 0.8600 - val_lr: 0.0043\n",
            "\n",
            "Epoch 00020: val_acc did not improve from 0.86000\n",
            "Epoch 21/70\n",
            "4/4 [==============================] - 1058s 264s/step - loss: 0.1110 - acc: 0.9700 - lr: 0.0043 - val_loss: 0.5082 - val_acc: 0.8800 - val_lr: 0.0043\n",
            "\n",
            "Epoch 00021: val_acc improved from 0.86000 to 0.88000, saving model to ../models/ResNET_80_20_split_ADAM_LR0.0043_weights-improvement-21-0.88.hdf5\n",
            "Epoch 22/70\n",
            "4/4 [==============================] - 1058s 264s/step - loss: 0.1277 - acc: 0.9550 - lr: 0.0043 - val_loss: 0.5014 - val_acc: 0.9000 - val_lr: 0.0043\n",
            "\n",
            "Epoch 00022: val_acc improved from 0.88000 to 0.90000, saving model to ../models/ResNET_80_20_split_ADAM_LR0.0043_weights-improvement-22-0.90.hdf5\n",
            "Epoch 23/70\n",
            "4/4 [==============================] - 1034s 258s/step - loss: 0.0838 - acc: 0.9850 - lr: 0.0043 - val_loss: 0.4568 - val_acc: 0.9200 - val_lr: 0.0043\n",
            "\n",
            "Epoch 00023: val_acc improved from 0.90000 to 0.92000, saving model to ../models/ResNET_80_20_split_ADAM_LR0.0043_weights-improvement-23-0.92.hdf5\n",
            "Epoch 24/70\n",
            "4/4 [==============================] - 989s 247s/step - loss: 0.0702 - acc: 0.9800 - lr: 0.0043 - val_loss: 0.4537 - val_acc: 0.9400 - val_lr: 0.0043\n",
            "\n",
            "Epoch 00024: val_acc improved from 0.92000 to 0.94000, saving model to ../models/ResNET_80_20_split_ADAM_LR0.0043_weights-improvement-24-0.94.hdf5\n",
            "Epoch 25/70\n",
            "4/4 [==============================] - 990s 248s/step - loss: 0.0819 - acc: 0.9750 - lr: 0.0043 - val_loss: 0.4618 - val_acc: 0.9400 - val_lr: 0.0043\n",
            "\n",
            "Epoch 00025: val_acc did not improve from 0.94000\n",
            "Epoch 26/70\n",
            "4/4 [==============================] - 989s 247s/step - loss: 0.0765 - acc: 0.9800 - lr: 0.0043 - val_loss: 0.4636 - val_acc: 0.9400 - val_lr: 0.0043\n",
            "\n",
            "Epoch 00026: val_acc did not improve from 0.94000\n",
            "Epoch 27/70\n",
            "4/4 [==============================] - 989s 247s/step - loss: 0.0558 - acc: 0.9900 - lr: 0.0043 - val_loss: 0.4586 - val_acc: 0.9400 - val_lr: 0.0043\n",
            "\n",
            "Epoch 00027: val_acc did not improve from 0.94000\n",
            "Epoch 28/70\n",
            "4/4 [==============================] - 991s 248s/step - loss: 0.0628 - acc: 0.9900 - lr: 0.0043 - val_loss: 0.4429 - val_acc: 0.9400 - val_lr: 0.0043\n",
            "\n",
            "Epoch 00028: val_acc did not improve from 0.94000\n",
            "Epoch 29/70\n",
            "4/4 [==============================] - 991s 248s/step - loss: 0.0781 - acc: 0.9800 - lr: 0.0043 - val_loss: 0.4208 - val_acc: 0.9400 - val_lr: 0.0043\n",
            "\n",
            "Epoch 00029: val_acc did not improve from 0.94000\n",
            "Epoch 30/70\n",
            "4/4 [==============================] - 991s 248s/step - loss: 0.0767 - acc: 0.9800 - lr: 0.0043 - val_loss: 0.3949 - val_acc: 0.9400 - val_lr: 0.0043\n",
            "\n",
            "Epoch 00030: val_acc did not improve from 0.94000\n",
            "Epoch 31/70\n",
            "4/4 [==============================] - 991s 248s/step - loss: 0.0543 - acc: 0.9900 - lr: 0.0043 - val_loss: 0.3725 - val_acc: 0.9400 - val_lr: 0.0043\n",
            "\n",
            "Epoch 00031: val_acc did not improve from 0.94000\n",
            "Epoch 32/70\n",
            "4/4 [==============================] - 989s 247s/step - loss: 0.0517 - acc: 0.9900 - lr: 0.0043 - val_loss: 0.3631 - val_acc: 0.9400 - val_lr: 0.0043\n",
            "\n",
            "Epoch 00032: val_acc did not improve from 0.94000\n",
            "Epoch 33/70\n",
            "4/4 [==============================] - 989s 247s/step - loss: 0.0562 - acc: 0.9850 - lr: 0.0043 - val_loss: 0.3545 - val_acc: 0.9400 - val_lr: 0.0043\n",
            "\n",
            "Epoch 00033: val_acc did not improve from 0.94000\n",
            "Epoch 34/70\n",
            "4/4 [==============================] - 989s 247s/step - loss: 0.0624 - acc: 0.9900 - lr: 0.0043 - val_loss: 0.3400 - val_acc: 0.9400 - val_lr: 0.0043\n",
            "\n",
            "Epoch 00034: val_acc did not improve from 0.94000\n",
            "Epoch 35/70\n",
            "4/4 [==============================] - 990s 247s/step - loss: 0.0707 - acc: 0.9700 - lr: 0.0043 - val_loss: 0.3321 - val_acc: 0.9400 - val_lr: 0.0043\n",
            "\n",
            "Epoch 00035: val_acc did not improve from 0.94000\n",
            "Epoch 36/70\n",
            "4/4 [==============================] - 991s 248s/step - loss: 0.0707 - acc: 0.9750 - lr: 0.0043 - val_loss: 0.3278 - val_acc: 0.9400 - val_lr: 0.0043\n",
            "\n",
            "Epoch 00036: val_acc did not improve from 0.94000\n",
            "Epoch 37/70\n",
            "4/4 [==============================] - 990s 248s/step - loss: 0.0703 - acc: 0.9850 - lr: 0.0043 - val_loss: 0.3255 - val_acc: 0.9400 - val_lr: 0.0043\n",
            "\n",
            "Epoch 00037: val_acc did not improve from 0.94000\n",
            "Epoch 38/70\n",
            "4/4 [==============================] - 990s 248s/step - loss: 0.0621 - acc: 0.9800 - lr: 0.0043 - val_loss: 0.3251 - val_acc: 0.9400 - val_lr: 0.0043\n",
            "\n",
            "Epoch 00038: val_acc did not improve from 0.94000\n",
            "Epoch 39/70\n",
            "4/4 [==============================] - 991s 248s/step - loss: 0.0799 - acc: 0.9700 - lr: 0.0043 - val_loss: 0.3258 - val_acc: 0.9400 - val_lr: 0.0043\n",
            "\n",
            "Epoch 00039: val_acc did not improve from 0.94000\n",
            "Epoch 40/70\n",
            "4/4 [==============================] - 1018s 255s/step - loss: 0.0706 - acc: 0.9700 - lr: 0.0043 - val_loss: 0.3274 - val_acc: 0.9400 - val_lr: 0.0043\n",
            "\n",
            "Epoch 00040: val_acc did not improve from 0.94000\n",
            "Epoch 41/70\n",
            "4/4 [==============================] - 997s 249s/step - loss: 0.0441 - acc: 0.9950 - lr: 0.0043 - val_loss: 0.3303 - val_acc: 0.9400 - val_lr: 0.0043\n",
            "\n",
            "Epoch 00041: val_acc did not improve from 0.94000\n",
            "Epoch 42/70\n",
            "4/4 [==============================] - 991s 248s/step - loss: 0.0452 - acc: 0.9900 - lr: 0.0043 - val_loss: 0.3322 - val_acc: 0.9400 - val_lr: 0.0043\n",
            "\n",
            "Epoch 00042: val_acc did not improve from 0.94000\n",
            "Epoch 43/70\n",
            "4/4 [==============================] - 990s 247s/step - loss: 0.0626 - acc: 0.9800 - lr: 0.0043 - val_loss: 0.3336 - val_acc: 0.9400 - val_lr: 0.0043\n",
            "\n",
            "Epoch 00043: val_acc did not improve from 0.94000\n",
            "Epoch 44/70\n",
            "4/4 [==============================] - 990s 247s/step - loss: 0.0665 - acc: 0.9750 - lr: 0.0043 - val_loss: 0.3360 - val_acc: 0.9400 - val_lr: 0.0043\n",
            "\n",
            "Epoch 00044: val_acc did not improve from 0.94000\n",
            "Epoch 45/70\n",
            "4/4 [==============================] - 989s 247s/step - loss: 0.0472 - acc: 0.9900 - lr: 0.0043 - val_loss: 0.3379 - val_acc: 0.9400 - val_lr: 0.0043\n",
            "\n",
            "Epoch 00045: val_acc did not improve from 0.94000\n",
            "Epoch 46/70\n",
            "4/4 [==============================] - 990s 248s/step - loss: 0.0595 - acc: 0.9900 - lr: 0.0043 - val_loss: 0.3395 - val_acc: 0.9400 - val_lr: 0.0043\n",
            "\n",
            "Epoch 00046: val_acc did not improve from 0.94000\n",
            "Epoch 47/70\n",
            "4/4 [==============================] - 992s 248s/step - loss: 0.0530 - acc: 0.9900 - lr: 0.0043 - val_loss: 0.3403 - val_acc: 0.9400 - val_lr: 0.0043\n",
            "\n",
            "Epoch 00047: val_acc did not improve from 0.94000\n",
            "Epoch 48/70\n",
            "4/4 [==============================] - 991s 248s/step - loss: 0.0634 - acc: 0.9850 - lr: 0.0043 - val_loss: 0.3401 - val_acc: 0.9400 - val_lr: 0.0043\n",
            "\n",
            "Epoch 00048: val_acc did not improve from 0.94000\n",
            "Epoch 49/70\n",
            "4/4 [==============================] - 990s 248s/step - loss: 0.0443 - acc: 0.9950 - lr: 0.0043 - val_loss: 0.3393 - val_acc: 0.9400 - val_lr: 0.0043\n",
            "\n",
            "Epoch 00049: val_acc did not improve from 0.94000\n",
            "Epoch 50/70\n",
            "4/4 [==============================] - 990s 247s/step - loss: 0.0862 - acc: 0.9800 - lr: 0.0043 - val_loss: 0.3402 - val_acc: 0.9400 - val_lr: 0.0043\n",
            "\n",
            "Epoch 00050: val_acc did not improve from 0.94000\n",
            "Epoch 51/70\n",
            "4/4 [==============================] - 991s 248s/step - loss: 0.0533 - acc: 0.9900 - lr: 0.0043 - val_loss: 0.3409 - val_acc: 0.9400 - val_lr: 0.0043\n",
            "\n",
            "Epoch 00051: val_acc did not improve from 0.94000\n",
            "Epoch 52/70\n",
            "4/4 [==============================] - 1017s 254s/step - loss: 0.0515 - acc: 0.9850 - lr: 0.0043 - val_loss: 0.3418 - val_acc: 0.9400 - val_lr: 0.0043\n",
            "\n",
            "Epoch 00052: val_acc did not improve from 0.94000\n",
            "Epoch 53/70\n",
            "4/4 [==============================] - 1049s 262s/step - loss: 0.0622 - acc: 0.9900 - lr: 0.0043 - val_loss: 0.3419 - val_acc: 0.9400 - val_lr: 0.0043\n",
            "\n",
            "Epoch 00053: val_acc did not improve from 0.94000\n",
            "Epoch 54/70\n",
            "4/4 [==============================] - 1063s 266s/step - loss: 0.0650 - acc: 0.9800 - lr: 0.0043 - val_loss: 0.3420 - val_acc: 0.9400 - val_lr: 0.0043\n",
            "\n",
            "Epoch 00054: val_acc did not improve from 0.94000\n",
            "Epoch 55/70\n",
            "4/4 [==============================] - 1047s 262s/step - loss: 0.0531 - acc: 0.9900 - lr: 0.0043 - val_loss: 0.3421 - val_acc: 0.9400 - val_lr: 0.0043\n",
            "\n",
            "Epoch 00055: val_acc did not improve from 0.94000\n",
            "Epoch 56/70\n",
            "4/4 [==============================] - 1051s 263s/step - loss: 0.0626 - acc: 0.9800 - lr: 0.0043 - val_loss: 0.3422 - val_acc: 0.9400 - val_lr: 0.0043\n",
            "\n",
            "Epoch 00056: val_acc did not improve from 0.94000\n",
            "Epoch 57/70\n",
            "4/4 [==============================] - 1047s 262s/step - loss: 0.0513 - acc: 0.9900 - lr: 0.0043 - val_loss: 0.3417 - val_acc: 0.9400 - val_lr: 0.0043\n",
            "\n",
            "Epoch 00057: val_acc did not improve from 0.94000\n",
            "Epoch 58/70\n",
            "4/4 [==============================] - 1076s 269s/step - loss: 0.0435 - acc: 0.9950 - lr: 0.0043 - val_loss: 0.3417 - val_acc: 0.9400 - val_lr: 0.0043\n",
            "\n",
            "Epoch 00058: val_acc did not improve from 0.94000\n",
            "Epoch 59/70\n",
            "4/4 [==============================] - 1155s 289s/step - loss: 0.0451 - acc: 0.9950 - lr: 0.0043 - val_loss: 0.3418 - val_acc: 0.9400 - val_lr: 0.0043\n",
            "\n",
            "Epoch 00059: val_acc did not improve from 0.94000\n",
            "Epoch 60/70\n",
            "4/4 [==============================] - 1109s 277s/step - loss: 0.0712 - acc: 0.9700 - lr: 0.0043 - val_loss: 0.3419 - val_acc: 0.9400 - val_lr: 0.0043\n",
            "\n",
            "Epoch 00060: val_acc did not improve from 0.94000\n",
            "Epoch 61/70\n",
            "4/4 [==============================] - 1047s 262s/step - loss: 0.0812 - acc: 0.9750 - lr: 0.0043 - val_loss: 0.3417 - val_acc: 0.9400 - val_lr: 0.0043\n",
            "\n",
            "Epoch 00061: val_acc did not improve from 0.94000\n",
            "Epoch 62/70\n",
            "4/4 [==============================] - 1050s 262s/step - loss: 0.0363 - acc: 0.9900 - lr: 0.0043 - val_loss: 0.3411 - val_acc: 0.9400 - val_lr: 0.0043\n",
            "\n",
            "Epoch 00062: val_acc did not improve from 0.94000\n",
            "Epoch 63/70\n",
            "4/4 [==============================] - 1053s 263s/step - loss: 0.0775 - acc: 0.9750 - lr: 0.0043 - val_loss: 0.3408 - val_acc: 0.9400 - val_lr: 0.0043\n",
            "\n",
            "Epoch 00063: val_acc did not improve from 0.94000\n",
            "Epoch 64/70\n",
            "4/4 [==============================] - 1053s 263s/step - loss: 0.0826 - acc: 0.9700 - lr: 0.0043 - val_loss: 0.3412 - val_acc: 0.9400 - val_lr: 0.0043\n",
            "\n",
            "Epoch 00064: val_acc did not improve from 0.94000\n",
            "Epoch 65/70\n",
            "4/4 [==============================] - 1051s 263s/step - loss: 0.0615 - acc: 0.9850 - lr: 0.0043 - val_loss: 0.3412 - val_acc: 0.9400 - val_lr: 0.0043\n",
            "\n",
            "Epoch 00065: val_acc did not improve from 0.94000\n",
            "Epoch 66/70\n",
            "4/4 [==============================] - 1053s 263s/step - loss: 0.0497 - acc: 0.9950 - lr: 0.0043 - val_loss: 0.3408 - val_acc: 0.9400 - val_lr: 0.0043\n",
            "\n",
            "Epoch 00066: val_acc did not improve from 0.94000\n",
            "Epoch 67/70\n",
            "4/4 [==============================] - 1051s 263s/step - loss: 0.0698 - acc: 0.9750 - lr: 0.0043 - val_loss: 0.3408 - val_acc: 0.9400 - val_lr: 0.0043\n",
            "\n",
            "Epoch 00067: val_acc did not improve from 0.94000\n",
            "Epoch 68/70\n",
            "4/4 [==============================] - 1051s 263s/step - loss: 0.0353 - acc: 1.0000 - lr: 0.0043 - val_loss: 0.3407 - val_acc: 0.9400 - val_lr: 0.0043\n",
            "\n",
            "Epoch 00068: val_acc did not improve from 0.94000\n",
            "Epoch 69/70\n",
            "4/4 [==============================] - 1047s 262s/step - loss: 0.0696 - acc: 0.9850 - lr: 0.0043 - val_loss: 0.3414 - val_acc: 0.9400 - val_lr: 0.0043\n",
            "\n",
            "Epoch 00069: val_acc did not improve from 0.94000\n",
            "Epoch 70/70\n",
            "4/4 [==============================] - 1050s 263s/step - loss: 0.0741 - acc: 0.9850 - lr: 0.0043 - val_loss: 0.3420 - val_acc: 0.9400 - val_lr: 0.0043\n",
            "\n",
            "Epoch 00070: val_acc did not improve from 0.94000\n"
          ],
          "name": "stdout"
        }
      ]
    },
    {
      "cell_type": "code",
      "metadata": {
        "id": "zQoSjwcErh8j",
        "colab_type": "code",
        "colab": {},
        "outputId": "03c62852-a9ab-4418-d08d-970c30770ddd"
      },
      "source": [
        "sns.set_color_codes(\"pastel\")\n",
        "sns.set_style(\"white\")\n",
        "#sns.lineplot(x='loss', data = )\n",
        "plt.plot(history.history['lr'], label = \"Learning Rate\")\n",
        "plt.legend()\n",
        "plt.show()"
      ],
      "execution_count": 0,
      "outputs": [
        {
          "output_type": "display_data",
          "data": {
            "image/png": "[encoded data removed]",
            "text/plain": [
              "<matplotlib.figure.Figure at 0x1f9c7056b70>"
            ]
          },
          "metadata": {
            "tags": []
          }
        }
      ]
    },
    {
      "cell_type": "code",
      "metadata": {
        "id": "bXrRw_a7rh8l",
        "colab_type": "code",
        "colab": {},
        "outputId": "ba878aae-c81a-4c36-8515-9bdaea0f9d62"
      },
      "source": [
        "valLoss, valAcc, LR = model.evaluate(X_test, y_test, verbose=0)\n",
        "trainLoss, trainAcc, LR = model.evaluate(X_train, y_train, verbose=0)\n",
        "print(\"Validation Loss: {0:.6f}, Validation Accuracy: {1:.6f}\".format(valLoss, valAcc))\n",
        "print(\"Train Loss: {0:.6f}, Train Accuracy: {1:.6f}\".format(trainLoss, trainAcc))"
      ],
      "execution_count": 0,
      "outputs": [
        {
          "output_type": "stream",
          "text": [
            "Validation Loss: 0.341950, Validation Accuracy: 0.940000\n",
            "Train Loss: 0.024260, Train Accuracy: 1.000000\n"
          ],
          "name": "stdout"
        }
      ]
    },
    {
      "cell_type": "code",
      "metadata": {
        "id": "lnYG-7Mlrh8o",
        "colab_type": "code",
        "colab": {},
        "outputId": "f972576b-aa62-4791-e3ca-29161874c5d9"
      },
      "source": [
        "model.evaluate(X_test, y_test, verbose=0)"
      ],
      "execution_count": 0,
      "outputs": [
        {
          "output_type": "execute_result",
          "data": {
            "text/plain": [
              "[0.34195014476776125, 0.9399999904632569, 0.004323415923863649]"
            ]
          },
          "metadata": {
            "tags": []
          },
          "execution_count": 67
        }
      ]
    },
    {
      "cell_type": "code",
      "metadata": {
        "id": "t3cIjRwxrh8s",
        "colab_type": "code",
        "colab": {},
        "outputId": "f08be76a-3cc9-4c5c-ea48-ceaaba86a6e9"
      },
      "source": [
        "sns.set_color_codes(\"pastel\")\n",
        "sns.set_style(\"white\")\n",
        "#sns.lineplot(x='loss', data = )\n",
        "plt.plot(history.history['loss'], label = \"Training Loss\")\n",
        "plt.plot(history.history['val_loss'], label = \"Validation Loss\")\n",
        "plt.legend()\n",
        "plt.show()\n",
        "plt.plot(history.history['acc'],label = \"Training Accuracy\")\n",
        "plt.plot(history.history['val_acc'], label = \"Validation Accuracy\")\n",
        "plt.legend()\n",
        "plt.show()"
      ],
      "execution_count": 0,
      "outputs": [
        {
          "output_type": "display_data",
          "data": {
            "image/png": "[encoded data removed]",
            "text/plain": [
              "<matplotlib.figure.Figure at 0x1f96d63e630>"
            ]
          },
          "metadata": {
            "tags": []
          }
        },
        {
          "output_type": "display_data",
          "data": {
            "image/png": "[encoded data removed]",
            "text/plain": [
              "<matplotlib.figure.Figure at 0x1f9c6bedf28>"
            ]
          },
          "metadata": {
            "tags": []
          }
        }
      ]
    },
    {
      "cell_type": "code",
      "metadata": {
        "id": "JWWOUYEgrh80",
        "colab_type": "code",
        "colab": {},
        "outputId": "4035b74f-fe03-4caa-8106-e7b97c6b042f"
      },
      "source": [
        "pred = model.predict(X_test) # Predict values of the test set\n",
        "#y_testCat = to_categorical(y_test, num_classes = classNum) \n",
        "testLoss, testAcc, LR = model.evaluate(X_test, y_test, verbose=0)\n",
        "print(testLoss,testAcc)\n",
        "\n",
        "pred1hot = np.argmax(pred, axis=1) # Convert predicted classes to one hot vectors\n",
        "y_test1hot = np.argmax(y_test, axis=1) # Convert true classes to one hot vectors\n",
        "cm = confusion_matrix(y_test1hot, pred1hot) #confusion matrix\n",
        "\n",
        "plt.figure(figsize=(9,9))\n",
        "sns.heatmap(cm, annot=True, fmt=\".0f\", linewidths=.5, square = True, cmap=\"YlGnBu\");\n",
        "plt.ylabel('True Labels');\n",
        "plt.xlabel('Predicted Labels');\n",
        "\n",
        "plt.title('Test Loss = %.4f, Test Accuracy = %.4f'%(testLoss, testAcc), size = 15);\n",
        "\n",
        "#plot_confusion_matrix(confusion_mtx, classes = range(10)) "
      ],
      "execution_count": 0,
      "outputs": [
        {
          "output_type": "stream",
          "text": [
            "0.34195014476776125 0.9399999904632569\n"
          ],
          "name": "stdout"
        },
        {
          "output_type": "display_data",
          "data": {
            "image/png": "[encoded data removed]",
            "text/plain": [
              "<matplotlib.figure.Figure at 0x1f9c6be5828>"
            ]
          },
          "metadata": {
            "tags": []
          }
        }
      ]
    },
    {
      "cell_type": "markdown",
      "metadata": {
        "id": "oLCn2R4Frh83",
        "colab_type": "text"
      },
      "source": [
        "## RESNET with ADAM, LR = 0.00435 + Decay"
      ]
    },
    {
      "cell_type": "code",
      "metadata": {
        "id": "MEBuazJPrh83",
        "colab_type": "code",
        "colab": {},
        "outputId": "6c115038-6fb3-48b7-aae3-4ac86c391d9f"
      },
      "source": [
        "with open ('../input/X_gray', 'rb') as f3:\n",
        "    X = pickle.load(f3)\n",
        "with open ('../input/y_gray', 'rb') as f4:\n",
        "    y = pickle.load(f4)\n",
        "X_train, X_test, y_train, y_test = train_test_split(X,y,test_size = 0.20,stratify=y, random_state =42)\n",
        "height = 224\n",
        "width = 224\n",
        "channels =1\n",
        "X_train = X_train.reshape(-1,height,width,channels) # dimension (60000) is inferred by setting the first element to -1\n",
        "X_test = X_test.reshape(-1,height,width,channels)\n",
        "#X_val = X_val.reshape(-1,height,width,channels)\n",
        "y_train = LabelEncoder().fit_transform(y_train)\n",
        "#y_train = OneHotEncoder().fit_transform(y_train.reshape(-1,1))\n",
        "#y_val = LabelEncoder().fit_transform(y_val)\n",
        "#y_val = OneHotEncoder().fit_transform(y_val.reshape(-1,1))\n",
        "y_test = LabelEncoder().fit_transform(y_test)\n",
        "#y_test = OneHotEncoder().fit_transform(y_test.reshape(-1,1))\n",
        "print(y_train.shape)\n",
        "#print(y_val.shape)\n",
        "print(y_test.shape)\n",
        "classNum = 11#len(np.unique(y_train)) # number of unique labels is counted to determine the # of classes\n",
        "y_train = to_categorical(y_train, num_classes = classNum)\n",
        "y_test = to_categorical(y_test, num_classes = classNum)\n",
        "#y_val = to_categorical(y_val, num_classes = classNum)"
      ],
      "execution_count": 0,
      "outputs": [
        {
          "output_type": "stream",
          "text": [
            "(200,)\n",
            "(50,)\n"
          ],
          "name": "stdout"
        }
      ]
    },
    {
      "cell_type": "code",
      "metadata": {
        "id": "iEIke6qErh88",
        "colab_type": "code",
        "colab": {}
      },
      "source": [
        "datagen = ImageDataGenerator(\n",
        "        rotation_range=20,  # randomly rotate images in the range (degrees, 0 to 180)\n",
        "        zoom_range = 0.2, # Randomly zoom image \n",
        "        width_shift_range=0.2,  # randomly shift images horizontally (fraction of total width)\n",
        "        height_shift_range=0.2,  # randomly shift images vertically (fraction of total height)\n",
        "        horizontal_flip=True,  # randomly flip images horizontally only!\n",
        "        vertical_flip=False,  #  do not randomly flip images vertically!\n",
        "        fill_mode='nearest',\n",
        "        zca_whitening = False) # A whitening transform of an image is a linear algebra operation that reduces the redundancy in the matrix of pixel images. Less redundancy in the image is intended to better highlight the structures and features in the image to the learning algorithm.\n",
        "\n",
        "\n",
        "datagen.fit(X_train, augment=True)\n",
        "# configure batch size and retrieve one batch of images\n",
        "#os.makedirs('augmentedImages')\n",
        "#for X_batch, y_batch in datagen.flow(X_train, y_train, batch_size=9, save_to_dir='../augmentedImages', save_prefix='aug', save_format='png'):"
      ],
      "execution_count": 0,
      "outputs": []
    },
    {
      "cell_type": "code",
      "metadata": {
        "id": "ZhgzABx9rh89",
        "colab_type": "code",
        "colab": {},
        "outputId": "6cc769cd-052e-4bb2-809f-1beadb072765"
      },
      "source": [
        "inputShape = (224,224,1)\n",
        "model = load_model('../models/ResNET_80_20_split_ADAM_LR0.005.h5')\n",
        "model.load_weights('../models/ResNET_80_20_split_ADAM_LR0.005_weights.h5')\n",
        "opt = keras.optimizers.Adam(lr=0.004323416)\n",
        "lr_metric = get_lr_metric(opt)\n",
        "model.compile(loss=keras.losses.categorical_crossentropy,\n",
        "              optimizer=keras.optimizers.Adam(lr=0.004323416,decay = 0.9), #instead of annealer decay = DR can be set, too\n",
        "              metrics=['accuracy', lr_metric])\n",
        "#annealer = LearningRateScheduler(lambda x: 1e-3 * 0.9 ** x)\n",
        "# Fit the model\n",
        "Epochs = 50 # \n",
        "batchSize = 30 # number of randomly taken samples from features and labels to feed into each epoch \n",
        "                # until an epoch limit is reached.\n",
        "# checkpoint\n",
        "filepath=\"../models/ResNET_80_20_split_ADAM_LR0.0043decay_weights-improvement-{epoch:02d}-{val_acc:.2f}.hdf5\" \n",
        "checkpoint = ModelCheckpoint(filepath, monitor='val_acc', verbose=1, save_best_only=True, mode='max')   \n",
        "#callbacks_list = [checkpoint]\n",
        "history = model.fit_generator(datagen.flow(X_train,y_train, batch_size=batchSize),\n",
        "                              epochs = Epochs, validation_data = (X_test,y_test),\n",
        "                              verbose = 1, steps_per_epoch=X_train.shape[0] // batchSize\n",
        "                              , callbacks=[checkpoint])\n",
        "\n"
      ],
      "execution_count": 0,
      "outputs": [
        {
          "output_type": "stream",
          "text": [
            "Epoch 1/50\n",
            "6/6 [==============================] - 960s 160s/step - loss: 6.4826 - acc: 0.3377 - lr: 0.0043 - val_loss: 11.8679 - val_acc: 0.1400 - val_lr: 0.0043\n",
            "\n",
            "Epoch 00001: val_acc improved from -inf to 0.14000, saving model to ../models/ResNET_80_20_split_ADAM_LR0.0043decay_weights-improvement-01-0.14.hdf5\n",
            "Epoch 2/50\n",
            "6/6 [==============================] - 905s 151s/step - loss: 3.6409 - acc: 0.3496 - lr: 0.0043 - val_loss: 8.1914 - val_acc: 0.1600 - val_lr: 0.0043\n",
            "\n",
            "Epoch 00002: val_acc improved from 0.14000 to 0.16000, saving model to ../models/ResNET_80_20_split_ADAM_LR0.0043decay_weights-improvement-02-0.16.hdf5\n",
            "Epoch 3/50\n",
            "6/6 [==============================] - 955s 159s/step - loss: 2.7181 - acc: 0.4111 - lr: 0.0043 - val_loss: 7.5105 - val_acc: 0.2400 - val_lr: 0.0043\n",
            "\n",
            "Epoch 00003: val_acc improved from 0.16000 to 0.24000, saving model to ../models/ResNET_80_20_split_ADAM_LR0.0043decay_weights-improvement-03-0.24.hdf5\n",
            "Epoch 4/50\n",
            "6/6 [==============================] - 857s 143s/step - loss: 1.6285 - acc: 0.5830 - lr: 0.0043 - val_loss: 5.6993 - val_acc: 0.3400 - val_lr: 0.0043\n",
            "\n",
            "Epoch 00004: val_acc improved from 0.24000 to 0.34000, saving model to ../models/ResNET_80_20_split_ADAM_LR0.0043decay_weights-improvement-04-0.34.hdf5\n",
            "Epoch 5/50\n",
            "6/6 [==============================] - 953s 159s/step - loss: 1.8581 - acc: 0.5056 - lr: 0.0043 - val_loss: 4.0240 - val_acc: 0.3800 - val_lr: 0.0043\n",
            "\n",
            "Epoch 00005: val_acc improved from 0.34000 to 0.38000, saving model to ../models/ResNET_80_20_split_ADAM_LR0.0043decay_weights-improvement-05-0.38.hdf5\n",
            "Epoch 6/50\n",
            "6/6 [==============================] - 883s 147s/step - loss: 1.3450 - acc: 0.6224 - lr: 0.0043 - val_loss: 3.3342 - val_acc: 0.5200 - val_lr: 0.0043\n",
            "\n",
            "Epoch 00006: val_acc improved from 0.38000 to 0.52000, saving model to ../models/ResNET_80_20_split_ADAM_LR0.0043decay_weights-improvement-06-0.52.hdf5\n",
            "Epoch 7/50\n",
            "6/6 [==============================] - 855s 143s/step - loss: 1.2846 - acc: 0.6768 - lr: 0.0043 - val_loss: 3.2064 - val_acc: 0.4600 - val_lr: 0.0043\n",
            "\n",
            "Epoch 00007: val_acc did not improve from 0.52000\n",
            "Epoch 8/50\n",
            "6/6 [==============================] - 855s 143s/step - loss: 1.3295 - acc: 0.6433 - lr: 0.0043 - val_loss: 2.6361 - val_acc: 0.5000 - val_lr: 0.0043\n",
            "\n",
            "Epoch 00008: val_acc did not improve from 0.52000\n",
            "Epoch 9/50\n",
            "6/6 [==============================] - 855s 142s/step - loss: 1.0530 - acc: 0.6424 - lr: 0.0043 - val_loss: 2.0482 - val_acc: 0.5400 - val_lr: 0.0043\n",
            "\n",
            "Epoch 00009: val_acc improved from 0.52000 to 0.54000, saving model to ../models/ResNET_80_20_split_ADAM_LR0.0043decay_weights-improvement-09-0.54.hdf5\n",
            "Epoch 10/50\n",
            "6/6 [==============================] - 855s 142s/step - loss: 1.2196 - acc: 0.7120 - lr: 0.0043 - val_loss: 1.6810 - val_acc: 0.5600 - val_lr: 0.0043\n",
            "\n",
            "Epoch 00010: val_acc improved from 0.54000 to 0.56000, saving model to ../models/ResNET_80_20_split_ADAM_LR0.0043decay_weights-improvement-10-0.56.hdf5\n",
            "Epoch 11/50\n",
            "6/6 [==============================] - 854s 142s/step - loss: 1.0730 - acc: 0.7024 - lr: 0.0043 - val_loss: 1.4829 - val_acc: 0.6000 - val_lr: 0.0043\n",
            "\n",
            "Epoch 00011: val_acc improved from 0.56000 to 0.60000, saving model to ../models/ResNET_80_20_split_ADAM_LR0.0043decay_weights-improvement-11-0.60.hdf5\n",
            "Epoch 12/50\n",
            "6/6 [==============================] - 903s 151s/step - loss: 1.0065 - acc: 0.7000 - lr: 0.0043 - val_loss: 1.3230 - val_acc: 0.6800 - val_lr: 0.0043\n",
            "\n",
            "Epoch 00012: val_acc improved from 0.60000 to 0.68000, saving model to ../models/ResNET_80_20_split_ADAM_LR0.0043decay_weights-improvement-12-0.68.hdf5\n",
            "Epoch 13/50\n",
            "6/6 [==============================] - 854s 142s/step - loss: 0.9595 - acc: 0.7112 - lr: 0.0043 - val_loss: 1.2150 - val_acc: 0.7000 - val_lr: 0.0043\n",
            "\n",
            "Epoch 00013: val_acc improved from 0.68000 to 0.70000, saving model to ../models/ResNET_80_20_split_ADAM_LR0.0043decay_weights-improvement-13-0.70.hdf5\n",
            "Epoch 14/50\n",
            "6/6 [==============================] - 854s 142s/step - loss: 1.0350 - acc: 0.6929 - lr: 0.0043 - val_loss: 1.1533 - val_acc: 0.7000 - val_lr: 0.0043\n",
            "\n",
            "Epoch 00014: val_acc did not improve from 0.70000\n",
            "Epoch 15/50\n",
            "6/6 [==============================] - 855s 143s/step - loss: 0.8071 - acc: 0.7672 - lr: 0.0043 - val_loss: 1.0854 - val_acc: 0.7200 - val_lr: 0.0043\n",
            "\n",
            "Epoch 00015: val_acc improved from 0.70000 to 0.72000, saving model to ../models/ResNET_80_20_split_ADAM_LR0.0043decay_weights-improvement-15-0.72.hdf5\n",
            "Epoch 16/50\n",
            "6/6 [==============================] - 900s 150s/step - loss: 0.8618 - acc: 0.7500 - lr: 0.0043 - val_loss: 1.0548 - val_acc: 0.7200 - val_lr: 0.0043\n",
            "\n",
            "Epoch 00016: val_acc did not improve from 0.72000\n",
            "Epoch 17/50\n",
            "6/6 [==============================] - 809s 135s/step - loss: 0.7000 - acc: 0.7949 - lr: 0.0043 - val_loss: 0.9286 - val_acc: 0.6800 - val_lr: 0.0043\n",
            "\n",
            "Epoch 00017: val_acc did not improve from 0.72000\n",
            "Epoch 18/50\n",
            "6/6 [==============================] - 900s 150s/step - loss: 0.8191 - acc: 0.7444 - lr: 0.0043 - val_loss: 0.9080 - val_acc: 0.6800 - val_lr: 0.0043\n",
            "\n",
            "Epoch 00018: val_acc did not improve from 0.72000\n",
            "Epoch 19/50\n",
            "6/6 [==============================] - 855s 142s/step - loss: 0.7742 - acc: 0.7768 - lr: 0.0043 - val_loss: 0.9251 - val_acc: 0.7000 - val_lr: 0.0043\n",
            "\n",
            "Epoch 00019: val_acc did not improve from 0.72000\n",
            "Epoch 20/50\n",
            "6/6 [==============================] - 855s 142s/step - loss: 0.6777 - acc: 0.7944 - lr: 0.0043 - val_loss: 0.9166 - val_acc: 0.7000 - val_lr: 0.0043\n",
            "\n",
            "Epoch 00020: val_acc did not improve from 0.72000\n",
            "Epoch 21/50\n",
            "6/6 [==============================] - 854s 142s/step - loss: 0.6721 - acc: 0.8112 - lr: 0.0043 - val_loss: 0.8819 - val_acc: 0.7200 - val_lr: 0.0043\n",
            "\n",
            "Epoch 00021: val_acc improved from 0.72000 to 0.72000, saving model to ../models/ResNET_80_20_split_ADAM_LR0.0043decay_weights-improvement-21-0.72.hdf5\n",
            "Epoch 22/50\n",
            "6/6 [==============================] - 855s 142s/step - loss: 0.6915 - acc: 0.7768 - lr: 0.0043 - val_loss: 0.8408 - val_acc: 0.7400 - val_lr: 0.0043\n",
            "\n",
            "Epoch 00022: val_acc improved from 0.72000 to 0.74000, saving model to ../models/ResNET_80_20_split_ADAM_LR0.0043decay_weights-improvement-22-0.74.hdf5\n",
            "Epoch 23/50\n",
            "6/6 [==============================] - 900s 150s/step - loss: 0.6558 - acc: 0.8167 - lr: 0.0043 - val_loss: 0.8198 - val_acc: 0.7600 - val_lr: 0.0043\n",
            "\n",
            "Epoch 00023: val_acc improved from 0.74000 to 0.76000, saving model to ../models/ResNET_80_20_split_ADAM_LR0.0043decay_weights-improvement-23-0.76.hdf5\n",
            "Epoch 24/50\n",
            "6/6 [==============================] - 807s 135s/step - loss: 0.6306 - acc: 0.7765 - lr: 0.0043 - val_loss: 0.7889 - val_acc: 0.7600 - val_lr: 0.0043\n",
            "\n",
            "Epoch 00024: val_acc did not improve from 0.76000\n",
            "Epoch 25/50\n",
            "6/6 [==============================] - 900s 150s/step - loss: 0.6597 - acc: 0.7889 - lr: 0.0043 - val_loss: 0.7571 - val_acc: 0.7400 - val_lr: 0.0043\n",
            "\n",
            "Epoch 00025: val_acc did not improve from 0.76000\n",
            "Epoch 26/50\n",
            "6/6 [==============================] - 810s 135s/step - loss: 0.5912 - acc: 0.7911 - lr: 0.0043 - val_loss: 0.7413 - val_acc: 0.7600 - val_lr: 0.0043\n",
            "\n",
            "Epoch 00026: val_acc did not improve from 0.76000\n",
            "Epoch 27/50\n",
            "6/6 [==============================] - 854s 142s/step - loss: 0.5226 - acc: 0.8528 - lr: 0.0043 - val_loss: 0.7363 - val_acc: 0.7600 - val_lr: 0.0043\n",
            "\n",
            "Epoch 00027: val_acc did not improve from 0.76000\n",
            "Epoch 28/50\n",
            "6/6 [==============================] - 901s 150s/step - loss: 0.6570 - acc: 0.7556 - lr: 0.0043 - val_loss: 0.7304 - val_acc: 0.7400 - val_lr: 0.0043\n",
            "\n",
            "Epoch 00028: val_acc did not improve from 0.76000\n",
            "Epoch 29/50\n",
            "6/6 [==============================] - 854s 142s/step - loss: 0.5967 - acc: 0.8408 - lr: 0.0043 - val_loss: 0.6962 - val_acc: 0.7600 - val_lr: 0.0043\n",
            "\n",
            "Epoch 00029: val_acc did not improve from 0.76000\n",
            "Epoch 30/50\n",
            "6/6 [==============================] - 854s 142s/step - loss: 0.6393 - acc: 0.7352 - lr: 0.0043 - val_loss: 0.6884 - val_acc: 0.7600 - val_lr: 0.0043\n",
            "\n",
            "Epoch 00030: val_acc did not improve from 0.76000\n",
            "Epoch 31/50\n",
            "6/6 [==============================] - 900s 150s/step - loss: 0.6217 - acc: 0.8167 - lr: 0.0043 - val_loss: 0.6740 - val_acc: 0.7600 - val_lr: 0.0043\n",
            "\n",
            "Epoch 00031: val_acc did not improve from 0.76000\n",
            "Epoch 32/50\n",
            "6/6 [==============================] - 855s 143s/step - loss: 0.4218 - acc: 0.8696 - lr: 0.0043 - val_loss: 0.7040 - val_acc: 0.7800 - val_lr: 0.0043\n",
            "\n",
            "Epoch 00032: val_acc improved from 0.76000 to 0.78000, saving model to ../models/ResNET_80_20_split_ADAM_LR0.0043decay_weights-improvement-32-0.78.hdf5\n",
            "Epoch 33/50\n",
            "6/6 [==============================] - 857s 143s/step - loss: 0.5719 - acc: 0.8224 - lr: 0.0043 - val_loss: 0.6997 - val_acc: 0.8000 - val_lr: 0.0043\n",
            "\n",
            "Epoch 00033: val_acc improved from 0.78000 to 0.80000, saving model to ../models/ResNET_80_20_split_ADAM_LR0.0043decay_weights-improvement-33-0.80.hdf5\n",
            "Epoch 34/50\n",
            "6/6 [==============================] - 857s 143s/step - loss: 0.6582 - acc: 0.7864 - lr: 0.0043 - val_loss: 0.6825 - val_acc: 0.8000 - val_lr: 0.0043\n",
            "\n",
            "Epoch 00034: val_acc did not improve from 0.80000\n",
            "Epoch 35/50\n",
            "6/6 [==============================] - 855s 143s/step - loss: 0.5363 - acc: 0.8560 - lr: 0.0043 - val_loss: 0.6663 - val_acc: 0.7800 - val_lr: 0.0043\n",
            "\n",
            "Epoch 00035: val_acc did not improve from 0.80000\n",
            "Epoch 36/50\n",
            "6/6 [==============================] - 854s 142s/step - loss: 0.6999 - acc: 0.8008 - lr: 0.0043 - val_loss: 0.6376 - val_acc: 0.7800 - val_lr: 0.0043\n",
            "\n",
            "Epoch 00036: val_acc did not improve from 0.80000\n",
            "Epoch 37/50\n",
            "6/6 [==============================] - 854s 142s/step - loss: 0.4716 - acc: 0.8944 - lr: 0.0043 - val_loss: 0.6468 - val_acc: 0.7800 - val_lr: 0.0043\n",
            "\n",
            "Epoch 00037: val_acc did not improve from 0.80000\n",
            "Epoch 38/50\n",
            "6/6 [==============================] - 901s 150s/step - loss: 0.4648 - acc: 0.8722 - lr: 0.0043 - val_loss: 0.6149 - val_acc: 0.7800 - val_lr: 0.0043\n",
            "\n",
            "Epoch 00038: val_acc did not improve from 0.80000\n",
            "Epoch 39/50\n",
            "6/6 [==============================] - 858s 143s/step - loss: 0.5456 - acc: 0.8081 - lr: 0.0043 - val_loss: 0.5970 - val_acc: 0.7800 - val_lr: 0.0043\n",
            "\n",
            "Epoch 00039: val_acc did not improve from 0.80000\n",
            "Epoch 40/50\n",
            "6/6 [==============================] - 810s 135s/step - loss: 0.5046 - acc: 0.8363 - lr: 0.0043 - val_loss: 0.5610 - val_acc: 0.7800 - val_lr: 0.0043\n",
            "\n",
            "Epoch 00040: val_acc did not improve from 0.80000\n",
            "Epoch 41/50\n",
            "6/6 [==============================] - 902s 150s/step - loss: 0.5123 - acc: 0.8278 - lr: 0.0043 - val_loss: 0.5534 - val_acc: 0.7800 - val_lr: 0.0043\n",
            "\n",
            "Epoch 00041: val_acc did not improve from 0.80000\n",
            "Epoch 42/50\n",
            "6/6 [==============================] - 855s 143s/step - loss: 0.5503 - acc: 0.8168 - lr: 0.0043 - val_loss: 0.5568 - val_acc: 0.8000 - val_lr: 0.0043\n",
            "\n",
            "Epoch 00042: val_acc improved from 0.80000 to 0.80000, saving model to ../models/ResNET_80_20_split_ADAM_LR0.0043decay_weights-improvement-42-0.80.hdf5\n",
            "Epoch 43/50\n",
            "6/6 [==============================] - 856s 143s/step - loss: 0.4786 - acc: 0.8368 - lr: 0.0043 - val_loss: 0.5686 - val_acc: 0.8000 - val_lr: 0.0043\n",
            "\n",
            "Epoch 00043: val_acc did not improve from 0.80000\n",
            "Epoch 44/50\n",
            "6/6 [==============================] - 856s 143s/step - loss: 0.4173 - acc: 0.8616 - lr: 0.0043 - val_loss: 0.5691 - val_acc: 0.8000 - val_lr: 0.0043\n",
            "\n",
            "Epoch 00044: val_acc did not improve from 0.80000\n",
            "Epoch 45/50\n",
            "6/6 [==============================] - 857s 143s/step - loss: 0.5886 - acc: 0.7728 - lr: 0.0043 - val_loss: 0.5453 - val_acc: 0.8000 - val_lr: 0.0043\n",
            "\n",
            "Epoch 00045: val_acc did not improve from 0.80000\n",
            "Epoch 46/50\n",
            "6/6 [==============================] - 916s 153s/step - loss: 0.4896 - acc: 0.8389 - lr: 0.0043 - val_loss: 0.5326 - val_acc: 0.8000 - val_lr: 0.0043\n",
            "\n",
            "Epoch 00046: val_acc did not improve from 0.80000\n",
            "Epoch 47/50\n",
            "6/6 [==============================] - 810s 135s/step - loss: 0.4401 - acc: 0.8896 - lr: 0.0043 - val_loss: 0.5259 - val_acc: 0.8000 - val_lr: 0.0043\n",
            "\n",
            "Epoch 00047: val_acc did not improve from 0.80000\n",
            "Epoch 48/50\n",
            "6/6 [==============================] - 902s 150s/step - loss: 0.4782 - acc: 0.8389 - lr: 0.0043 - val_loss: 0.5214 - val_acc: 0.8000 - val_lr: 0.0043\n",
            "\n",
            "Epoch 00048: val_acc did not improve from 0.80000\n",
            "Epoch 49/50\n",
            "6/6 [==============================] - 857s 143s/step - loss: 0.4599 - acc: 0.8528 - lr: 0.0043 - val_loss: 0.5169 - val_acc: 0.8000 - val_lr: 0.0043\n",
            "\n",
            "Epoch 00049: val_acc did not improve from 0.80000\n",
            "Epoch 50/50\n",
            "6/6 [==============================] - 903s 150s/step - loss: 0.4657 - acc: 0.8556 - lr: 0.0043 - val_loss: 0.5161 - val_acc: 0.8000 - val_lr: 0.0043\n",
            "\n",
            "Epoch 00050: val_acc did not improve from 0.80000\n"
          ],
          "name": "stdout"
        }
      ]
    },
    {
      "cell_type": "code",
      "metadata": {
        "id": "LOq87rO2rh8_",
        "colab_type": "code",
        "colab": {},
        "outputId": "24419bd6-8627-4718-c275-d5a6f24d223c"
      },
      "source": [
        "sns.set_color_codes(\"pastel\")\n",
        "sns.set_style(\"white\")\n",
        "#sns.lineplot(x='loss', data = )\n",
        "plt.plot(history.history['lr'], label = \"Learning Rate\")\n",
        "plt.legend()\n",
        "plt.show()"
      ],
      "execution_count": 0,
      "outputs": [
        {
          "output_type": "display_data",
          "data": {
            "image/png": "[encoded data removed]",
            "text/plain": [
              "<matplotlib.figure.Figure at 0x1f96d2cf828>"
            ]
          },
          "metadata": {
            "tags": []
          }
        }
      ]
    },
    {
      "cell_type": "markdown",
      "metadata": {
        "id": "S52FjWy1rh9B",
        "colab_type": "text"
      },
      "source": [
        "## RESNET with SGD & Cosine Decay"
      ]
    },
    {
      "cell_type": "code",
      "metadata": {
        "id": "PmyKZhZkrh9B",
        "colab_type": "code",
        "colab": {}
      },
      "source": [
        "with open ('../input/X_gray', 'rb') as f3:\n",
        "    X = pickle.load(f3)\n",
        "with open ('../input/y_gray', 'rb') as f4:\n",
        "    y = pickle.load(f4)"
      ],
      "execution_count": 0,
      "outputs": []
    },
    {
      "cell_type": "code",
      "metadata": {
        "id": "qLm1Sgn6rh9D",
        "colab_type": "code",
        "colab": {},
        "outputId": "a45e4891-1355-4acd-ea6c-eef9ca74e3a2"
      },
      "source": [
        "X_train, X_test, y_train, y_test = train_test_split(X,y,test_size = 0.20,stratify=y, random_state =42)\n",
        "print(\"<3 Shape of My Heart <3 : \")\n",
        "print(\"=========================\")\n",
        "print(\"Training:\", X_train.shape)\n",
        "print(\"Testing:\", X_test.shape)\n",
        "\n",
        "print(y_train.shape)\n",
        "train_top20 = pd.DataFrame(y_train.value_counts())\n",
        "train_top20.reset_index(inplace=True)\n",
        "train_top20.columns = ['ID','Counts']\n",
        "\n",
        "\n",
        "test_top20 = pd.DataFrame(y_test.value_counts())\n",
        "test_top20.reset_index(inplace=True)\n",
        "test_top20.columns = ['ID','Counts']\n",
        "\n",
        "f,(ax1,ax3) = plt.subplots(2,1,sharex=True)\n",
        "\n",
        "fig1 = sns.barplot(x=\"ID\", y=\"Counts\", data=train_top20, ax=ax1)\n",
        "fig1.set_ylabel('Train')\n",
        "fig1.set_xlabel('')\n",
        "\n",
        "\n",
        "fig3 = sns.barplot(x=\"ID\", y=\"Counts\", data=test_top20, ax=ax3)\n",
        "fig3.set_ylabel('Test')\n",
        "fig3.set_xlabel('')\n",
        "f=plt.xticks(rotation=45)\n",
        "suptitle(\"Categorical Distrbution of Images\", fontsize=16)\n",
        "\n",
        "#f.savefig('../figures/train_test_Dist.png')\n",
        "\n",
        "#X_train, X_val, y_train, y_val = train_test_split(X_train, y_train, test_size=0.15,stratify=y_train)\n",
        "height = 224\n",
        "width = 224\n",
        "channels =1\n",
        "X_train = X_train.reshape(-1,height,width,channels) # dimension (60000) is inferred by setting the first element to -1\n",
        "X_test = X_test.reshape(-1,height,width,channels)\n",
        "#X_val = X_val.reshape(-1,height,width,channels)\n",
        "y_train = LabelEncoder().fit_transform(y_train)\n",
        "#y_train = OneHotEncoder().fit_transform(y_train.reshape(-1,1))\n",
        "#y_val = LabelEncoder().fit_transform(y_val)\n",
        "#y_val = OneHotEncoder().fit_transform(y_val.reshape(-1,1))\n",
        "y_test = LabelEncoder().fit_transform(y_test)\n",
        "#y_test = OneHotEncoder().fit_transform(y_test.reshape(-1,1))\n",
        "print(y_train.shape)\n",
        "#print(y_val.shape)\n",
        "print(y_test.shape)\n",
        "classNum = 11#len(np.unique(y_train)) # number of unique labels is counted to determine the # of classes\n",
        "y_train = to_categorical(y_train, num_classes = classNum)\n",
        "y_test = to_categorical(y_test, num_classes = classNum)\n",
        "#y_val = to_categorical(y_val, num_classes = classNum)"
      ],
      "execution_count": 0,
      "outputs": [
        {
          "output_type": "stream",
          "text": [
            "<3 Shape of My Heart <3 : \n",
            "=========================\n",
            "Training: (200, 224, 224, 1)\n",
            "Testing: (50, 224, 224, 1)\n",
            "(200,)\n",
            "(200,)\n",
            "(50,)\n"
          ],
          "name": "stdout"
        },
        {
          "output_type": "display_data",
          "data": {
            "image/png": "[encoded data removed]",
            "text/plain": [
              "<matplotlib.figure.Figure at 0x1f7b9e43b00>"
            ]
          },
          "metadata": {
            "tags": []
          }
        }
      ]
    },
    {
      "cell_type": "code",
      "metadata": {
        "id": "jyntjorCrh9E",
        "colab_type": "code",
        "colab": {}
      },
      "source": [
        "datagen = ImageDataGenerator(\n",
        "        rotation_range=20,  # randomly rotate images in the range (degrees, 0 to 180)\n",
        "        zoom_range = 0.2, # Randomly zoom image \n",
        "        width_shift_range=0.2,  # randomly shift images horizontally (fraction of total width)\n",
        "        height_shift_range=0.2,  # randomly shift images vertically (fraction of total height)\n",
        "        horizontal_flip=True,  # randomly flip images horizontally only!\n",
        "        vertical_flip=False,  #  do not randomly flip images vertically!\n",
        "        fill_mode='nearest',\n",
        "        zca_whitening = False) # A whitening transform of an image is a linear algebra operation that reduces the redundancy in the matrix of pixel images. Less redundancy in the image is intended to better highlight the structures and features in the image to the learning algorithm.\n",
        "\n",
        "\n",
        "datagen.fit(X_train, augment=True)\n",
        "# configure batch size and retrieve one batch of images\n",
        "#os.makedirs('augmentedImages')\n",
        "#for X_batch, y_batch in datagen.flow(X_train, y_train, batch_size=9, save_to_dir='../augmentedImages', save_prefix='aug', save_format='png'):"
      ],
      "execution_count": 0,
      "outputs": []
    },
    {
      "cell_type": "markdown",
      "metadata": {
        "id": "rKYRNzjcrh9G",
        "colab_type": "text"
      },
      "source": [
        "Cosine Annealer"
      ]
    },
    {
      "cell_type": "code",
      "metadata": {
        "id": "CIqWmYcBrh9G",
        "colab_type": "code",
        "colab": {}
      },
      "source": [
        "from keras.callbacks import Callback\n",
        "import keras.backend as K\n",
        "import numpy as np\n",
        "\n",
        "class SGDRScheduler(Callback):\n",
        "    '''Cosine annealing learning rate scheduler with periodic restarts.\n",
        "    # Usage\n",
        "        ```python\n",
        "            schedule = SGDRScheduler(min_lr=1e-5,\n",
        "                                     max_lr=1e-2,\n",
        "                                     steps_per_epoch=np.ceil(epoch_size/batch_size),\n",
        "                                     lr_decay=0.9,\n",
        "                                     cycle_length=5,\n",
        "                                     mult_factor=1.5)\n",
        "            model.fit(X_train, Y_train, epochs=100, callbacks=[schedule])\n",
        "        ```\n",
        "    # Arguments\n",
        "        min_lr: The lower bound of the learning rate range for the experiment.\n",
        "        max_lr: The upper bound of the learning rate range for the experiment.\n",
        "        steps_per_epoch: Number of mini-batches in the dataset. Calculated as `np.ceil(epoch_size/batch_size)`. \n",
        "        lr_decay: Reduce the max_lr after the completion of each cycle.\n",
        "                  Ex. To reduce the max_lr by 20% after each cycle, set this value to 0.8.\n",
        "        cycle_length: Initial number of epochs in a cycle.\n",
        "        mult_factor: Scale epochs_to_restart after each full cycle completion.\n",
        "    # References        \n",
        "    Blog post: jeremyjordan.me/nn-learning-rate\n",
        "        Original paper: http://arxiv.org/abs/1608.03983\n",
        "    '''\n",
        "    def __init__(self,\n",
        "                 min_lr,\n",
        "                 max_lr,\n",
        "                 steps_per_epoch,\n",
        "                 lr_decay=1,\n",
        "                 cycle_length=10,\n",
        "                 mult_factor=2):\n",
        "\n",
        "        self.min_lr = min_lr\n",
        "        self.max_lr = max_lr\n",
        "        self.lr_decay = lr_decay\n",
        "        self.batch_since_restart = 0\n",
        "        self.next_restart = cycle_length\n",
        "        self.steps_per_epoch = steps_per_epoch\n",
        "        self.cycle_length = cycle_length\n",
        "        self.mult_factor = mult_factor\n",
        "        self.history = {}\n",
        "        \n",
        "    def clr(self):\n",
        "        '''Calculate the learning rate.'''\n",
        "        fraction_to_restart = self.batch_since_restart / (self.steps_per_epoch * self.cycle_length)\n",
        "        lr = self.min_lr + 0.5 * (self.max_lr - self.min_lr) * (1 + np.cos(fraction_to_restart * np.pi))\n",
        "        return lr\n",
        "\n",
        "    def on_train_begin(self, logs={}):\n",
        "        '''Initialize the learning rate to the minimum value at the start of training.'''\n",
        "        logs = logs or {}\n",
        "        K.set_value(self.model.optimizer.lr, self.max_lr)\n",
        "\n",
        "    def on_batch_end(self, batch, logs={}):\n",
        "        '''Record previous batch statistics and update the learning rate.'''\n",
        "        logs = logs or {}\n",
        "        self.history.setdefault('lr', []).append(K.get_value(self.model.optimizer.lr))\n",
        "        for k, v in logs.items():\n",
        "            self.history.setdefault(k, []).append(v)\n",
        "        self.batch_since_restart += 1\n",
        "        K.set_value(self.model.optimizer.lr, self.clr())\n",
        "\n",
        "    def on_epoch_end(self, epoch, logs={}):\n",
        "        '''Check for end of current cycle, apply restarts when necessary.'''\n",
        "        if epoch + 1 == self.next_restart:\n",
        "            self.batch_since_restart = 0\n",
        "            self.cycle_length = np.ceil(self.cycle_length * self.mult_factor)\n",
        "            self.next_restart += self.cycle_length\n",
        "            self.max_lr *= self.lr_decay\n",
        "            self.best_weights = self.model.get_weights()\n",
        "    def on_train_end(self, logs={}):\n",
        "        '''Set weights to the values from the end of the most recent cycle for best performance.'''\n",
        "        self.model.set_weights(self.best_weights)        "
      ],
      "execution_count": 0,
      "outputs": []
    },
    {
      "cell_type": "code",
      "metadata": {
        "id": "uRMLw0V-rh9H",
        "colab_type": "code",
        "colab": {},
        "outputId": "b336261d-a89e-42f2-ff06-97977fd5667c"
      },
      "source": [
        "inputShape = (224,224,1)\n",
        "model = load_model('../models/ResNET50_80_20_split.h5')\n",
        "model.load_weights('../models/ResNET50_80_20_50batchSize_weights.h5')\n",
        "model.compile(loss=keras.losses.categorical_crossentropy,\n",
        "              optimizer=keras.optimizers.SGD(lr=0.01, momentum=0.9, decay=5e-4, nesterov=True), #instead of annealer decay = DR can be set, too\n",
        "              metrics=['accuracy'])\n",
        "\n",
        "# Fit the model\n",
        "Epochs = 70 # \n",
        "batchSize = 50 # number of randomly taken samples from features and labels to feed into each epoch \n",
        "                # until an epoch limit is reached.\n",
        "# cosine annealer reference: https://arxiv.org/abs/1608.03983\n",
        "#annealer = LearningRateScheduler(lambda x: 1e-3 * 0.9 ** x)\n",
        "schedule = SGDRScheduler(min_lr=1e-4,\n",
        "                        max_lr=1e-2,\n",
        "                        steps_per_epoch = X_train.shape[0] // batchSize,#np.ceil(epoch_size/batch_size),\n",
        "                        lr_decay=0.9,\n",
        "                        cycle_length=5,\n",
        "                        mult_factor=1.5)\n",
        "# checkpoint\n",
        "filepath=\"../models/ResNET_SGD_LR0.01_weights-improvement-{epoch:02d}-{val_acc:.2f}.hdf5\"\n",
        "checkpoint = ModelCheckpoint(filepath, monitor='val_acc', verbose=1, save_best_only=True, mode='max')\n",
        "\n",
        "history = model.fit_generator(datagen.flow(X_train,y_train, batch_size=batchSize),\n",
        "                              epochs = Epochs, validation_data = (X_test,y_test),\n",
        "                              verbose = 1, steps_per_epoch=X_train.shape[0] // batchSize\n",
        "                              , callbacks=[schedule, checkpoint])\n",
        "              "
      ],
      "execution_count": 0,
      "outputs": [
        {
          "output_type": "stream",
          "text": [
            "WARNING:tensorflow:Variable *= will be deprecated. Use variable.assign_mul if you want assignment to the variable value or 'x = x * y' if you want a new python Tensor object.\n",
            "Epoch 1/70\n",
            "4/4 [==============================] - 1037s 259s/step - loss: 0.1169 - acc: 0.9800 - val_loss: 4.0105 - val_acc: 0.4400\n",
            "\n",
            "Epoch 00001: val_acc improved from -inf to 0.44000, saving model to ../models/ResNET_SGD_LR0.01_weights-improvement-01-0.44.hdf5\n",
            "Epoch 2/70\n",
            "4/4 [==============================] - 1032s 258s/step - loss: 0.1733 - acc: 0.9550 - val_loss: 0.6830 - val_acc: 0.8200\n",
            "\n",
            "Epoch 00002: val_acc improved from 0.44000 to 0.82000, saving model to ../models/ResNET_SGD_LR0.01_weights-improvement-02-0.82.hdf5\n",
            "Epoch 3/70\n",
            "4/4 [==============================] - 1031s 258s/step - loss: 0.1748 - acc: 0.9500 - val_loss: 2.0704 - val_acc: 0.5400\n",
            "\n",
            "Epoch 00003: val_acc did not improve from 0.82000\n",
            "Epoch 4/70\n",
            "4/4 [==============================] - 1032s 258s/step - loss: 0.1540 - acc: 0.9400 - val_loss: 1.0904 - val_acc: 0.7600\n",
            "\n",
            "Epoch 00004: val_acc did not improve from 0.82000\n",
            "Epoch 5/70\n",
            "4/4 [==============================] - 1061s 265s/step - loss: 0.1273 - acc: 0.9700 - val_loss: 0.7085 - val_acc: 0.8600\n",
            "\n",
            "Epoch 00005: val_acc improved from 0.82000 to 0.86000, saving model to ../models/ResNET_SGD_LR0.01_weights-improvement-05-0.86.hdf5\n",
            "Epoch 6/70\n",
            "4/4 [==============================] - 1013s 253s/step - loss: 0.1473 - acc: 0.9550 - val_loss: 1.7393 - val_acc: 0.6000\n",
            "\n",
            "Epoch 00006: val_acc did not improve from 0.86000\n",
            "Epoch 7/70\n",
            "4/4 [==============================] - 969s 242s/step - loss: 0.1606 - acc: 0.9400 - val_loss: 1.3265 - val_acc: 0.7400\n",
            "\n",
            "Epoch 00007: val_acc did not improve from 0.86000\n",
            "Epoch 8/70\n",
            "4/4 [==============================] - 972s 243s/step - loss: 0.2026 - acc: 0.9300 - val_loss: 1.6385 - val_acc: 0.6400\n",
            "\n",
            "Epoch 00008: val_acc did not improve from 0.86000\n",
            "Epoch 9/70\n",
            "4/4 [==============================] - 971s 243s/step - loss: 0.1769 - acc: 0.9350 - val_loss: 10.3612 - val_acc: 0.1400\n",
            "\n",
            "Epoch 00009: val_acc did not improve from 0.86000\n",
            "Epoch 10/70\n",
            "4/4 [==============================] - 970s 243s/step - loss: 0.1708 - acc: 0.9450 - val_loss: 9.6430 - val_acc: 0.2200\n",
            "\n",
            "Epoch 00010: val_acc did not improve from 0.86000\n",
            "Epoch 11/70\n",
            "4/4 [==============================] - 971s 243s/step - loss: 0.1312 - acc: 0.9500 - val_loss: 7.7640 - val_acc: 0.2600\n",
            "\n",
            "Epoch 00011: val_acc did not improve from 0.86000\n",
            "Epoch 12/70\n",
            "4/4 [==============================] - 971s 243s/step - loss: 0.1392 - acc: 0.9600 - val_loss: 6.2603 - val_acc: 0.3600\n",
            "\n",
            "Epoch 00012: val_acc did not improve from 0.86000\n",
            "Epoch 13/70\n",
            "4/4 [==============================] - 970s 243s/step - loss: 0.1530 - acc: 0.9250 - val_loss: 4.2476 - val_acc: 0.4200\n",
            "\n",
            "Epoch 00013: val_acc did not improve from 0.86000\n",
            "Epoch 14/70\n",
            "4/4 [==============================] - 970s 243s/step - loss: 0.1353 - acc: 0.9650 - val_loss: 0.9723 - val_acc: 0.6800\n",
            "\n",
            "Epoch 00014: val_acc did not improve from 0.86000\n",
            "Epoch 15/70\n",
            "4/4 [==============================] - 971s 243s/step - loss: 0.1690 - acc: 0.9500 - val_loss: 2.7206 - val_acc: 0.5000\n",
            "\n",
            "Epoch 00015: val_acc did not improve from 0.86000\n",
            "Epoch 16/70\n",
            "4/4 [==============================] - 972s 243s/step - loss: 0.1610 - acc: 0.9450 - val_loss: 1.4821 - val_acc: 0.6000\n",
            "\n",
            "Epoch 00016: val_acc did not improve from 0.86000\n",
            "Epoch 17/70\n",
            "4/4 [==============================] - 992s 248s/step - loss: 0.2273 - acc: 0.9450 - val_loss: 1.4233 - val_acc: 0.5800\n",
            "\n",
            "Epoch 00017: val_acc did not improve from 0.86000\n",
            "Epoch 18/70\n",
            "4/4 [==============================] - 1037s 259s/step - loss: 0.1470 - acc: 0.9450 - val_loss: 2.1682 - val_acc: 0.4800\n",
            "\n",
            "Epoch 00018: val_acc did not improve from 0.86000\n",
            "Epoch 19/70\n",
            "4/4 [==============================] - 978s 244s/step - loss: 0.1193 - acc: 0.9700 - val_loss: 1.1270 - val_acc: 0.6400\n",
            "\n",
            "Epoch 00019: val_acc did not improve from 0.86000\n",
            "Epoch 20/70\n",
            "4/4 [==============================] - 970s 242s/step - loss: 0.1100 - acc: 0.9850 - val_loss: 1.0667 - val_acc: 0.6200\n",
            "\n",
            "Epoch 00020: val_acc did not improve from 0.86000\n",
            "Epoch 21/70\n",
            "4/4 [==============================] - 969s 242s/step - loss: 0.1192 - acc: 0.9600 - val_loss: 1.0261 - val_acc: 0.6600\n",
            "\n",
            "Epoch 00021: val_acc did not improve from 0.86000\n",
            "Epoch 22/70\n",
            "4/4 [==============================] - 969s 242s/step - loss: 0.1219 - acc: 0.9600 - val_loss: 0.8263 - val_acc: 0.7200\n",
            "\n",
            "Epoch 00022: val_acc did not improve from 0.86000\n",
            "Epoch 23/70\n",
            "4/4 [==============================] - 969s 242s/step - loss: 0.1362 - acc: 0.9550 - val_loss: 0.7815 - val_acc: 0.7000\n",
            "\n",
            "Epoch 00023: val_acc did not improve from 0.86000\n",
            "Epoch 24/70\n",
            "4/4 [==============================] - 968s 242s/step - loss: 0.0880 - acc: 0.9800 - val_loss: 0.7857 - val_acc: 0.7200\n",
            "\n",
            "Epoch 00024: val_acc did not improve from 0.86000\n",
            "Epoch 25/70\n",
            "4/4 [==============================] - 973s 243s/step - loss: 0.1245 - acc: 0.9500 - val_loss: 0.8684 - val_acc: 0.7800\n",
            "\n",
            "Epoch 00025: val_acc did not improve from 0.86000\n",
            "Epoch 26/70\n",
            "4/4 [==============================] - 1049s 262s/step - loss: 0.0974 - acc: 0.9700 - val_loss: 0.9558 - val_acc: 0.7000\n",
            "\n",
            "Epoch 00026: val_acc did not improve from 0.86000\n",
            "Epoch 27/70\n",
            "4/4 [==============================] - 1036s 259s/step - loss: 0.1509 - acc: 0.9400 - val_loss: 0.5595 - val_acc: 0.8400\n",
            "\n",
            "Epoch 00027: val_acc did not improve from 0.86000\n",
            "Epoch 28/70\n",
            "4/4 [==============================] - 1029s 257s/step - loss: 0.1265 - acc: 0.9700 - val_loss: 1.1365 - val_acc: 0.7400\n",
            "\n",
            "Epoch 00028: val_acc did not improve from 0.86000\n",
            "Epoch 29/70\n",
            "4/4 [==============================] - 1055s 264s/step - loss: 0.1213 - acc: 0.9750 - val_loss: 1.0527 - val_acc: 0.7400\n",
            "\n",
            "Epoch 00029: val_acc did not improve from 0.86000\n",
            "Epoch 30/70\n",
            "4/4 [==============================] - 1077s 269s/step - loss: 0.1368 - acc: 0.9550 - val_loss: 0.5487 - val_acc: 0.7400\n",
            "\n",
            "Epoch 00030: val_acc did not improve from 0.86000\n",
            "Epoch 31/70\n",
            "4/4 [==============================] - 1084s 271s/step - loss: 0.1158 - acc: 0.9600 - val_loss: 0.6672 - val_acc: 0.8600\n",
            "\n",
            "Epoch 00031: val_acc did not improve from 0.86000\n",
            "Epoch 32/70\n",
            "4/4 [==============================] - 1081s 270s/step - loss: 0.1198 - acc: 0.9600 - val_loss: 0.7711 - val_acc: 0.8400\n",
            "\n",
            "Epoch 00032: val_acc did not improve from 0.86000\n",
            "Epoch 33/70\n",
            "4/4 [==============================] - 1032s 258s/step - loss: 0.1384 - acc: 0.9550 - val_loss: 0.5336 - val_acc: 0.7800\n",
            "\n",
            "Epoch 00033: val_acc did not improve from 0.86000\n",
            "Epoch 34/70\n",
            "4/4 [==============================] - 1032s 258s/step - loss: 0.1097 - acc: 0.9600 - val_loss: 0.5833 - val_acc: 0.8400\n",
            "\n",
            "Epoch 00034: val_acc did not improve from 0.86000\n",
            "Epoch 35/70\n",
            "4/4 [==============================] - 1040s 260s/step - loss: 0.1118 - acc: 0.9600 - val_loss: 0.5933 - val_acc: 0.8400\n",
            "\n",
            "Epoch 00035: val_acc did not improve from 0.86000\n",
            "Epoch 36/70\n",
            "4/4 [==============================] - 989s 247s/step - loss: 0.1106 - acc: 0.9650 - val_loss: 0.5463 - val_acc: 0.8600\n",
            "\n",
            "Epoch 00036: val_acc did not improve from 0.86000\n",
            "Epoch 37/70\n",
            "4/4 [==============================] - 980s 245s/step - loss: 0.1034 - acc: 0.9450 - val_loss: 0.4485 - val_acc: 0.8400\n",
            "\n",
            "Epoch 00037: val_acc did not improve from 0.86000\n",
            "Epoch 38/70\n",
            "4/4 [==============================] - 1030s 257s/step - loss: 0.1014 - acc: 0.9650 - val_loss: 0.4464 - val_acc: 0.8600\n",
            "\n",
            "Epoch 00038: val_acc did not improve from 0.86000\n",
            "Epoch 39/70\n",
            "4/4 [==============================] - 1031s 258s/step - loss: 0.1229 - acc: 0.9650 - val_loss: 0.6780 - val_acc: 0.7800\n",
            "\n",
            "Epoch 00039: val_acc did not improve from 0.86000\n",
            "Epoch 40/70\n",
            "4/4 [==============================] - 1030s 258s/step - loss: 0.1214 - acc: 0.9550 - val_loss: 0.9857 - val_acc: 0.7800\n",
            "\n",
            "Epoch 00040: val_acc did not improve from 0.86000\n",
            "Epoch 41/70\n",
            "4/4 [==============================] - 1030s 258s/step - loss: 0.1000 - acc: 0.9750 - val_loss: 1.1647 - val_acc: 0.7600\n",
            "\n",
            "Epoch 00041: val_acc did not improve from 0.86000\n",
            "Epoch 42/70\n",
            "4/4 [==============================] - 1030s 258s/step - loss: 0.1154 - acc: 0.9700 - val_loss: 1.3267 - val_acc: 0.7200\n",
            "\n",
            "Epoch 00042: val_acc did not improve from 0.86000\n",
            "Epoch 43/70\n",
            "4/4 [==============================] - 1034s 258s/step - loss: 0.1182 - acc: 0.9550 - val_loss: 1.4108 - val_acc: 0.7000\n",
            "\n",
            "Epoch 00043: val_acc did not improve from 0.86000\n",
            "Epoch 44/70\n",
            "4/4 [==============================] - 1030s 258s/step - loss: 0.1158 - acc: 0.9600 - val_loss: 1.6952 - val_acc: 0.6200\n",
            "\n",
            "Epoch 00044: val_acc did not improve from 0.86000\n",
            "Epoch 45/70\n",
            "4/4 [==============================] - 1034s 258s/step - loss: 0.1035 - acc: 0.9700 - val_loss: 0.5077 - val_acc: 0.8800\n",
            "\n",
            "Epoch 00045: val_acc improved from 0.86000 to 0.88000, saving model to ../models/ResNET_SGD_LR0.01_weights-improvement-45-0.88.hdf5\n",
            "Epoch 46/70\n",
            "4/4 [==============================] - 1035s 259s/step - loss: 0.0721 - acc: 0.9850 - val_loss: 0.3749 - val_acc: 0.9000\n",
            "\n",
            "Epoch 00046: val_acc improved from 0.88000 to 0.90000, saving model to ../models/ResNET_SGD_LR0.01_weights-improvement-46-0.90.hdf5\n",
            "Epoch 47/70\n",
            "4/4 [==============================] - 1035s 259s/step - loss: 0.0967 - acc: 0.9700 - val_loss: 0.8844 - val_acc: 0.7800\n",
            "\n",
            "Epoch 00047: val_acc did not improve from 0.90000\n",
            "Epoch 48/70\n",
            "4/4 [==============================] - 1034s 259s/step - loss: 0.1379 - acc: 0.9600 - val_loss: 0.9420 - val_acc: 0.7600\n",
            "\n",
            "Epoch 00048: val_acc did not improve from 0.90000\n",
            "Epoch 49/70\n",
            "4/4 [==============================] - 1034s 258s/step - loss: 0.1051 - acc: 0.9600 - val_loss: 0.5728 - val_acc: 0.8000\n",
            "\n",
            "Epoch 00049: val_acc did not improve from 0.90000\n",
            "Epoch 50/70\n",
            "4/4 [==============================] - 1030s 257s/step - loss: 0.1109 - acc: 0.9700 - val_loss: 0.6081 - val_acc: 0.8000\n",
            "\n",
            "Epoch 00050: val_acc did not improve from 0.90000\n",
            "Epoch 51/70\n",
            "4/4 [==============================] - 1034s 258s/step - loss: 0.1486 - acc: 0.9400 - val_loss: 0.6867 - val_acc: 0.7800\n",
            "\n",
            "Epoch 00051: val_acc did not improve from 0.90000\n",
            "Epoch 52/70\n",
            "4/4 [==============================] - 1035s 259s/step - loss: 0.0913 - acc: 0.9700 - val_loss: 0.9916 - val_acc: 0.7400\n",
            "\n",
            "Epoch 00052: val_acc did not improve from 0.90000\n",
            "Epoch 53/70\n",
            "4/4 [==============================] - 1030s 257s/step - loss: 0.0983 - acc: 0.9800 - val_loss: 1.2078 - val_acc: 0.7000\n",
            "\n",
            "Epoch 00053: val_acc did not improve from 0.90000\n",
            "Epoch 54/70\n",
            "4/4 [==============================] - 1036s 259s/step - loss: 0.0886 - acc: 0.9800 - val_loss: 0.9896 - val_acc: 0.7800\n",
            "\n",
            "Epoch 00054: val_acc did not improve from 0.90000\n",
            "Epoch 55/70\n",
            "4/4 [==============================] - 978s 245s/step - loss: 0.0837 - acc: 0.9700 - val_loss: 1.0724 - val_acc: 0.7400\n",
            "\n",
            "Epoch 00055: val_acc did not improve from 0.90000\n",
            "Epoch 56/70\n",
            "4/4 [==============================] - 972s 243s/step - loss: 0.0677 - acc: 0.9850 - val_loss: 0.7929 - val_acc: 0.8600\n",
            "\n",
            "Epoch 00056: val_acc did not improve from 0.90000\n",
            "Epoch 57/70\n",
            "4/4 [==============================] - 971s 243s/step - loss: 0.1137 - acc: 0.9650 - val_loss: 0.4234 - val_acc: 0.9000\n",
            "\n",
            "Epoch 00057: val_acc did not improve from 0.90000\n",
            "Epoch 58/70\n",
            "4/4 [==============================] - 970s 243s/step - loss: 0.0939 - acc: 0.9750 - val_loss: 0.3851 - val_acc: 0.9000\n",
            "\n",
            "Epoch 00058: val_acc did not improve from 0.90000\n",
            "Epoch 59/70\n",
            "4/4 [==============================] - 972s 243s/step - loss: 0.0948 - acc: 0.9700 - val_loss: 0.4137 - val_acc: 0.9000\n",
            "\n",
            "Epoch 00059: val_acc did not improve from 0.90000\n",
            "Epoch 60/70\n",
            "4/4 [==============================] - 971s 243s/step - loss: 0.1033 - acc: 0.9600 - val_loss: 0.9509 - val_acc: 0.7800\n",
            "\n",
            "Epoch 00060: val_acc did not improve from 0.90000\n",
            "Epoch 61/70\n",
            "4/4 [==============================] - 970s 242s/step - loss: 0.1161 - acc: 0.9550 - val_loss: 0.6861 - val_acc: 0.8200\n",
            "\n",
            "Epoch 00061: val_acc did not improve from 0.90000\n",
            "Epoch 62/70\n",
            "4/4 [==============================] - 971s 243s/step - loss: 0.1199 - acc: 0.9600 - val_loss: 0.4329 - val_acc: 0.8200\n",
            "\n",
            "Epoch 00062: val_acc did not improve from 0.90000\n",
            "Epoch 63/70\n",
            "4/4 [==============================] - 971s 243s/step - loss: 0.0841 - acc: 0.9750 - val_loss: 0.9252 - val_acc: 0.7600\n",
            "\n",
            "Epoch 00063: val_acc did not improve from 0.90000\n",
            "Epoch 64/70\n",
            "4/4 [==============================] - 970s 242s/step - loss: 0.0798 - acc: 0.9750 - val_loss: 1.3484 - val_acc: 0.6800\n",
            "\n",
            "Epoch 00064: val_acc did not improve from 0.90000\n",
            "Epoch 65/70\n",
            "4/4 [==============================] - 971s 243s/step - loss: 0.0841 - acc: 0.9750 - val_loss: 1.5688 - val_acc: 0.6400\n",
            "\n",
            "Epoch 00065: val_acc did not improve from 0.90000\n",
            "Epoch 66/70\n",
            "4/4 [==============================] - 970s 242s/step - loss: 0.0977 - acc: 0.9700 - val_loss: 1.6213 - val_acc: 0.6400\n",
            "\n",
            "Epoch 00066: val_acc did not improve from 0.90000\n",
            "Epoch 67/70\n",
            "4/4 [==============================] - 1015s 254s/step - loss: 0.0883 - acc: 0.9850 - val_loss: 1.4698 - val_acc: 0.6400\n",
            "\n",
            "Epoch 00067: val_acc did not improve from 0.90000\n",
            "Epoch 68/70\n",
            "4/4 [==============================] - 974s 244s/step - loss: 0.0842 - acc: 0.9850 - val_loss: 1.2629 - val_acc: 0.6800\n",
            "\n",
            "Epoch 00068: val_acc did not improve from 0.90000\n",
            "Epoch 69/70\n",
            "4/4 [==============================] - 972s 243s/step - loss: 0.0852 - acc: 0.9700 - val_loss: 1.0569 - val_acc: 0.7800\n",
            "\n",
            "Epoch 00069: val_acc did not improve from 0.90000\n",
            "Epoch 70/70\n",
            "4/4 [==============================] - 972s 243s/step - loss: 0.0912 - acc: 0.9700 - val_loss: 0.9145 - val_acc: 0.7800\n",
            "\n",
            "Epoch 00070: val_acc did not improve from 0.90000\n"
          ],
          "name": "stdout"
        }
      ]
    },
    {
      "cell_type": "code",
      "metadata": {
        "id": "RPf9EiQQrh9K",
        "colab_type": "code",
        "colab": {}
      },
      "source": [
        "model.save('../models/ResNET50_SGD_LR001.h5')  # creates a HDF5 file 'my_model.h5'\n",
        "# save weights\n",
        "model.save_weights('../models/ResNET50_SGD_LR001_weights.h5')\n"
      ],
      "execution_count": 0,
      "outputs": []
    },
    {
      "cell_type": "code",
      "metadata": {
        "id": "aoiEIyYrrh9L",
        "colab_type": "code",
        "colab": {},
        "outputId": "f61426d4-ef5b-4a15-a10f-6e5490a8919d"
      },
      "source": [
        "valLoss, valAcc = model.evaluate(X_test, y_test, verbose=0)\n",
        "trainLoss, trainAcc = model.evaluate(X_train, y_train, verbose=0)\n",
        "print(\"Validation Loss: {0:.6f}, Validation Accuracy: {1:.6f}\".format(valLoss, valAcc))\n",
        "print(\"Train Loss: {0:.6f}, Train Accuracy: {1:.6f}\".format(trainLoss, trainAcc))"
      ],
      "execution_count": 0,
      "outputs": [
        {
          "output_type": "stream",
          "text": [
            "Validation Loss: 0.914548, Validation Accuracy: 0.780000\n",
            "Train Loss: 0.364087, Train Accuracy: 0.880000\n"
          ],
          "name": "stdout"
        }
      ]
    },
    {
      "cell_type": "code",
      "metadata": {
        "id": "fXAiWtKbrh9N",
        "colab_type": "code",
        "colab": {},
        "outputId": "cc151ba6-0e2f-464b-a2d7-cd4f79e7c971"
      },
      "source": [
        "sns.set_color_codes(\"pastel\")\n",
        "sns.set_style(\"white\")\n",
        "#sns.lineplot(x='loss', data = )\n",
        "plt.plot(history.history['loss'], label = \"Training Loss\")\n",
        "plt.plot(history.history['val_loss'], label = \"Validation Loss\")\n",
        "plt.legend()\n",
        "plt.show()\n",
        "plt.plot(history.history['acc'],label = \"Training Accuracy\")\n",
        "plt.plot(history.history['val_acc'], label = \"Validation Accuracy\")\n",
        "plt.legend()\n",
        "plt.show()"
      ],
      "execution_count": 0,
      "outputs": [
        {
          "output_type": "display_data",
          "data": {
            "image/png": "[encoded data removed]",
            "text/plain": [
              "<matplotlib.figure.Figure at 0x1f79018ad30>"
            ]
          },
          "metadata": {
            "tags": []
          }
        },
        {
          "output_type": "display_data",
          "data": {
            "image/png": "[encoded data removed]",
            "text/plain": [
              "<matplotlib.figure.Figure at 0x1f785aad630>"
            ]
          },
          "metadata": {
            "tags": []
          }
        }
      ]
    },
    {
      "cell_type": "code",
      "metadata": {
        "id": "vnE53LxTrh9P",
        "colab_type": "code",
        "colab": {},
        "outputId": "99b7694e-6430-4b19-d771-f562d474506f"
      },
      "source": [
        "pred = model.predict(X_test) # Predict values of the test set\n",
        "#y_testCat = to_categorical(y_test, num_classes = classNum) \n",
        "testLoss, testAcc = model.evaluate(X_test, y_test, verbose=0)\n",
        "print(testLoss,testAcc)\n",
        "\n",
        "pred1hot = np.argmax(pred, axis=1) # Convert predicted classes to one hot vectors\n",
        "y_test1hot = np.argmax(y_test, axis=1) # Convert true classes to one hot vectors\n",
        "cm = confusion_matrix(y_test1hot, pred1hot) #confusion matrix\n",
        "\n",
        "plt.figure(figsize=(9,9))\n",
        "sns.heatmap(cm, annot=True, fmt=\".0f\", linewidths=.5, square = True, cmap=\"YlGnBu\");\n",
        "plt.ylabel('True Labels');\n",
        "plt.xlabel('Predicted Labels');\n",
        "\n",
        "plt.title('Test Loss = %.4f, Test Accuracy = %.4f'%(testLoss, testAcc), size = 15);\n",
        "\n",
        "#plot_confusion_matrix(confusion_mtx, classes = range(10)) "
      ],
      "execution_count": 0,
      "outputs": [
        {
          "output_type": "stream",
          "text": [
            "0.914548282623291 0.7800000047683716\n"
          ],
          "name": "stdout"
        },
        {
          "output_type": "display_data",
          "data": {
            "image/png": "[encoded data removed]",
            "text/plain": [
              "<matplotlib.figure.Figure at 0x1f7b9ef5f60>"
            ]
          },
          "metadata": {
            "tags": []
          }
        }
      ]
    }
  ]
}